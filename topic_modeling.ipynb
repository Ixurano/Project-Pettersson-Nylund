{
 "cells": [
  {
   "cell_type": "markdown",
   "metadata": {},
   "source": [
    "# Topic modeling"
   ]
  },
  {
   "cell_type": "markdown",
   "metadata": {},
   "source": [
    "### Instructions\n",
    "\n",
    "Topic Modelling is an NLP method to identify and extract the hidden topics from a large corpus of\n",
    "textual data. As discussed in the previous lectures and hands-on exercises, you can use Latent Dirichlet\n",
    "Allocation [8], which is a popular algorithm for topic modeling with an excellent implementation in\n",
    "Gensim python package [9]. You can use the Gensim python package to build topic models on a\n",
    "Diabetes labeled dataset consisting of texts collected from 42 online forums. Again, the challenge in\n",
    "Topic modeling, in general, is to guess/identify the number of topics and also to extract good quality\n",
    "topics which are clear, segregated, and somewhat meaningful which really depends on finding the\n",
    "optimal number of topics. Therefore, try different combinations of topic numbers (maybe 5, 10, or\n",
    "15) to figure out some sensible topics from the given Diabetes labeled dataset.\n",
    "\n",
    "\n",
    "### Inspiration resource \n",
    "https://www.machinelearningplus.com/nlp/topic-modeling-gensim-python/"
   ]
  },
  {
   "cell_type": "markdown",
   "metadata": {},
   "source": [
    "### imports"
   ]
  },
  {
   "cell_type": "code",
   "execution_count": 20,
   "metadata": {},
   "outputs": [
    {
     "name": "stderr",
     "output_type": "stream",
     "text": [
      "D:\\Program Files\\Anaconda\\lib\\site-packages\\ipykernel\\ipkernel.py:287: DeprecationWarning: `should_run_async` will not call `transform_cell` automatically in the future. Please pass the result to `transformed_cell` argument and any exception that happen during thetransform in `preprocessing_exc_tuple` in IPython 7.17 and above.\n",
      "  and should_run_async(code)\n"
     ]
    }
   ],
   "source": [
    "import re\n",
    "import numpy as np\n",
    "import pandas as pd\n",
    "from pprint import pprint\n",
    "\n",
    "# Gensim\n",
    "import gensim\n",
    "import gensim.corpora as corpora\n",
    "from gensim.utils import simple_preprocess\n",
    "from gensim.models import CoherenceModel\n",
    "\n",
    "# preprocessing\n",
    "import spacy\n",
    "import string\n",
    "from spacy.lang.en.stop_words import STOP_WORDS\n",
    "\n",
    "# Plotting tools\n",
    "import pyLDAvis # you might need to run: `pip install pyLDAvis`\n",
    "import pyLDAvis.gensim_models as gensimvis\n",
    "\n",
    "\n",
    "import matplotlib.pyplot as plt\n",
    "%matplotlib inline\n",
    "\n",
    "# Enable logging for gensim - optional\n",
    "# import logging\n",
    "# logging.basicConfig(format='%(asctime)s : %(levelname)s : %(message)s', level=logging.ERROR)\n",
    "\n",
    "# import warnings\n",
    "# warnings.filterwarnings(\"ignore\",category=DeprecationWarning)"
   ]
  },
  {
   "cell_type": "markdown",
   "metadata": {},
   "source": [
    "TODO\n",
    "- import data\n",
    "- clean emails and newlines\n",
    "- tokenize words and clean up text \n",
    "- creating bigrams and trigrams\n",
    "- remove stopwords, make bigrams and lemmatize \n",
    "- create the dictionary and corpus needed\n",
    "- Build topic model using gensims lda model \n",
    "- compute complexity and coherence score\n",
    "- visualize topic keywords\n"
   ]
  },
  {
   "cell_type": "markdown",
   "metadata": {},
   "source": [
    "### Dataset"
   ]
  },
  {
   "cell_type": "code",
   "execution_count": 7,
   "metadata": {},
   "outputs": [
    {
     "name": "stderr",
     "output_type": "stream",
     "text": [
      "D:\\Program Files\\Anaconda\\lib\\site-packages\\ipykernel\\ipkernel.py:287: DeprecationWarning: `should_run_async` will not call `transform_cell` automatically in the future. Please pass the result to `transformed_cell` argument and any exception that happen during thetransform in `preprocessing_exc_tuple` in IPython 7.17 and above.\n",
      "  and should_run_async(code)\n"
     ]
    }
   ],
   "source": [
    "df = pd.read_excel('Diabetes-classification.xlsx', sheet_name ='Emotions')\n",
    "#df = pd.read_excel('Diabetes-classification.xlsx', sheet_name ='Patient-journey')\n",
    "\n",
    "X = df.loc[:,'discussion_text']"
   ]
  },
  {
   "cell_type": "markdown",
   "metadata": {},
   "source": [
    "### Preprocessing"
   ]
  },
  {
   "cell_type": "code",
   "execution_count": 8,
   "metadata": {},
   "outputs": [
    {
     "name": "stderr",
     "output_type": "stream",
     "text": [
      "D:\\Program Files\\Anaconda\\lib\\site-packages\\ipykernel\\ipkernel.py:287: DeprecationWarning: `should_run_async` will not call `transform_cell` automatically in the future. Please pass the result to `transformed_cell` argument and any exception that happen during thetransform in `preprocessing_exc_tuple` in IPython 7.17 and above.\n",
      "  and should_run_async(code)\n"
     ]
    }
   ],
   "source": [
    "\n",
    "# Basic function to clean the text\n",
    "def clean_text(text):\n",
    " \n",
    "    # remove numbers \n",
    "    text = re.sub(r'\\d+', '', text)\n",
    "\n",
    "    # remove all links\n",
    "    text = re.sub(\n",
    "        r\"(?i)\\b((?:https?:(?:/{1,3}|[a-z0-9%])|[a-z0-9.\\-]+[.](?:com|net|org|edu|gov|mil|aero|asia|biz|cat|coop|info|int|jobs|mobi|museum|name|post|pro|tel|travel|xxx|ac|ad|ae|af|ag|ai|al|am|an|ao|aq|ar|as|at|au|aw|ax|az|ba|bb|bd|be|bf|bg|bh|bi|bj|bm|bn|bo|br|bs|bt|bv|bw|by|bz|ca|cc|cd|cf|cg|ch|ci|ck|cl|cm|cn|co|cr|cs|cu|cv|cx|cy|cz|dd|de|dj|dk|dm|do|dz|ec|ee|eg|eh|er|es|et|eu|fi|fj|fk|fm|fo|fr|ga|gb|gd|ge|gf|gg|gh|gi|gl|gm|gn|gp|gq|gr|gs|gt|gu|gw|gy|hk|hm|hn|hr|ht|hu|id|ie|il|im|in|io|iq|ir|is|it|je|jm|jo|jp|ke|kg|kh|ki|km|kn|kp|kr|kw|ky|kz|la|lb|lc|li|lk|lr|ls|lt|lu|lv|ly|ma|mc|md|me|mg|mh|mk|ml|mm|mn|mo|mp|mq|mr|ms|mt|mu|mv|mw|mx|my|mz|na|nc|ne|nf|ng|ni|nl|no|np|nr|nu|nz|om|pa|pe|pf|pg|ph|pk|pl|pm|pn|pr|ps|pt|pw|py|qa|re|ro|rs|ru|rw|sa|sb|sc|sd|se|sg|sh|si|sj|Ja|sk|sl|sm|sn|so|sr|ss|st|su|sv|sx|sy|sz|tc|td|tf|tg|th|tj|tk|tl|tm|tn|to|tp|tr|tt|tv|tw|tz|ua|ug|uk|us|uy|uz|va|vc|ve|vg|vi|vn|vu|wf|ws|ye|yt|yu|za|zm|zw)/)(?:[^\\s()<>{}\\[\\]]+|\\([^\\s()]*?\\([^\\s()]+\\)[^\\s()]*?\\)|\\([^\\s]+?\\))+(?:\\([^\\s()]*?\\([^\\s()]+\\)[^\\s()]*?\\)|\\([^\\s]+?\\)|[^\\s`!()\\[\\]{};:\\'\\\".,<>?«»“”‘’])|(?:(?<!@)[a-z0-9]+(?:[.\\-][a-z0-9]+)*[.](?:com|net|org|edu|gov|mil|aero|asia|biz|cat|coop|info|int|jobs|mobi|museum|name|post|pro|tel|travel|xxx|ac|ad|ae|af|ag|ai|al|am|an|ao|aq|ar|as|at|au|aw|ax|az|ba|bb|bd|be|bf|bg|bh|bi|bj|bm|bn|bo|br|bs|bt|bv|bw|by|bz|ca|cc|cd|cf|cg|ch|ci|ck|cl|cm|cn|co|cr|cs|cu|cv|cx|cy|cz|dd|de|dj|dk|dm|do|dz|ec|ee|eg|eh|er|es|et|eu|fi|fj|fk|fm|fo|fr|ga|gb|gd|ge|gf|gg|gh|gi|gl|gm|gn|gp|gq|gr|gs|gt|gu|gw|gy|hk|hm|hn|hr|ht|hu|id|ie|il|im|in|io|iq|ir|is|it|je|jm|jo|jp|ke|kg|kh|ki|km|kn|kp|kr|kw|ky|kz|la|lb|lc|li|lk|lr|ls|lt|lu|lv|ly|ma|mc|md|me|mg|mh|mk|ml|mm|mn|mo|mp|mq|mr|ms|mt|mu|mv|mw|mx|my|mz|na|nc|ne|nf|ng|ni|nl|no|np|nr|nu|nz|om|pa|pe|pf|pg|ph|pk|pl|pm|pn|pr|ps|pt|pw|py|qa|re|ro|rs|ru|rw|sa|sb|sc|sd|se|sg|sh|si|sj|Ja|sk|sl|sm|sn|so|sr|ss|st|su|sv|sx|sy|sz|tc|td|tf|tg|th|tj|tk|tl|tm|tn|to|tp|tr|tt|tv|tw|tz|ua|ug|uk|us|uy|uz|va|vc|ve|vg|vi|vn|vu|wf|ws|ye|yt|yu|za|zm|zw)\\b/?(?!@)))\", \n",
    "        'link_to_website', \n",
    "        text\n",
    "    )\n",
    "\n",
    "    # Removing spaces and converting text into lowercase\n",
    "    return text.strip().lower()\n",
    "\n",
    "\n",
    "# Create our list of punctuation marks\n",
    "punctuations = string.punctuation\n",
    "punctuations += \"....\"\n",
    "\n",
    "# Create our list of stopwords\n",
    "stop_words = STOP_WORDS \n",
    "\n",
    "# Load English tokenizer, tagger, parser, NER and word vectors\n",
    "parser = spacy.load('en_core_web_sm')\n",
    "\n",
    "\n",
    "# Creating our tokenizer function\n",
    "def spacy_tokenizer(sentence, allowed_postags=['NOUN', 'ADJ', 'VERB', 'ADV']):\n",
    "    # Creating our token object, which is used to create documents with linguistic annotations.\n",
    "    mytokens = parser(sentence)\n",
    "\n",
    "    # Lemmatizing each token and converting each token into lowercase\n",
    "    mytokens = [ word.lemma_.lower().strip() if word.lemma_ != \"-PRON-\" else word.lower_ for word in mytokens if word.pos_ in allowed_postags]\n",
    "\n",
    "    # Removing stop words\n",
    "    mytokens = [ word for word in mytokens if word not in stop_words and word not in punctuations ]\n",
    "\n",
    "    # return preprocessed list of tokens\n",
    "    return mytokens\n",
    "\n",
    "X = [spacy_tokenizer(clean_text(text)) for text in X]"
   ]
  },
  {
   "cell_type": "markdown",
   "metadata": {},
   "source": [
    "### Bigram and Trigram models\n",
    "Tbh, I'm not sure if this is needed"
   ]
  },
  {
   "cell_type": "code",
   "execution_count": 9,
   "metadata": {},
   "outputs": [
    {
     "name": "stderr",
     "output_type": "stream",
     "text": [
      "D:\\Program Files\\Anaconda\\lib\\site-packages\\ipykernel\\ipkernel.py:287: DeprecationWarning: `should_run_async` will not call `transform_cell` automatically in the future. Please pass the result to `transformed_cell` argument and any exception that happen during thetransform in `preprocessing_exc_tuple` in IPython 7.17 and above.\n",
      "  and should_run_async(code)\n"
     ]
    },
    {
     "name": "stdout",
     "output_type": "stream",
     "text": [
      "['low', 'carb', 'diet', 'blood', 'glucose', 'pretty', 'normal', 'hypo', 'type', 'symptom', 'briefly', 'try', 'associate', 'type', 'diabetes']\n"
     ]
    }
   ],
   "source": [
    "# Build the bigram and trigram models\n",
    "bigram = gensim.models.Phrases(X, min_count=5, threshold=100) # higher threshold fewer phrases.\n",
    "trigram = gensim.models.Phrases(bigram[X], threshold=100)  \n",
    "\n",
    "# Faster way to get a sentence clubbed as a trigram/bigram\n",
    "bigram_mod = gensim.models.phrases.Phraser(bigram)\n",
    "trigram_mod = gensim.models.phrases.Phraser(trigram)\n",
    "\n",
    "# See trigram example\n",
    "print(trigram_mod[bigram_mod[X[0]]])"
   ]
  },
  {
   "cell_type": "markdown",
   "metadata": {},
   "source": [
    "### Creating Dictionary and corpus"
   ]
  },
  {
   "cell_type": "code",
   "execution_count": 10,
   "metadata": {},
   "outputs": [
    {
     "name": "stdout",
     "output_type": "stream",
     "text": [
      "[[(0, 1), (1, 1), (2, 1), (3, 1), (4, 1), (5, 1), (6, 1), (7, 1), (8, 1), (9, 1), (10, 1), (11, 1), (12, 1), (13, 2)]]\n"
     ]
    },
    {
     "name": "stderr",
     "output_type": "stream",
     "text": [
      "D:\\Program Files\\Anaconda\\lib\\site-packages\\ipykernel\\ipkernel.py:287: DeprecationWarning: `should_run_async` will not call `transform_cell` automatically in the future. Please pass the result to `transformed_cell` argument and any exception that happen during thetransform in `preprocessing_exc_tuple` in IPython 7.17 and above.\n",
      "  and should_run_async(code)\n"
     ]
    }
   ],
   "source": [
    "# Create Dictionary\n",
    "id2word = corpora.Dictionary(X)\n",
    "\n",
    "# Create Corpus\n",
    "texts = X\n",
    "\n",
    "# Term Document Frequency\n",
    "corpus = [id2word.doc2bow(text) for text in texts]\n",
    "\n",
    "# View\n",
    "print(corpus[:1])"
   ]
  },
  {
   "cell_type": "markdown",
   "metadata": {},
   "source": [
    "### Building LDA (Latent Dirichlet Allocation) model"
   ]
  },
  {
   "cell_type": "code",
   "execution_count": 27,
   "metadata": {},
   "outputs": [
    {
     "name": "stderr",
     "output_type": "stream",
     "text": [
      "D:\\Program Files\\Anaconda\\lib\\site-packages\\ipykernel\\ipkernel.py:287: DeprecationWarning: `should_run_async` will not call `transform_cell` automatically in the future. Please pass the result to `transformed_cell` argument and any exception that happen during thetransform in `preprocessing_exc_tuple` in IPython 7.17 and above.\n",
      "  and should_run_async(code)\n"
     ]
    }
   ],
   "source": [
    "lda_model = gensim.models.ldamodel.LdaModel(\n",
    "  corpus=corpus,\n",
    "  id2word=id2word,\n",
    "  num_topics=12, \n",
    "  random_state=100,\n",
    "  update_every=1,\n",
    "  chunksize=100,\n",
    "  passes=10,\n",
    "  alpha='auto',\n",
    "  per_word_topics=True\n",
    ")"
   ]
  },
  {
   "cell_type": "markdown",
   "metadata": {},
   "source": [
    "### View topics"
   ]
  },
  {
   "cell_type": "code",
   "execution_count": 12,
   "metadata": {},
   "outputs": [
    {
     "name": "stdout",
     "output_type": "stream",
     "text": [
      "[(0,\n",
      "  '0.192*\"life\" + 0.114*\"question\" + 0.065*\"sorry\" + 0.043*\"short\" + '\n",
      "  '0.042*\"parent\" + 0.036*\"totally\" + 0.033*\"enjoy\" + 0.020*\"nice\" + '\n",
      "  '0.017*\"speak\" + 0.016*\"bear\"'),\n",
      " (1,\n",
      "  '0.096*\"cancer\" + 0.075*\"foot\" + 0.062*\"obese\" + 0.061*\"relate\" + '\n",
      "  '0.058*\"line\" + 0.054*\"concern\" + 0.043*\"leg\" + 0.034*\"drop\" + '\n",
      "  '0.029*\"seriously\" + 0.023*\"clear\"'),\n",
      " (2,\n",
      "  '0.348*\"want\" + 0.110*\"friend\" + 0.054*\"doc\" + 0.042*\"send\" + 0.024*\"focus\" '\n",
      "  '+ 0.021*\"dietician\" + 0.015*\"encourage\" + 0.014*\"message\" + '\n",
      "  '0.012*\"injectable\" + 0.011*\"brief\"'),\n",
      " (3,\n",
      "  '0.089*\"rate\" + 0.080*\"local\" + 0.077*\"event\" + 0.043*\"office\" + '\n",
      "  '0.024*\"dieting\" + 0.000*\"area\" + 0.000*\"gp\" + 0.000*\"peptide\" + '\n",
      "  '0.000*\"postcode\" + 0.000*\"register\"'),\n",
      " (4,\n",
      "  '0.100*\"eye\" + 0.060*\"visit\" + 0.053*\"management\" + 0.051*\"job\" + '\n",
      "  '0.047*\"potato\" + 0.044*\"practice\" + 0.038*\"overall\" + 0.038*\"list\" + '\n",
      "  '0.034*\"odd\" + 0.021*\"suspect\"'),\n",
      " (5,\n",
      "  '0.109*\"diabetes\" + 0.087*\"type\" + 0.027*\"insulin\" + 0.023*\"eat\" + '\n",
      "  '0.023*\"diet\" + 0.023*\"blood\" + 0.020*\"sugar\" + 0.018*\"people\" + '\n",
      "  '0.016*\"know\" + 0.016*\"diagnose\"'),\n",
      " (6,\n",
      "  '0.067*\"mother\" + 0.061*\"monitor\" + 0.058*\"maintain\" + 0.047*\"sound\" + '\n",
      "  '0.046*\"sign\" + 0.041*\"majority\" + 0.038*\"glycemic\" + 0.035*\"regularly\" + '\n",
      "  '0.031*\"clinical\" + 0.029*\"fail\"'),\n",
      " (7,\n",
      "  '0.082*\"test\" + 0.068*\"work\" + 0.067*\"week\" + 0.047*\"read\" + 0.040*\"med\" + '\n",
      "  '0.034*\"ask\" + 0.032*\"try\" + 0.030*\"advice\" + 0.028*\"sure\" + 0.025*\"issue\"'),\n",
      " (8,\n",
      "  '0.081*\"study\" + 0.049*\"hear\" + 0.047*\"article\" + 0.042*\"night\" + '\n",
      "  '0.042*\"common\" + 0.041*\"dietary\" + 0.040*\"breakfast\" + 0.037*\"prevent\" + '\n",
      "  '0.028*\"notice\" + 0.021*\"simple\"'),\n",
      " (9,\n",
      "  '0.149*\"link\" + 0.093*\"factor\" + 0.061*\"free\" + 0.058*\"cost\" + '\n",
      "  '0.050*\"affect\" + 0.047*\"excess\" + 0.038*\"rest\" + 0.037*\"nhs\" + '\n",
      "  '0.035*\"strip\" + 0.030*\"clinic\"'),\n",
      " (10,\n",
      "  '0.253*\"year\" + 0.103*\"tell\" + 0.101*\"ago\" + 0.084*\"month\" + 0.046*\"fast\" + '\n",
      "  '0.039*\"pregnancy\" + 0.037*\"diagnosis\" + 0.036*\"ac\" + 0.033*\"diagnose\" + '\n",
      "  '0.026*\"pregnant\"'),\n",
      " (11,\n",
      "  '0.334*\"weight\" + 0.215*\"lose\" + 0.063*\"loss\" + 0.058*\"pound\" + '\n",
      "  '0.055*\"surgery\" + 0.041*\"baby\" + 0.026*\"weigh\" + 0.022*\"product\" + '\n",
      "  '0.015*\"trouble\" + 0.009*\"remission\"'),\n",
      " (12,\n",
      "  '0.250*\"fat\" + 0.086*\"little\" + 0.072*\"gain\" + 0.070*\"calorie\" + 0.034*\"dad\" '\n",
      "  '+ 0.032*\"fine\" + 0.031*\"grain\" + 0.030*\"protein\" + 0.026*\"rice\" + '\n",
      "  '0.026*\"kid\"'),\n",
      " (13,\n",
      "  '0.287*\"low\" + 0.265*\"carb\" + 0.038*\"turn\" + 0.031*\"agree\" + 0.030*\"regard\" '\n",
      "  '+ 0.024*\"completely\" + 0.019*\"diet\" + 0.019*\"snack\" + 0.014*\"g\" + '\n",
      "  '0.013*\"folk\"'),\n",
      " (14,\n",
      "  '0.100*\"high\" + 0.053*\"food\" + 0.047*\"risk\" + 0.047*\"disease\" + '\n",
      "  '0.038*\"health\" + 0.037*\"develop\" + 0.028*\"old\" + 0.027*\"heart\" + '\n",
      "  '0.027*\"obesity\" + 0.026*\"increase\"'),\n",
      " (15,\n",
      "  '0.340*\"day\" + 0.135*\"hour\" + 0.059*\"range\" + 0.041*\"walk\" + 0.038*\"plan\" + '\n",
      "  '0.034*\"tablet\" + 0.026*\"appreciate\" + 0.025*\"info\" + 0.022*\"luck\" + '\n",
      "  '0.021*\"goal\"'),\n",
      " (16,\n",
      "  '0.087*\"forum\" + 0.068*\"follow\" + 0.054*\"experience\" + 0.047*\"early\" + '\n",
      "  '0.043*\"complication\" + 0.038*\"deal\" + 0.035*\"thread\" + 0.032*\"figure\" + '\n",
      "  '0.032*\"away\" + 0.030*\"begin\"'),\n",
      " (17,\n",
      "  '0.079*\"habit\" + 0.070*\"system\" + 0.061*\"worry\" + 0.056*\"newly\" + '\n",
      "  '0.047*\"personally\" + 0.040*\"fall\" + 0.039*\"class\" + 0.033*\"type-\" + '\n",
      "  '0.023*\"consumption\" + 0.021*\"google\"'),\n",
      " (18,\n",
      "  '0.101*\"pretty\" + 0.093*\"course\" + 0.063*\"real\" + 0.062*\"interesting\" + '\n",
      "  '0.049*\"decide\" + 0.034*\"steroid\" + 0.031*\"plenty\" + 0.026*\"relationship\" + '\n",
      "  '0.025*\"necessary\" + 0.024*\"typical\"'),\n",
      " (19,\n",
      "  '0.124*\"symptom\" + 0.095*\"cell\" + 0.072*\"produce\" + 0.061*\"big\" + '\n",
      "  '0.055*\"body\" + 0.049*\"eating\" + 0.033*\"late\" + 0.032*\"extra\" + '\n",
      "  '0.030*\"infection\" + 0.030*\"pancreas\"')]\n"
     ]
    },
    {
     "name": "stderr",
     "output_type": "stream",
     "text": [
      "D:\\Program Files\\Anaconda\\lib\\site-packages\\ipykernel\\ipkernel.py:287: DeprecationWarning: `should_run_async` will not call `transform_cell` automatically in the future. Please pass the result to `transformed_cell` argument and any exception that happen during thetransform in `preprocessing_exc_tuple` in IPython 7.17 and above.\n",
      "  and should_run_async(code)\n"
     ]
    }
   ],
   "source": [
    "# Print the Keyword in the 10 topics\n",
    "pprint(lda_model.print_topics())\n",
    "doc_lda = lda_model[corpus]"
   ]
  },
  {
   "cell_type": "markdown",
   "metadata": {},
   "source": [
    "### Show model complexity and coherence"
   ]
  },
  {
   "cell_type": "code",
   "execution_count": 23,
   "metadata": {},
   "outputs": [
    {
     "name": "stderr",
     "output_type": "stream",
     "text": [
      "D:\\Program Files\\Anaconda\\lib\\site-packages\\ipykernel\\ipkernel.py:287: DeprecationWarning: `should_run_async` will not call `transform_cell` automatically in the future. Please pass the result to `transformed_cell` argument and any exception that happen during thetransform in `preprocessing_exc_tuple` in IPython 7.17 and above.\n",
      "  and should_run_async(code)\n"
     ]
    },
    {
     "name": "stdout",
     "output_type": "stream",
     "text": [
      "\n",
      "Perplexity:  -7.220811864245097\n",
      "\n",
      "Coherence Score:  0.4625464462292963\n"
     ]
    }
   ],
   "source": [
    "# Compute Perplexity\n",
    "print('\\nPerplexity: ', lda_model.log_perplexity(corpus))  # a measure of how good the model is. lower the better.\n",
    "\n",
    "# Compute Coherence Score\n",
    "coherence_model_lda = CoherenceModel(model=lda_model, texts=X, dictionary=id2word, coherence='c_v')\n",
    "coherence_lda = coherence_model_lda.get_coherence()\n",
    "print('\\nCoherence Score: ', coherence_lda)"
   ]
  },
  {
   "cell_type": "markdown",
   "metadata": {},
   "source": [
    "### Visualize the topics"
   ]
  },
  {
   "cell_type": "code",
   "execution_count": 28,
   "metadata": {},
   "outputs": [
    {
     "name": "stderr",
     "output_type": "stream",
     "text": [
      "D:\\Program Files\\Anaconda\\lib\\site-packages\\ipykernel\\ipkernel.py:287: DeprecationWarning: `should_run_async` will not call `transform_cell` automatically in the future. Please pass the result to `transformed_cell` argument and any exception that happen during thetransform in `preprocessing_exc_tuple` in IPython 7.17 and above.\n",
      "  and should_run_async(code)\n"
     ]
    },
    {
     "data": {
      "text/html": [
       "\n",
       "<link rel=\"stylesheet\" type=\"text/css\" href=\"https://cdn.jsdelivr.net/gh/bmabey/pyLDAvis@3.3.1/pyLDAvis/js/ldavis.v1.0.0.css\">\n",
       "\n",
       "\n",
       "<div id=\"ldavis_el180427586903292001444686684\"></div>\n",
       "<script type=\"text/javascript\">\n",
       "\n",
       "var ldavis_el180427586903292001444686684_data = {\"mdsDat\": {\"x\": [0.30997656368262, 0.23154367090540529, 0.1633799381940281, 0.15636523829995477, 0.01992847318721881, -0.09380398057537918, -0.10830775484905197, -0.1153942472085462, -0.14040522518043963, -0.13701641779993232, -0.14034350020138897, -0.1459227584544882], \"y\": [-0.048594789620471146, 0.2534044299089024, -0.3644096594790691, 0.09402976855944088, 0.06491674766068761, 0.0141764584550783, 0.0020263665603608943, -0.02785251327137661, 0.0027905112725136977, 0.0032617751725328857, 0.002819516500668452, 0.003431388280731411], \"topics\": [1, 2, 3, 4, 5, 6, 7, 8, 9, 10, 11, 12], \"cluster\": [1, 1, 1, 1, 1, 1, 1, 1, 1, 1, 1, 1], \"Freq\": [42.11977029699751, 15.571261622795655, 12.319733611987296, 9.431620478726192, 7.379698110509697, 2.7765488510154723, 2.6818222514899603, 2.150925360976782, 1.6040427496358856, 1.4318579190907945, 1.4277480402630802, 1.1049707065116858]}, \"tinfo\": {\"Term\": [\"diabetes\", \"type\", \"blood\", \"sugar\", \"eat\", \"know\", \"high\", \"good\", \"low\", \"test\", \"t\", \"level\", \"diet\", \"doctor\", \"disease\", \"risk\", \"year\", \"ago\", \"fat\", \"lot\", \"people\", \"carb\", \"health\", \"month\", \"food\", \"feel\", \"insulin\", \"thing\", \"try\", \"find\", \"diabetes\", \"type\", \"year\", \"weight\", \"control\", \"lose\", \"use\", \"work\", \"start\", \"exercise\", \"metformin\", \"long\", \"change\", \"diabete\", \"bad\", \"med\", \"medication\", \"new\", \"life\", \"mean\", \"time\", \"old\", \"family\", \"pre\", \"reverse\", \"lifestyle\", \"overweight\", \"drug\", \"manage\", \"daily\", \"need\", \"help\", \"diagnose\", \"diabetic\", \"people\", \"problem\", \"day\", \"insulin\", \"think\", \"diet\", \"week\", \"sugar\", \"fat\", \"food\", \"body\", \"low\", \"resistance\", \"heart\", \"obesity\", \"pressure\", \"cholesterol\", \"issue\", \"carbohydrate\", \"run\", \"lead\", \"lower\", \"fruit\", \"m\", \"case\", \"blood\", \"process\", \"thread\", \"recommend\", \"turn\", \"site\", \"relate\", \"avoid\", \"dose\", \"concern\", \"cut\", \"excess\", \"cell\", \"level\", \"high\", \"glucose\", \"carb\", \"cause\", \"diet\", \"eat\", \"insulin\", \"way\", \"effect\", \"test\", \"t\", \"feel\", \"read\", \"ask\", \"forum\", \"advice\", \"follow\", \"like\", \"question\", \"diagnosis\", \"learn\", \"later\", \"today\", \"course\", \"information\", \"let\", \"deal\", \"medical\", \"big\", \"sorry\", \"figure\", \"self\", \"opinion\", \"book\", \"line\", \"head\", \"plan\", \"member\", \"home\", \"know\", \"good\", \"post\", \"hope\", \"look\", \"doctor\", \"thing\", \"want\", \"tell\", \"find\", \"week\", \"think\", \"month\", \"hour\", \"number\", \"link\", \"sure\", \"fast\", \"check\", \"meal\", \"ac\", \"bg\", \"hard\", \"nurse\", \"surgery\", \"support\", \"gp\", \"watch\", \"bit\", \"hear\", \"pregnant\", \"testing\", \"especially\", \"couple\", \"away\", \"husband\", \"expect\", \"kind\", \"affect\", \"regard\", \"lbs\", \"glad\", \"ago\", \"lot\", \"drink\", \"history\", \"eat\", \"try\", \"find\", \"carb\", \"normal\", \"increase\", \"study\", \"patient\", \"condition\", \"thank\", \"improve\", \"complication\", \"range\", \"consider\", \"article\", \"common\", \"dietary\", \"breakfast\", \"base\", \"prevent\", \"walk\", \"term\", \"mom\", \"intake\", \"total\", \"metabolic\", \"suppose\", \"evidence\", \"parent\", \"small\", \"protein\", \"compare\", \"appreciate\", \"percent\", \"hypoglycemia\", \"health\", \"risk\", \"reduce\", \"disease\", \"develop\", \"suggest\", \"factor\", \"cancer\", \"free\", \"obese\", \"cost\", \"instead\", \"explain\", \"group\", \"rest\", \"future\", \"nhs\", \"difference\", \"addition\", \"strip\", \"individual\", \"exactly\", \"infection\", \"clinic\", \"local\", \"illness\", \"thin\", \"present\", \"register\", \"education\", \"glass\", \"understanding\", \"offer\", \"receive\", \"challenge\", \"myth\", \"people\", \"pregnancy\", \"water\", \"maybe\", \"baby\", \"real\", \"sweet\", \"lchf\", \"personally\", \"active\", \"twice\", \"monitor\", \"coffee\", \"maintain\", \"late\", \"sensitivity\", \"ok\", \"snack\", \"advise\", \"average\", \"job\", \"endocrinologist\", \"pay\", \"constantly\", \"majority\", \"introduce\", \"trial\", \"nation\", \"gd\", \"alcohol\", \"explanation\", \"recently\", \"calorie\", \"pretty\", \"genetic\", \"habit\", \"huge\", \"interesting\", \"eating\", \"area\", \"tablet\", \"juice\", \"paper\", \"prior\", \"physical\", \"activity\", \"blame\", \"relationship\", \"solution\", \"typical\", \"relatively\", \"carry\", \"zinc\", \"starch\", \"predisposition\", \"gym\", \"directly\", \"apply\", \"curative\", \"tip\", \"milk\", \"look\", \"hbac\", \"meter\", \"answer\", \"option\", \"continue\", \"struggle\", \"short\", \"enjoy\", \"sound\", \"money\", \"stuff\", \"save\", \"folk\", \"clear\", \"nice\", \"sort\", \"public\", \"center\", \"resource\", \"speak\", \"absolute\", \"decade\", \"reaction\", \"oil\", \"possibility\", \"initially\", \"insurance\", \"barely\", \"healthcare\", \"dead\", \"foot\", \"eye\", \"place\", \"welcome\", \"leg\", \"neuropathy\", \"suffer\", \"totally\", \"soda\", \"community\", \"drop\", \"event\", \"ketone\", \"extreme\", \"dry\", \"share\", \"shake\", \"fluid\", \"bet\", \"repeat\", \"interest\", \"numb\", \"finger\", \"thirsty\", \"joint\", \"lifetime\", \"fatigue\", \"sensation\", \"painful\", \"toe\", \"little\", \"night\", \"dad\", \"notice\", \"fine\", \"kid\", \"quit\", \"wake\", \"battle\", \"fairly\", \"proper\", \"smoking\", \"white\", \"gi\", \"role\", \"piece\", \"hypo\", \"play\", \"hrs\", \"moment\", \"light\", \"bean\", \"dairy\", \"sedentary\", \"prevention\", \"slim\", \"replace\", \"sudden\", \"advocate\", \"house\", \"appointment\", \"system\", \"worry\", \"birth\", \"wait\", \"urine\", \"drive\", \"bed\", \"list\", \"complete\", \"possibly\", \"focus\", \"primary\", \"arthritis\", \"pharmaceutical\", \"brown\", \"development\", \"dietician\", \"iron\", \"suspect\", \"cook\", \"stimulate\", \"l\", \"dm\", \"entirely\", \"ob\", \"company\", \"encounter\", \"apart\", \"block\"], \"Freq\": [5142.0, 4095.0, 1039.0, 922.0, 1038.0, 715.0, 780.0, 595.0, 626.0, 530.0, 529.0, 615.0, 1116.0, 540.0, 385.0, 378.0, 1059.0, 384.0, 447.0, 397.0, 836.0, 574.0, 307.0, 320.0, 406.0, 356.0, 1299.0, 363.0, 451.0, 453.0, 5141.8558018270005, 4094.4100509866626, 1058.753981357921, 790.5586507959847, 608.2977406078431, 510.1216010537636, 481.51263662023405, 480.82225438467293, 475.7600782650202, 463.1232261034039, 437.13332824493847, 353.9900097598338, 351.8910508775351, 346.0741843694957, 308.3310811923622, 282.56514137825786, 269.0517855008118, 260.9960788732603, 259.3261478107767, 235.875441559709, 532.7912453715087, 218.25020558323797, 233.6899848103708, 212.4000845170168, 194.5633359445535, 190.62385131682447, 189.1347594221186, 182.8314799722031, 166.5836870127881, 163.85389196300815, 548.8015743739437, 609.4865810584605, 846.3890922487512, 674.9158646927195, 788.9421831387127, 293.13148711349265, 586.0586447756303, 1085.6323881878775, 572.8199291301954, 610.4568858385238, 345.15694281945525, 921.282165494304, 447.0883147262175, 405.6531143407099, 314.74068121205033, 624.3906011068693, 222.6599004010729, 203.54130356253242, 202.16672640353224, 190.45198968908915, 169.02536841315907, 167.90659569327755, 162.5052474582938, 139.04489878422572, 127.08489101569967, 124.60640918732486, 123.57896032393977, 115.16876248876903, 112.84978303506068, 1030.4692227795977, 95.54216652753715, 86.82383759191163, 83.33905503766373, 82.82758670318741, 82.70274685821008, 76.98333329798014, 75.7668900612366, 71.55736771369942, 68.05927788439588, 64.72489194850901, 63.90639467254583, 136.50777322230937, 588.7185825675863, 733.1349011627407, 368.8939084425724, 428.3291548579406, 344.472166472794, 504.8893478767192, 435.8237470753301, 213.35113972840347, 125.63755657073654, 100.56157599641561, 529.4073382848095, 528.4121927877283, 355.81259868927197, 302.06067262920175, 218.28536376704702, 207.93320530356152, 196.81716557178015, 170.61253364013476, 159.67622172660418, 141.98831229752562, 137.02684130724353, 123.88718690181028, 113.61664628766785, 113.61380201154704, 108.33987031737664, 95.04009370069815, 93.25068702309247, 91.55118522155219, 89.63699324467125, 84.83055871265294, 80.96957092706184, 76.62660123981453, 76.00601062283916, 72.16515516205374, 72.12758847806312, 70.19338707719652, 68.86022335807976, 67.20317501123148, 61.95070414120715, 59.957393298323844, 688.890231169079, 573.8983715245826, 224.83881004617902, 113.48998821399205, 260.89482056660836, 469.7515611561109, 323.30952212280664, 296.7630854533847, 255.70587771570197, 275.5253555577829, 114.17392542506533, 91.04349949124871, 319.7119504956873, 238.74383811866844, 203.41122840663036, 195.58849094641803, 186.202241871461, 171.857223081763, 168.62946168115585, 149.21575906829045, 136.95970871740508, 133.07705959577004, 132.50381441851135, 122.78809184456341, 121.24162381649951, 116.25228855277416, 112.34087501828661, 107.81742467313276, 105.63952849813688, 98.26482589095022, 97.87863004511931, 90.25965395059332, 86.92937116448913, 85.35167448259627, 77.65465811656485, 77.50897219003649, 73.97427389427769, 72.43039555945815, 65.1216629234304, 63.04251560501851, 63.001268691510695, 61.25152766551764, 339.9372575948072, 340.29103299026417, 124.71390960898178, 83.15270232659445, 539.6791326178487, 207.1695095264025, 174.74975810080875, 144.92340076147096, 101.41959199339647, 211.38622374827034, 177.8139288800626, 175.91875611754764, 171.61411272912144, 137.6015740660254, 123.10378989887262, 114.88150959990608, 114.78072819669339, 114.46272059100849, 102.44333580828813, 91.38657679112268, 90.10266209967251, 89.12841148602196, 82.01965561407852, 81.24527105580441, 80.1049982599726, 74.53084152990834, 71.27369651632395, 70.4499799730071, 67.5795399484858, 63.26663716858998, 62.55414896676235, 58.90869336084956, 57.29791220028335, 57.027602930903996, 56.64590756425607, 53.56019400324244, 50.67204326322682, 48.45243347059769, 44.6727907987752, 295.6933662083036, 357.50583864837574, 198.4829648850434, 339.81475498438095, 78.07878303008285, 58.17492565723047, 113.68259799487004, 109.82763019057198, 74.99031669079699, 71.29184896174341, 70.42941816243649, 57.81417623085744, 57.06553153284837, 53.01627212719664, 46.05872185489122, 46.03228941795042, 45.53257390951036, 45.155392003455546, 43.120490054177836, 42.63012086550637, 42.425636156733624, 42.404007459081164, 39.92193568114621, 37.107129115920465, 36.50145963245774, 36.46680728798126, 35.87299810756103, 34.348392555402974, 34.34673327368284, 31.400458309273596, 29.088509072088357, 29.07067904800823, 25.87541949670705, 25.207588940981548, 24.775278784708288, 23.693358516017916, 26.344173177564855, 127.5315499315221, 96.27565394107758, 83.86956189365776, 78.1852976633398, 64.56690740526822, 60.92981403172441, 44.43666746233761, 43.00722113443963, 42.982276517103664, 42.91603441684825, 42.666274843291184, 42.14522280944505, 40.63592313044296, 40.03641403255095, 36.73833049365146, 35.90264249742207, 34.85273654839348, 34.41900596303775, 34.38584924134286, 33.9665325170974, 32.70357558511024, 32.4268177311352, 31.130421252884783, 29.127085656238123, 28.193774772510235, 27.47068917402635, 25.772697096512257, 25.42861425542095, 24.9405737090319, 24.47182638454969, 154.58882312561002, 103.40009378117112, 101.96922698450203, 77.72409257721222, 70.3193804055039, 65.9250020584837, 62.97362522640306, 59.22340464554535, 54.01014739011121, 51.48628947544719, 47.12879756574293, 40.705027572526305, 37.48248535871009, 34.09585060987126, 33.9663700188276, 32.54630757640168, 26.761361631818776, 24.987722762912682, 24.761724363867245, 23.860773643317813, 23.610209490090938, 21.27233278801691, 20.358509620450686, 20.27997727144158, 19.31986111415136, 19.100210043322175, 18.37720521838067, 18.15643018408756, 17.99164487885718, 17.276536408142203, 23.990781475404553, 80.23343418126025, 71.29618258295457, 59.92591661853947, 59.15222096397204, 58.30466700062161, 55.2733552234751, 48.07494071810128, 37.01058994341975, 33.26636504693818, 32.8380435481618, 29.520527776515284, 26.483004244940755, 24.845039582232292, 24.441121622134975, 22.175749950418457, 21.046263716724482, 20.44730337311226, 19.89270617263047, 19.583134947844687, 19.21307836449815, 18.590700499163415, 18.35328986617516, 17.580433926202886, 17.40825433462349, 16.223308838076214, 15.450367555059788, 14.087893286844219, 13.586665968616902, 13.270550761124078, 12.581306620695191, 72.29393335957316, 59.97862504635808, 55.78890044726621, 41.69311916154394, 41.42192500335762, 37.221880470059574, 35.685600594029744, 35.413073251619586, 34.63969036258561, 33.25672667229743, 33.132599058705495, 29.610718132233785, 25.6868304673757, 24.744671897171784, 24.62268009912212, 24.081165154455302, 23.54775814649674, 18.51738879349401, 17.041245048703843, 17.029917063977397, 16.035829607862826, 15.485691137895065, 15.371437249911938, 15.127331218526752, 13.992086760948784, 13.518522039543809, 13.444579289235008, 13.220971645487401, 12.77326525645667, 11.942473822273646, 118.33582969209819, 66.77701107206168, 47.39607375349643, 44.31275366835049, 43.888634344252864, 36.04952941603134, 32.65815920043499, 29.944783048975957, 26.332004260751624, 24.637325666541624, 24.059443079270707, 23.761034860659628, 23.50199461692209, 22.63674019183987, 19.39347261784878, 19.156952776524946, 18.68815211673855, 18.548203320387394, 18.43227655790832, 18.265469312708152, 17.72120726355455, 16.459524846435507, 16.456559565163587, 16.012833573406184, 16.010477354938974, 15.864877432431003, 15.059908016628983, 14.64886794322844, 14.464605419251042, 14.459263572202183, 58.78489682400303, 55.37305252917689, 47.87665174677933, 42.497066443079675, 38.631934977247234, 33.34232556446849, 26.658435233264765, 24.424506011216653, 21.73823865563211, 19.041326123117855, 19.02785692982316, 17.945567880336423, 17.25568902751672, 17.06788459050387, 16.99311324568484, 16.541960359165532, 16.38299658296265, 16.218398421692537, 12.340992457964417, 12.298586020400428, 12.153867254627459, 12.115774528306488, 11.130029044974615, 10.439141314933071, 10.240130047178143, 9.908024672835918, 9.73786351427285, 9.274318549994337, 8.690430070489457, 8.192778022317354], \"Total\": [5142.0, 4095.0, 1039.0, 922.0, 1038.0, 715.0, 780.0, 595.0, 626.0, 530.0, 529.0, 615.0, 1116.0, 540.0, 385.0, 378.0, 1059.0, 384.0, 447.0, 397.0, 836.0, 574.0, 307.0, 320.0, 406.0, 356.0, 1299.0, 363.0, 451.0, 453.0, 5142.734046588026, 4095.2879364791083, 1059.652524413671, 791.4365334506492, 609.1756250872618, 510.99948226168215, 482.39052125901355, 481.7001509825205, 476.6379645685582, 464.00110944490723, 438.01120857502093, 354.8678967952365, 352.7689352576299, 346.95206873960046, 309.20897490982907, 283.4430276642249, 269.92966263842277, 261.8739631871176, 260.20403443662076, 236.75332813442733, 534.9120681970077, 219.12808773487203, 234.63353320911853, 213.27797623866604, 195.44122644169403, 191.5017362068069, 190.01264443220686, 183.70936491177997, 167.46157064580743, 164.73178316160875, 553.6103833678583, 615.870803783611, 884.3987741014228, 703.0812577951007, 836.1962475382848, 298.4497538144626, 642.0495140603487, 1299.7705669954894, 664.6547423191786, 1116.1332745133832, 460.12218354369105, 922.1633946695182, 447.9695444733502, 406.5343487617444, 315.62338547283986, 626.5737948588286, 223.54113776260644, 204.4225357756696, 203.04796053897346, 191.3332218427106, 169.90660267068012, 168.78783046513072, 163.38647563300705, 139.92614642458335, 127.96612284340051, 125.48763849136061, 124.46018814225552, 116.0500123848331, 113.73102341788473, 1039.2831191690182, 96.42340325511923, 87.70508487567447, 84.22029686733119, 83.7088278173258, 83.58401328523489, 77.86456510470445, 76.64812241223468, 72.4386008557827, 68.94898725680963, 65.60613192608008, 64.78762517476956, 138.905390178804, 615.8330382295901, 780.8639306758546, 420.07467840382117, 574.0460394042572, 520.8497167600412, 1116.1332745133832, 1038.8518013725356, 1299.7705669954894, 311.39131794055305, 171.4991242592927, 530.2944834124312, 529.3058779344188, 356.6981018433743, 303.0278911468577, 219.17086774842116, 208.81870409945114, 197.70266911959644, 171.4980390130563, 160.5617310776079, 142.87381832324752, 137.912342349979, 124.77268865182427, 114.50215895985134, 114.49931143884609, 109.22538922262916, 95.92559341895725, 94.13619158183948, 92.43668810126519, 90.52249537230767, 85.71606338673999, 81.85507169755924, 77.5121140793698, 76.89151722303305, 73.05067857956436, 73.01309309808036, 71.0789081542143, 69.74573400627463, 68.08868020134607, 62.836202432565386, 60.842904451940235, 715.0288401987306, 595.286475606956, 240.49968513545278, 117.69951924733577, 285.69602562342214, 540.7747850947003, 363.93653023154883, 348.26607042403685, 394.41987810557174, 453.78976339964413, 460.12218354369105, 664.6547423191786, 320.5962819736613, 239.62817341953786, 204.29555875180688, 196.47282468657318, 187.08657934831774, 172.74155270008512, 169.513790550657, 150.10008671453295, 137.84403804035313, 133.96139179477703, 133.38815230588318, 123.67242210662391, 122.12594949381531, 117.13662947851012, 113.22521565895774, 108.70176262654566, 106.52386187378076, 99.14915684578779, 98.762955216145, 91.14734674825357, 87.81370733071005, 86.23600826456419, 78.53899274380397, 78.39330016264236, 74.85861297218382, 73.31473014643817, 66.00600167745647, 63.926853483206074, 63.885597263540134, 62.135866478771185, 384.07346408948507, 397.0218611329007, 135.45205365111957, 88.36383884902541, 1038.8518013725356, 451.44550289768284, 453.78976339964413, 574.0460394042572, 229.92734261274472, 212.26257498436004, 178.6899518831432, 176.79479225717554, 172.49208188130186, 138.4776192083465, 123.97982368085256, 115.75754485791623, 115.65677770899627, 115.33876352433913, 103.31937291776218, 92.26261719250991, 90.97869574684262, 90.00444747217001, 82.8956926957044, 82.12130544891778, 80.98105219944475, 75.40687820632652, 72.14973779932164, 71.32601368314023, 68.45557923905527, 64.14267457328405, 63.43020068589314, 59.784724693960015, 58.1739621660354, 57.90364502983151, 57.52193778888422, 54.43626369075541, 51.548090223982214, 49.328465241689315, 45.54884318473418, 307.0494592057164, 378.9844745953919, 209.21113320393204, 385.7846769036639, 299.73852701955207, 147.4030542634891, 114.57282783610407, 110.71786266995827, 75.88055030079484, 72.18207937103425, 71.31965328174154, 58.704414642738676, 57.95577110657338, 53.906506339624066, 46.948969291023985, 46.92254073666038, 46.42281337136061, 46.045649885595644, 44.0107468592899, 43.520348962017614, 43.315863522204424, 43.29423854143934, 40.81216248412191, 37.99736014302054, 37.39171319056848, 37.357054342590466, 36.76322790320049, 35.238656666823886, 35.23704286812586, 32.290693357012685, 29.978745791441586, 29.96091925962673, 26.765643557678146, 26.097817907510535, 25.665510317254668, 24.58358575674672, 836.1962475382848, 128.4272041002611, 97.17132069536537, 84.7652246073672, 79.08094499434961, 65.46257573227574, 61.82546254962932, 45.33233162503406, 43.90287765147947, 43.87792849979097, 43.81169483976692, 43.56193665081923, 43.04089282689205, 41.53158451357112, 40.9320662851834, 37.633994769042395, 36.79830019081921, 35.74840016321659, 35.31467080353605, 35.281526406849586, 34.862182588902826, 33.5992333668361, 33.322483616091816, 32.026087415097564, 30.02273528522986, 29.08945906722951, 28.36636861300185, 26.66845277700478, 26.324261985494736, 25.83624557584013, 25.3674890755045, 155.48581643684494, 104.29708392928121, 102.86622574002901, 78.62108379446005, 71.21637333418705, 66.82201593812394, 63.87063397002142, 60.12040137029117, 54.90715252518493, 52.38328732093258, 48.025796517352916, 41.602030191890435, 38.37948689648072, 34.99284970227854, 34.863356376673146, 33.4433046050072, 27.65835262328347, 25.88471868814474, 25.65871295362942, 24.75778315457454, 24.50720643531328, 22.169314828719827, 21.25549574399501, 21.176960594986, 20.216844721766872, 19.997288012954147, 19.27419110489098, 19.053412077187744, 18.88864103610211, 18.17352690511636, 285.69602562342214, 81.12798400844913, 72.19073110291129, 60.820480601181444, 60.04678146757154, 59.19922496064412, 56.16791226266919, 48.96949350608752, 37.90513823625167, 34.16092070043347, 33.7326036661589, 30.415083953248807, 27.377567327954075, 25.73959487521502, 25.335688871602066, 23.070300341618207, 21.94082416567167, 21.34186598069032, 20.787263198176582, 20.47768908597353, 20.107643328627756, 19.48530461449589, 19.24784622212241, 18.47500466661434, 18.302810105735087, 17.11787272818126, 16.344922944538347, 14.982442682934428, 14.481240046357042, 14.165123735789964, 13.47586512691807, 73.19658720344307, 60.88128854896132, 56.691585563572914, 42.59577886253096, 42.324579617329334, 38.12453256719902, 36.58826502257225, 36.315752698595524, 35.54235628011595, 34.15940799828996, 34.035269203224004, 30.513432240910145, 26.589502506336913, 25.647336867084746, 25.525345888968452, 24.983826409125157, 24.45041207975548, 19.420064361772784, 17.943945780524523, 17.93258858704266, 16.93849674503203, 16.38833601713843, 16.274093454870716, 16.02999159821904, 14.894743305325544, 14.421206373987932, 14.347232137395421, 14.123632756321346, 13.675921136014539, 12.845147029596298, 119.23784289154092, 67.67902158594882, 48.2980727108447, 45.21476388294351, 44.79065871434734, 36.951534858201235, 33.56016392854262, 30.846798901676372, 27.23401278037918, 25.539337655961337, 24.961466192926757, 24.663040884304294, 24.404006178187633, 23.53874718910006, 20.295485416934945, 20.059102311648186, 19.590161773112033, 19.450207470328724, 19.334319050326496, 19.16747946608582, 18.623212578913407, 17.361619287533124, 17.358568774678226, 16.914841188314, 16.9124965084259, 16.76688351539821, 15.961950868408804, 15.55091198238845, 15.366612211106036, 15.361275070369791, 59.69063769291494, 56.27880739582945, 48.78238562291074, 43.40280754020509, 39.53767148492272, 34.24806845144491, 27.56417705506296, 25.330262411591153, 22.64397575835857, 19.947064243045613, 19.933618540210396, 18.851324001047455, 18.161425843612793, 17.97362039795783, 17.898885505943586, 17.44769342521782, 17.288728823497117, 17.124140806037037, 13.246726263068576, 13.204322924514967, 13.059622154048355, 13.021584034226883, 12.035763657035368, 11.344892153400972, 11.14587153913419, 10.813765843533277, 10.643614413816557, 10.18011407730502, 9.596164092390257, 9.098505127255908], \"Category\": [\"Default\", \"Default\", \"Default\", \"Default\", \"Default\", \"Default\", \"Default\", \"Default\", \"Default\", \"Default\", \"Default\", \"Default\", \"Default\", \"Default\", \"Default\", \"Default\", \"Default\", \"Default\", \"Default\", \"Default\", \"Default\", \"Default\", \"Default\", \"Default\", \"Default\", \"Default\", \"Default\", \"Default\", \"Default\", \"Default\", \"Topic1\", \"Topic1\", \"Topic1\", \"Topic1\", \"Topic1\", \"Topic1\", \"Topic1\", \"Topic1\", \"Topic1\", \"Topic1\", \"Topic1\", \"Topic1\", \"Topic1\", \"Topic1\", \"Topic1\", \"Topic1\", \"Topic1\", \"Topic1\", \"Topic1\", \"Topic1\", \"Topic1\", \"Topic1\", \"Topic1\", \"Topic1\", \"Topic1\", \"Topic1\", \"Topic1\", \"Topic1\", \"Topic1\", \"Topic1\", \"Topic1\", \"Topic1\", \"Topic1\", \"Topic1\", \"Topic1\", \"Topic1\", \"Topic1\", \"Topic1\", \"Topic1\", \"Topic1\", \"Topic1\", \"Topic2\", \"Topic2\", \"Topic2\", \"Topic2\", \"Topic2\", \"Topic2\", \"Topic2\", \"Topic2\", \"Topic2\", \"Topic2\", \"Topic2\", \"Topic2\", \"Topic2\", \"Topic2\", \"Topic2\", \"Topic2\", \"Topic2\", \"Topic2\", \"Topic2\", \"Topic2\", \"Topic2\", \"Topic2\", \"Topic2\", \"Topic2\", \"Topic2\", \"Topic2\", \"Topic2\", \"Topic2\", \"Topic2\", \"Topic2\", \"Topic2\", \"Topic2\", \"Topic2\", \"Topic2\", \"Topic2\", \"Topic2\", \"Topic2\", \"Topic2\", \"Topic2\", \"Topic2\", \"Topic2\", \"Topic3\", \"Topic3\", \"Topic3\", \"Topic3\", \"Topic3\", \"Topic3\", \"Topic3\", \"Topic3\", \"Topic3\", \"Topic3\", \"Topic3\", \"Topic3\", \"Topic3\", \"Topic3\", \"Topic3\", \"Topic3\", \"Topic3\", \"Topic3\", \"Topic3\", \"Topic3\", \"Topic3\", \"Topic3\", \"Topic3\", \"Topic3\", \"Topic3\", \"Topic3\", \"Topic3\", \"Topic3\", \"Topic3\", \"Topic3\", \"Topic3\", \"Topic3\", \"Topic3\", \"Topic3\", \"Topic3\", \"Topic3\", \"Topic3\", \"Topic3\", \"Topic3\", \"Topic3\", \"Topic3\", \"Topic3\", \"Topic4\", \"Topic4\", \"Topic4\", \"Topic4\", \"Topic4\", \"Topic4\", \"Topic4\", \"Topic4\", \"Topic4\", \"Topic4\", \"Topic4\", \"Topic4\", \"Topic4\", \"Topic4\", \"Topic4\", \"Topic4\", \"Topic4\", \"Topic4\", \"Topic4\", \"Topic4\", \"Topic4\", \"Topic4\", \"Topic4\", \"Topic4\", \"Topic4\", \"Topic4\", \"Topic4\", \"Topic4\", \"Topic4\", \"Topic4\", \"Topic4\", \"Topic4\", \"Topic4\", \"Topic4\", \"Topic4\", \"Topic4\", \"Topic4\", \"Topic4\", \"Topic4\", \"Topic5\", \"Topic5\", \"Topic5\", \"Topic5\", \"Topic5\", \"Topic5\", \"Topic5\", \"Topic5\", \"Topic5\", \"Topic5\", \"Topic5\", \"Topic5\", \"Topic5\", \"Topic5\", \"Topic5\", \"Topic5\", \"Topic5\", \"Topic5\", \"Topic5\", \"Topic5\", \"Topic5\", \"Topic5\", \"Topic5\", \"Topic5\", \"Topic5\", \"Topic5\", \"Topic5\", \"Topic5\", \"Topic5\", \"Topic5\", \"Topic5\", \"Topic5\", \"Topic5\", \"Topic5\", \"Topic5\", \"Topic5\", \"Topic6\", \"Topic6\", \"Topic6\", \"Topic6\", \"Topic6\", \"Topic6\", \"Topic6\", \"Topic6\", \"Topic6\", \"Topic6\", \"Topic6\", \"Topic6\", \"Topic6\", \"Topic6\", \"Topic6\", \"Topic6\", \"Topic6\", \"Topic6\", \"Topic6\", \"Topic6\", \"Topic6\", \"Topic6\", \"Topic6\", \"Topic6\", \"Topic6\", \"Topic6\", \"Topic6\", \"Topic6\", \"Topic6\", \"Topic6\", \"Topic6\", \"Topic7\", \"Topic7\", \"Topic7\", \"Topic7\", \"Topic7\", \"Topic7\", \"Topic7\", \"Topic7\", \"Topic7\", \"Topic7\", \"Topic7\", \"Topic7\", \"Topic7\", \"Topic7\", \"Topic7\", \"Topic7\", \"Topic7\", \"Topic7\", \"Topic7\", \"Topic7\", \"Topic7\", \"Topic7\", \"Topic7\", \"Topic7\", \"Topic7\", \"Topic7\", \"Topic7\", \"Topic7\", \"Topic7\", \"Topic7\", \"Topic8\", \"Topic8\", \"Topic8\", \"Topic8\", \"Topic8\", \"Topic8\", \"Topic8\", \"Topic8\", \"Topic8\", \"Topic8\", \"Topic8\", \"Topic8\", \"Topic8\", \"Topic8\", \"Topic8\", \"Topic8\", \"Topic8\", \"Topic8\", \"Topic8\", \"Topic8\", \"Topic8\", \"Topic8\", \"Topic8\", \"Topic8\", \"Topic8\", \"Topic8\", \"Topic8\", \"Topic8\", \"Topic8\", \"Topic8\", \"Topic8\", \"Topic9\", \"Topic9\", \"Topic9\", \"Topic9\", \"Topic9\", \"Topic9\", \"Topic9\", \"Topic9\", \"Topic9\", \"Topic9\", \"Topic9\", \"Topic9\", \"Topic9\", \"Topic9\", \"Topic9\", \"Topic9\", \"Topic9\", \"Topic9\", \"Topic9\", \"Topic9\", \"Topic9\", \"Topic9\", \"Topic9\", \"Topic9\", \"Topic9\", \"Topic9\", \"Topic9\", \"Topic9\", \"Topic9\", \"Topic9\", \"Topic10\", \"Topic10\", \"Topic10\", \"Topic10\", \"Topic10\", \"Topic10\", \"Topic10\", \"Topic10\", \"Topic10\", \"Topic10\", \"Topic10\", \"Topic10\", \"Topic10\", \"Topic10\", \"Topic10\", \"Topic10\", \"Topic10\", \"Topic10\", \"Topic10\", \"Topic10\", \"Topic10\", \"Topic10\", \"Topic10\", \"Topic10\", \"Topic10\", \"Topic10\", \"Topic10\", \"Topic10\", \"Topic10\", \"Topic10\", \"Topic11\", \"Topic11\", \"Topic11\", \"Topic11\", \"Topic11\", \"Topic11\", \"Topic11\", \"Topic11\", \"Topic11\", \"Topic11\", \"Topic11\", \"Topic11\", \"Topic11\", \"Topic11\", \"Topic11\", \"Topic11\", \"Topic11\", \"Topic11\", \"Topic11\", \"Topic11\", \"Topic11\", \"Topic11\", \"Topic11\", \"Topic11\", \"Topic11\", \"Topic11\", \"Topic11\", \"Topic11\", \"Topic11\", \"Topic11\", \"Topic12\", \"Topic12\", \"Topic12\", \"Topic12\", \"Topic12\", \"Topic12\", \"Topic12\", \"Topic12\", \"Topic12\", \"Topic12\", \"Topic12\", \"Topic12\", \"Topic12\", \"Topic12\", \"Topic12\", \"Topic12\", \"Topic12\", \"Topic12\", \"Topic12\", \"Topic12\", \"Topic12\", \"Topic12\", \"Topic12\", \"Topic12\", \"Topic12\", \"Topic12\", \"Topic12\", \"Topic12\", \"Topic12\", \"Topic12\"], \"logprob\": [30.0, 29.0, 28.0, 27.0, 26.0, 25.0, 24.0, 23.0, 22.0, 21.0, 20.0, 19.0, 18.0, 17.0, 16.0, 15.0, 14.0, 13.0, 12.0, 11.0, 10.0, 9.0, 8.0, 7.0, 6.0, 5.0, 4.0, 3.0, 2.0, 1.0, -2.1231, -2.3508, -3.7034, -3.9955, -4.2576, -4.4336, -4.4913, -4.4927, -4.5033, -4.5302, -4.588, -4.799, -4.8049, -4.8216, -4.937, -5.0243, -5.0733, -5.1037, -5.1101, -5.2049, -4.3901, -5.2826, -5.2142, -5.3098, -5.3975, -5.4179, -5.4258, -5.4597, -5.5527, -5.5692, -4.3605, -4.2556, -3.9272, -4.1536, -3.9975, -4.9876, -4.2948, -3.6783, -4.3177, -4.254, -4.8242, -2.8474, -3.5704, -3.6676, -3.9214, -3.2364, -4.2675, -4.3573, -4.364, -4.4237, -4.5431, -4.5497, -4.5824, -4.7383, -4.8283, -4.848, -4.8563, -4.9267, -4.9471, -2.7354, -5.1136, -5.2093, -5.2502, -5.2564, -5.2579, -5.3295, -5.3455, -5.4026, -5.4528, -5.503, -5.5157, -4.7568, -3.2952, -3.0758, -3.7626, -3.6132, -3.8311, -3.4488, -3.5959, -4.3102, -4.8397, -5.0624, -3.1671, -3.169, -3.5645, -3.7283, -4.0531, -4.1017, -4.1566, -4.2995, -4.3658, -4.4832, -4.5187, -4.6195, -4.7061, -4.7061, -4.7536, -4.8846, -4.9036, -4.922, -4.9431, -4.9983, -5.0448, -5.1, -5.1081, -5.1599, -5.1605, -5.1877, -5.2068, -5.2312, -5.3126, -5.3453, -2.9038, -3.0865, -4.0235, -4.7072, -3.8748, -3.2867, -3.6603, -3.746, -3.8949, -3.8202, -4.7012, -4.9276, -3.4044, -3.6964, -3.8565, -3.8958, -3.9449, -4.0251, -4.0441, -4.1664, -4.2521, -4.2808, -4.2852, -4.3613, -4.374, -4.416, -4.4502, -4.4913, -4.5117, -4.5841, -4.588, -4.6691, -4.7067, -4.725, -4.8195, -4.8214, -4.8681, -4.8891, -4.9955, -5.028, -5.0286, -5.0568, -3.343, -3.342, -4.3458, -4.7511, -2.8808, -3.8382, -4.0084, -4.1956, -4.5525, -3.5728, -3.7457, -3.7564, -3.7812, -4.0021, -4.1134, -4.1825, -4.1834, -4.1862, -4.2971, -4.4113, -4.4255, -4.4364, -4.5195, -4.529, -4.5431, -4.6152, -4.6599, -4.6715, -4.7131, -4.7791, -4.7904, -4.8504, -4.8782, -4.8829, -4.8896, -4.9456, -5.0011, -5.0459, -5.1271, -3.2371, -3.0473, -3.6357, -3.098, -4.5687, -4.863, -3.2155, -3.25, -3.6316, -3.6821, -3.6943, -3.8917, -3.9047, -3.9783, -4.119, -4.1196, -4.1305, -4.1388, -4.1849, -4.1964, -4.2012, -4.2017, -4.262, -4.3351, -4.3516, -4.3525, -4.3689, -4.4124, -4.4124, -4.5021, -4.5786, -4.5792, -4.6956, -4.7218, -4.7391, -4.7837, -4.6777, -3.0658, -3.347, -3.4849, -3.5551, -3.7465, -3.8045, -4.1201, -4.1528, -4.1534, -4.155, -4.1608, -4.1731, -4.2095, -4.2244, -4.3104, -4.3334, -4.3631, -4.3756, -4.3766, -4.3888, -4.4267, -4.4352, -4.476, -4.5425, -4.5751, -4.6011, -4.6649, -4.6783, -4.6977, -4.7167, -2.6528, -3.055, -3.0689, -3.3404, -3.4406, -3.5051, -3.5509, -3.6123, -3.7044, -3.7523, -3.8407, -3.9873, -4.0697, -4.1644, -4.1682, -4.2109, -4.4066, -4.4752, -4.4843, -4.5214, -4.5319, -4.6362, -4.6801, -4.684, -4.7325, -4.7439, -4.7825, -4.7946, -4.8037, -4.8443, -4.5159, -3.0153, -3.1334, -3.3071, -3.3201, -3.3345, -3.3879, -3.5275, -3.789, -3.8957, -3.9086, -4.0151, -4.1237, -4.1876, -4.204, -4.3012, -4.3535, -4.3824, -4.4099, -4.4256, -4.4446, -4.4776, -4.4904, -4.5334, -4.5433, -4.6138, -4.6626, -4.7549, -4.7911, -4.8147, -4.868, -3.0059, -3.1927, -3.2651, -3.5563, -3.5629, -3.6698, -3.7119, -3.7196, -3.7417, -3.7824, -3.7862, -3.8985, -4.0407, -4.0781, -4.083, -4.1052, -4.1276, -4.368, -4.451, -4.4517, -4.5119, -4.5468, -4.5542, -4.5702, -4.6482, -4.6826, -4.6881, -4.7049, -4.7393, -4.8066, -2.5103, -3.0824, -3.4253, -3.4925, -3.5021, -3.6989, -3.7977, -3.8844, -4.013, -4.0795, -4.1033, -4.1158, -4.1267, -4.1642, -4.3189, -4.3311, -4.3559, -4.3634, -4.3697, -4.3788, -4.409, -4.4829, -4.4831, -4.5104, -4.5106, -4.5197, -4.5718, -4.5994, -4.6121, -4.6125, -2.9536, -3.0134, -3.1589, -3.2781, -3.3734, -3.5207, -3.7444, -3.8319, -3.9485, -4.0809, -4.0816, -4.1402, -4.1794, -4.1903, -4.1947, -4.2216, -4.2313, -4.2414, -4.5146, -4.518, -4.5299, -4.533, -4.6179, -4.682, -4.7012, -4.7342, -4.7515, -4.8003, -4.8653, -4.9243], \"loglift\": [30.0, 29.0, 28.0, 27.0, 26.0, 25.0, 24.0, 23.0, 22.0, 21.0, 20.0, 19.0, 18.0, 17.0, 16.0, 15.0, 14.0, 13.0, 12.0, 11.0, 10.0, 9.0, 8.0, 7.0, 6.0, 5.0, 4.0, 3.0, 2.0, 1.0, 0.8645, 0.8644, 0.8638, 0.8635, 0.8632, 0.8629, 0.8628, 0.8628, 0.8628, 0.8628, 0.8626, 0.8622, 0.8622, 0.8621, 0.8618, 0.8616, 0.8614, 0.8613, 0.8613, 0.8609, 0.8607, 0.8606, 0.8606, 0.8605, 0.8602, 0.8601, 0.86, 0.8599, 0.8594, 0.8593, 0.8559, 0.8542, 0.8207, 0.8238, 0.8065, 0.8467, 0.7734, 0.6846, 0.716, 0.2612, 0.5772, 1.8588, 1.8578, 1.8576, 1.8569, 1.8563, 1.8558, 1.8554, 1.8554, 1.8551, 1.8545, 1.8545, 1.8543, 1.8534, 1.8528, 1.8527, 1.8526, 1.8521, 1.852, 1.8512, 1.8506, 1.8496, 1.8492, 1.8492, 1.8491, 1.8484, 1.8482, 1.8475, 1.8468, 1.8462, 1.846, 1.8423, 1.8147, 1.7967, 1.7298, 1.5669, 1.4463, 1.0665, 0.9911, 0.0527, 0.9521, 1.3259, 2.0923, 2.0923, 2.0915, 2.0908, 2.0899, 2.0897, 2.0895, 2.0888, 2.0884, 2.0878, 2.0875, 2.0868, 2.0862, 2.0862, 2.0858, 2.0847, 2.0845, 2.0843, 2.0841, 2.0836, 2.0831, 2.0825, 2.0824, 2.0818, 2.0818, 2.0814, 2.0812, 2.0809, 2.0798, 2.0793, 2.0567, 2.0574, 2.0266, 2.0575, 2.0032, 1.9532, 1.9756, 1.9339, 1.6606, 1.595, 0.7002, 0.106, 2.3583, 2.3574, 2.3568, 2.3566, 2.3564, 2.356, 2.3559, 2.3552, 2.3547, 2.3545, 2.3545, 2.3539, 2.3538, 2.3535, 2.3533, 2.3529, 2.3528, 2.3521, 2.3521, 2.3513, 2.351, 2.3508, 2.3498, 2.3498, 2.3492, 2.349, 2.3476, 2.3472, 2.3472, 2.3468, 2.239, 2.2069, 2.2785, 2.3003, 1.7062, 1.5822, 1.4068, 0.9846, 1.5426, 2.6023, 2.6015, 2.6015, 2.6013, 2.6001, 2.5993, 2.5988, 2.5988, 2.5988, 2.5979, 2.5969, 2.5968, 2.5967, 2.5958, 2.5957, 2.5956, 2.5948, 2.5942, 2.5941, 2.5936, 2.5927, 2.5925, 2.5917, 2.5913, 2.5912, 2.5911, 2.5902, 2.5893, 2.5885, 2.587, 2.5688, 2.5481, 2.5538, 2.4796, 1.2612, 1.6767, 3.5762, 3.5759, 3.5722, 3.5716, 3.5714, 3.5687, 3.5685, 3.5673, 3.5648, 3.5648, 3.5646, 3.5644, 3.5635, 3.5633, 3.5632, 3.5632, 3.5619, 3.5603, 3.5599, 3.5598, 3.5594, 3.5584, 3.5584, 3.556, 3.5538, 3.5538, 3.5501, 3.5493, 3.5487, 3.5471, 0.1263, 3.6117, 3.6094, 3.6081, 3.6073, 3.6049, 3.6041, 3.5987, 3.5981, 3.5981, 3.598, 3.5979, 3.5976, 3.5969, 3.5965, 3.5946, 3.594, 3.5933, 3.593, 3.593, 3.5926, 3.5917, 3.5914, 3.5903, 3.5884, 3.5874, 3.5866, 3.5845, 3.5841, 3.5834, 3.5827, 3.8335, 3.8306, 3.8305, 3.8278, 3.8266, 3.8258, 3.8251, 3.8242, 3.8228, 3.822, 3.8204, 3.8175, 3.8156, 3.8133, 3.8132, 3.8121, 3.8063, 3.804, 3.8037, 3.8024, 3.802, 3.798, 3.7962, 3.796, 3.7939, 3.7934, 3.7916, 3.7911, 3.7906, 3.7887, 1.362, 4.1216, 4.1202, 4.1178, 4.1176, 4.1174, 4.1166, 4.1142, 4.1088, 4.1061, 4.1058, 4.1028, 4.0994, 4.0973, 4.0967, 4.0931, 4.091, 4.0898, 4.0887, 4.088, 4.0871, 4.0856, 4.0851, 4.083, 4.0825, 4.079, 4.0764, 4.0711, 4.0689, 4.0674, 4.064, 4.2338, 4.2313, 4.2301, 4.2248, 4.2246, 4.2222, 4.2212, 4.221, 4.2205, 4.2194, 4.2193, 4.2162, 4.2117, 4.2104, 4.2102, 4.2094, 4.2086, 4.1986, 4.1946, 4.1945, 4.1914, 4.1895, 4.1891, 4.1882, 4.1837, 4.1816, 4.1812, 4.1802, 4.1779, 4.1733, 4.2415, 4.2357, 4.2302, 4.2289, 4.2287, 4.2244, 4.2218, 4.2194, 4.2154, 4.2131, 4.2123, 4.2118, 4.2114, 4.21, 4.2036, 4.2031, 4.2019, 4.2016, 4.2013, 4.2009, 4.1994, 4.1957, 4.1957, 4.1943, 4.1943, 4.1938, 4.1909, 4.1893, 4.1886, 4.1886, 4.4901, 4.4891, 4.4866, 4.4843, 4.4822, 4.4785, 4.4719, 4.4689, 4.4645, 4.4589, 4.4588, 4.4561, 4.4542, 4.4536, 4.4534, 4.452, 4.4515, 4.451, 4.4345, 4.4343, 4.4335, 4.4333, 4.4271, 4.4221, 4.4206, 4.4179, 4.4164, 4.4122, 4.4062, 4.4005]}, \"token.table\": {\"Topic\": [9, 4, 7, 8, 6, 3, 7, 11, 4, 1, 4, 7, 9, 12, 8, 12, 5, 8, 12, 5, 3, 7, 2, 4, 7, 1, 9, 5, 11, 11, 12, 10, 4, 3, 12, 4, 8, 12, 1, 2, 2, 3, 5, 12, 8, 6, 2, 4, 2, 8, 2, 1, 2, 1, 2, 9, 6, 1, 4, 2, 9, 6, 7, 5, 10, 12, 5, 12, 5, 2, 5, 5, 7, 9, 1, 12, 6, 4, 3, 8, 2, 11, 1, 11, 1, 4, 9, 3, 9, 1, 5, 12, 1, 1, 1, 2, 4, 1, 4, 3, 1, 2, 5, 12, 6, 8, 1, 5, 12, 1, 3, 2, 2, 4, 12, 10, 1, 10, 1, 2, 4, 8, 6, 1, 2, 5, 12, 7, 9, 12, 4, 10, 5, 6, 2, 1, 4, 6, 7, 10, 10, 6, 11, 1, 4, 2, 10, 3, 3, 3, 4, 5, 11, 10, 10, 12, 9, 3, 2, 10, 3, 6, 2, 6, 7, 8, 11, 4, 6, 1, 2, 1, 3, 4, 6, 8, 8, 4, 9, 3, 2, 5, 9, 4, 2, 1, 3, 2, 5, 4, 6, 3, 1, 3, 4, 11, 11, 8, 4, 11, 5, 6, 5, 5, 6, 6, 3, 9, 6, 1, 2, 9, 5, 10, 8, 7, 12, 2, 7, 10, 8, 10, 11, 4, 1, 3, 12, 7, 3, 4, 7, 2, 3, 10, 3, 1, 2, 1, 1, 10, 11, 3, 3, 4, 12, 11, 6, 1, 3, 8, 1, 1, 3, 4, 2, 4, 2, 2, 7, 7, 1, 7, 4, 1, 1, 3, 1, 3, 5, 9, 1, 8, 5, 11, 9, 7, 4, 6, 7, 1, 3, 10, 1, 6, 9, 11, 1, 4, 11, 10, 4, 4, 12, 6, 2, 6, 9, 7, 1, 3, 9, 1, 10, 8, 5, 5, 7, 1, 2, 3, 6, 5, 7, 12, 8, 11, 10, 3, 11, 9, 12, 3, 4, 1, 8, 7, 4, 6, 2, 8, 5, 11, 12, 8, 1, 4, 2, 11, 5, 9, 3, 11, 5, 9, 3, 7, 6, 8, 2, 2, 5, 4, 6, 2, 8, 8, 10, 11, 2, 9, 6, 1, 5, 6, 11, 2, 9, 11, 3, 10, 7, 10, 10, 9, 2, 11, 5, 11, 7, 10, 8, 3, 9, 9, 9, 8, 1, 12, 6, 9, 5, 9, 11, 10, 2, 1, 5, 4, 5, 4, 4, 12, 7, 12, 3, 8, 1, 3, 5, 3, 4, 5, 6, 1, 3, 1, 3, 10, 2, 1, 4, 8, 3, 10, 5, 10, 7, 1, 4, 2, 7, 1, 8, 6, 12, 1, 12, 11, 5, 1, 3, 4, 7, 1, 2, 3, 1, 3, 1, 10, 11, 1, 12, 1, 8], \"Freq\": [0.975093814333554, 0.9938768621962015, 0.9799915691144091, 0.9752359937079721, 0.9770340898208013, 0.9964458288665219, 0.9627726728404215, 0.9110661353113126, 0.984758936280183, 0.11195774772396526, 0.8852473075848416, 0.9676328523281217, 0.9865097974716512, 0.9378747500927986, 0.9338913317836905, 0.9884297149501401, 0.9893674000025859, 0.983478427063417, 0.9458305908102714, 0.9872301497724696, 0.9946577400525458, 0.9636771268886828, 0.9915441840995282, 0.993137259277539, 0.9863311573423049, 0.9960901040787007, 0.9667680361062653, 0.9891949428664246, 0.9546885436850412, 0.9215730246710995, 0.9474832755391265, 0.9473947485090467, 0.9928233666290222, 0.9916461004105006, 0.9676793364368046, 0.9950822110223391, 0.9867445932678307, 0.8792653175558285, 0.007697613722809794, 0.9910677668117609, 0.9980249072105163, 0.9861245010299804, 0.9888400240168066, 0.9743408246404219, 0.9875635647669622, 0.9935162885857166, 0.7455847974217831, 0.2525929804349499, 0.997634592266528, 0.9793037841072564, 0.9935723481956308, 0.33790937066225635, 0.6604592244762283, 0.014398289349502769, 0.9862828204409396, 0.9621276167684432, 0.9740698583808306, 0.9978202863665749, 0.9969690339117072, 0.9946641115976091, 0.947280341246249, 0.9737518569904193, 0.9758161887793904, 0.986314964490164, 0.9660588966194028, 0.9395304650475617, 0.9919857892298825, 0.9525211213286287, 0.9934557625695495, 0.9862363858474816, 0.9971472204640647, 0.9883927702757398, 0.967960887578985, 0.9797425564027, 0.9980701376764815, 0.9188627250046524, 0.9814966391307545, 0.9856671442772231, 0.9887810953904544, 0.9447126807041049, 0.9907610476599501, 0.9731237161653195, 0.9955577293733848, 0.9217349775598991, 0.9127021937827051, 0.08566317518438359, 0.9646876009490828, 0.9952758140708504, 0.9351695661051052, 0.7373092881903169, 0.26022680759658245, 0.9254584396195974, 0.9972559070102706, 0.9998572653025849, 0.9600597264060701, 0.02560159270416187, 0.014223107057867706, 0.9565820586528547, 0.04183633117039672, 0.9933846214600303, 0.5465297146220738, 0.4524549276789299, 0.989242583235465, 0.9343534476403788, 0.9772910168888125, 0.950128836854872, 0.11664537938928342, 0.8813206442745858, 0.8814539499172057, 0.1294439051697679, 0.8691233632827273, 0.9939452053104131, 0.07382686146462383, 0.922835768307798, 0.9795322365715492, 0.9695824588005334, 0.9961386567738634, 0.9794186573904373, 0.06064387616863552, 0.4196941271353189, 0.5198046528740188, 0.9813640404129966, 0.960028936426279, 0.14577333912330676, 0.5889242900581593, 0.26822294398688445, 0.8840765370266428, 0.9821652666805317, 0.976120962002296, 0.8971931862743144, 0.9907337094009072, 0.9831735664196513, 0.9868741606158254, 0.970105986730762, 0.987842968890357, 0.9978424416999673, 0.9885302046338627, 0.9835086120273365, 0.9460928485498006, 0.9747600746837959, 0.9855244760752299, 0.9950003168558997, 0.9788820813121031, 0.9972999033835719, 0.995707155062033, 0.9978356910970587, 0.9060981153372488, 0.9980428776049927, 0.9933931091229765, 0.6082111635403551, 0.38564113630276137, 0.006610990908047338, 0.9823476872847581, 0.9217103270050726, 0.9783695690216323, 0.9548400949980939, 0.9712662581209782, 0.9970959492252947, 0.9986855999662219, 0.9836524181090948, 0.9960793545626965, 0.9883955730776295, 0.9963025273452943, 0.9803390711121573, 0.9496942407644919, 0.992100289585377, 0.977112325274918, 0.9817196324258348, 0.967352010045697, 0.11902645546260372, 0.8784152413140154, 0.03527713270923606, 0.9642416273857857, 0.9891789505382955, 0.983183730477489, 0.9398103542608341, 0.9829200326099288, 0.9970900541077061, 0.9860962401292794, 0.9893078190817012, 0.03582484733389562, 0.9640140737121002, 0.9177470131908462, 0.9884098172657673, 0.9979330274225084, 0.9888437579092886, 0.00974230303358905, 0.938703878107896, 0.060189743889592244, 0.9392982591194364, 0.04526738598165959, 0.9861462160701738, 0.02548863427127301, 0.9600718908846168, 0.9973785493977035, 0.9113826772755641, 0.9309870160488551, 0.9876984265352737, 0.9949829875534467, 0.9698745839903148, 0.9879504473360999, 0.9636734114487367, 0.9920969101926228, 0.9940518248002359, 0.9696216717108759, 0.9800999889570202, 0.9903509231898655, 0.9177161648848425, 0.9880006529828195, 0.8355320758727173, 0.16387507565459372, 0.9344270688214634, 0.9814091154872199, 0.9445938586428996, 0.9863687908526152, 0.9625479777842679, 0.9058841982305917, 0.9953324214017107, 0.9752688292907608, 0.9399289207618883, 0.9786407182860097, 0.9778295022181622, 0.9742491113873164, 0.9820673124785138, 0.034963624674288186, 0.9635974960233824, 0.9139428384812189, 0.9772289461594859, 0.9956144149209674, 0.9861377634165823, 0.9706096823773719, 0.9924501671072522, 0.9938072292889316, 0.9687042463432525, 0.9879303425946256, 0.04221923538682717, 0.9564280631862001, 0.9953727295611398, 0.997379991342402, 0.9707925701175959, 0.9665357104058913, 0.9965014634942096, 0.984820980200294, 0.9975934346781675, 0.9715608351982598, 0.9896187077732791, 0.9895240641001899, 0.997554310200854, 0.913558385806969, 0.08400536880983624, 0.9980440640423774, 0.10830637858907725, 0.032743788875767545, 0.8563760167508434, 0.9958922717803599, 0.001595981204776218, 0.9961140515733413, 0.9909520700320896, 0.9872004759799758, 0.965934640014862, 0.9972437219833339, 0.9909724228194791, 0.9926709788207841, 0.996818088512785, 0.9984369780838294, 0.9942280052029199, 0.9965559078267434, 0.9866923461286067, 0.9821854236530388, 0.9835057619625178, 0.9976913637020598, 0.9354265734305002, 0.9840645602549584, 0.9390906108363642, 0.978282030245597, 0.9871002830906358, 0.998140084563706, 0.9762611621216989, 0.9749346997145195, 0.9916721515593488, 0.007225298007718389, 0.9705037021708556, 0.9966626571940138, 0.9908921209066262, 0.9536070044269249, 0.9899670301071581, 0.5566976008398622, 0.43926920066270375, 0.9731334683934564, 0.9152851140172774, 0.9936584096114355, 0.9945628775181246, 0.9247472291052136, 0.9836236447975119, 0.9948388521795948, 0.9713945395697945, 0.9288191213147724, 0.9783060579787765, 0.994851925435333, 0.9856171277256515, 0.9825672343798, 0.9946706471286012, 0.9505758237933568, 0.9855288266194329, 0.9798198004343459, 0.9955044362617911, 0.9603125735966099, 0.9435584078770649, 0.021526047327993875, 0.002391783036443764, 0.031093179473768932, 0.9730689930209591, 0.9794346589613803, 0.9497798058071774, 0.971627069223405, 0.9472009118257914, 0.9878009133683978, 0.9840108488205864, 0.976853333260557, 0.9346955812832455, 0.9531636196244506, 0.9355521603833987, 0.06237014402555991, 0.9940079315210871, 0.9444225912539751, 0.9966735700332806, 0.9922748847027182, 0.964849492461214, 0.9930319375283054, 0.9915791044747944, 0.9863457425233544, 0.9460460194051606, 0.9360498534854158, 0.9640566613044736, 0.9817397945724206, 0.01675323881522902, 0.995608916084418, 0.961481982448643, 0.9909262829287875, 0.937125180061368, 0.9938839856489974, 0.9833086653052309, 0.99432132105004, 0.9742893344177224, 0.9966079322171715, 0.9929337376798685, 0.9579344943166839, 0.9968754935467553, 0.9855106558309398, 0.04779860348183446, 0.9464123489403224, 0.9855013436028168, 0.9648936809835185, 0.9888965525776472, 0.9761969690584806, 0.9693921240911053, 0.9479947592331144, 0.9397347557113049, 0.997579247524538, 0.9766727054030364, 0.9797872177951005, 0.9977424085505028, 0.9446297249569521, 0.055411240849430145, 0.9361687887566381, 0.9933811767975579, 0.9496826247762525, 0.9459148816043251, 0.9884055191621841, 0.9204430775206585, 0.9831536680351586, 0.9815785485215436, 0.9606214679443249, 0.9802020924319547, 0.9930128590111854, 0.954262012097005, 0.9843939871252326, 0.9731160124408561, 0.9790647928354943, 0.9847405648674066, 0.9658208111587496, 0.989553833625379, 0.9571199259167451, 0.9660161179315422, 0.9449143138991939, 0.9409331234088151, 0.9986615321984776, 0.9215468692947281, 0.9880435480314795, 0.9792067709903931, 0.996138832229389, 0.9863526941471924, 0.9645736543932366, 0.9839220301315371, 0.9987384072321206, 0.5970025549314353, 0.3934789566593551, 0.9902965495629303, 0.9932177309666179, 0.9941921042540697, 0.9907804238289887, 0.9087932844872313, 0.9866485018374639, 0.9772772833149229, 0.9975328482284856, 0.9735929646328283, 0.3498809458154704, 0.6490545081794235, 0.9946042295344301, 0.9975589347939258, 0.9874121761171775, 0.9965509285104915, 0.9792393664340328, 0.10990927449506274, 0.8875173915476317, 0.8621017251763406, 0.1369131884660506, 0.9357459676813883, 0.9919607297949262, 0.9964254532460773, 0.0018694661411746292, 0.9529536807648766, 0.995639175183051, 0.9342049547857251, 0.9933448924964271, 0.9637690919002648, 0.9518313876674518, 0.538270950624741, 0.45852710608774233, 0.9915322214417739, 0.9814731011266388, 0.999685507710548, 0.9743279035538591, 0.9679275775452725, 0.9635579900450634, 0.9991904458280102, 0.9864010331228596, 0.9725482406010578, 0.987885410564578, 0.14643976066317382, 0.8527962532737771, 0.9935441467590859, 0.9879458189208162, 0.5395140786554379, 0.4046355589915784, 0.05459368653060979, 0.7498008406005063, 0.24776027776364556, 0.9994484289867869, 0.9860131947709252, 0.9834450878582085, 0.9985465003880684, 0.9839617187039887, 0.999384209069825, 0.9472552562966444], \"Term\": [\"absolute\", \"ac\", \"active\", \"activity\", \"addition\", \"advice\", \"advise\", \"advocate\", \"affect\", \"ago\", \"ago\", \"alcohol\", \"answer\", \"apart\", \"apply\", \"appointment\", \"appreciate\", \"area\", \"arthritis\", \"article\", \"ask\", \"average\", \"avoid\", \"away\", \"baby\", \"bad\", \"barely\", \"base\", \"battle\", \"bean\", \"bed\", \"bet\", \"bg\", \"big\", \"birth\", \"bit\", \"blame\", \"block\", \"blood\", \"blood\", \"body\", \"book\", \"breakfast\", \"brown\", \"calorie\", \"cancer\", \"carb\", \"carb\", \"carbohydrate\", \"carry\", \"case\", \"cause\", \"cause\", \"cell\", \"cell\", \"center\", \"challenge\", \"change\", \"check\", \"cholesterol\", \"clear\", \"clinic\", \"coffee\", \"common\", \"community\", \"company\", \"compare\", \"complete\", \"complication\", \"concern\", \"condition\", \"consider\", \"constantly\", \"continue\", \"control\", \"cook\", \"cost\", \"couple\", \"course\", \"curative\", \"cut\", \"dad\", \"daily\", \"dairy\", \"day\", \"day\", \"dead\", \"deal\", \"decade\", \"develop\", \"develop\", \"development\", \"diabete\", \"diabetes\", \"diabetic\", \"diabetic\", \"diabetic\", \"diagnose\", \"diagnose\", \"diagnosis\", \"diet\", \"diet\", \"dietary\", \"dietician\", \"difference\", \"directly\", \"disease\", \"disease\", \"dm\", \"doctor\", \"doctor\", \"dose\", \"drink\", \"drink\", \"drive\", \"drop\", \"drug\", \"dry\", \"eat\", \"eat\", \"eat\", \"eating\", \"education\", \"effect\", \"effect\", \"effect\", \"encounter\", \"endocrinologist\", \"enjoy\", \"entirely\", \"especially\", \"event\", \"evidence\", \"exactly\", \"excess\", \"exercise\", \"expect\", \"explain\", \"explanation\", \"extreme\", \"eye\", \"factor\", \"fairly\", \"family\", \"fast\", \"fat\", \"fatigue\", \"feel\", \"figure\", \"find\", \"find\", \"find\", \"fine\", \"finger\", \"fluid\", \"focus\", \"folk\", \"follow\", \"food\", \"foot\", \"forum\", \"free\", \"fruit\", \"future\", \"gd\", \"genetic\", \"gi\", \"glad\", \"glass\", \"glucose\", \"glucose\", \"good\", \"good\", \"gp\", \"group\", \"gym\", \"habit\", \"hard\", \"hbac\", \"head\", \"health\", \"health\", \"healthcare\", \"hear\", \"heart\", \"help\", \"help\", \"high\", \"high\", \"history\", \"history\", \"home\", \"hope\", \"hope\", \"hour\", \"house\", \"hrs\", \"huge\", \"husband\", \"hypo\", \"hypoglycemia\", \"illness\", \"improve\", \"increase\", \"individual\", \"infection\", \"information\", \"initially\", \"instead\", \"insulin\", \"insulin\", \"insurance\", \"intake\", \"interest\", \"interesting\", \"introduce\", \"iron\", \"issue\", \"job\", \"joint\", \"juice\", \"ketone\", \"kid\", \"kind\", \"know\", \"know\", \"l\", \"late\", \"later\", \"lbs\", \"lchf\", \"lead\", \"learn\", \"leg\", \"let\", \"level\", \"level\", \"life\", \"lifestyle\", \"lifetime\", \"light\", \"like\", \"line\", \"link\", \"list\", \"little\", \"local\", \"long\", \"look\", \"look\", \"lose\", \"lot\", \"lot\", \"lot\", \"low\", \"low\", \"lower\", \"m\", \"maintain\", \"majority\", \"manage\", \"maybe\", \"meal\", \"mean\", \"med\", \"medical\", \"medication\", \"member\", \"metabolic\", \"meter\", \"metformin\", \"milk\", \"mom\", \"moment\", \"money\", \"monitor\", \"month\", \"myth\", \"nation\", \"need\", \"need\", \"neuropathy\", \"new\", \"nhs\", \"nice\", \"night\", \"normal\", \"normal\", \"notice\", \"numb\", \"number\", \"nurse\", \"ob\", \"obese\", \"obesity\", \"offer\", \"oil\", \"ok\", \"old\", \"opinion\", \"option\", \"overweight\", \"painful\", \"paper\", \"parent\", \"patient\", \"pay\", \"people\", \"people\", \"people\", \"people\", \"percent\", \"personally\", \"pharmaceutical\", \"physical\", \"piece\", \"place\", \"plan\", \"play\", \"possibility\", \"possibly\", \"post\", \"post\", \"pre\", \"predisposition\", \"pregnancy\", \"pregnant\", \"present\", \"pressure\", \"pretty\", \"prevent\", \"prevention\", \"primary\", \"prior\", \"problem\", \"problem\", \"process\", \"proper\", \"protein\", \"public\", \"question\", \"quit\", \"range\", \"reaction\", \"read\", \"real\", \"receive\", \"recently\", \"recommend\", \"reduce\", \"reduce\", \"regard\", \"register\", \"relate\", \"relationship\", \"relatively\", \"repeat\", \"replace\", \"resistance\", \"resource\", \"rest\", \"reverse\", \"risk\", \"risk\", \"role\", \"run\", \"save\", \"sedentary\", \"self\", \"sensation\", \"sensitivity\", \"shake\", \"share\", \"short\", \"site\", \"slim\", \"small\", \"smoking\", \"snack\", \"soda\", \"solution\", \"sorry\", \"sort\", \"sound\", \"speak\", \"starch\", \"start\", \"stimulate\", \"strip\", \"struggle\", \"study\", \"stuff\", \"sudden\", \"suffer\", \"sugar\", \"suggest\", \"suggest\", \"support\", \"suppose\", \"sure\", \"surgery\", \"suspect\", \"sweet\", \"system\", \"t\", \"tablet\", \"tell\", \"tell\", \"term\", \"test\", \"testing\", \"thank\", \"thin\", \"thing\", \"thing\", \"think\", \"think\", \"thirsty\", \"thread\", \"time\", \"time\", \"tip\", \"today\", \"toe\", \"total\", \"totally\", \"trial\", \"try\", \"try\", \"turn\", \"twice\", \"type\", \"typical\", \"understanding\", \"urine\", \"use\", \"wait\", \"wake\", \"walk\", \"want\", \"want\", \"watch\", \"water\", \"way\", \"way\", \"way\", \"week\", \"week\", \"weight\", \"welcome\", \"white\", \"work\", \"worry\", \"year\", \"zinc\"]}, \"R\": 30, \"lambda.step\": 0.01, \"plot.opts\": {\"xlab\": \"PC1\", \"ylab\": \"PC2\"}, \"topic.order\": [6, 8, 3, 11, 9, 10, 7, 12, 1, 2, 4, 5]};\n",
       "\n",
       "function LDAvis_load_lib(url, callback){\n",
       "  var s = document.createElement('script');\n",
       "  s.src = url;\n",
       "  s.async = true;\n",
       "  s.onreadystatechange = s.onload = callback;\n",
       "  s.onerror = function(){console.warn(\"failed to load library \" + url);};\n",
       "  document.getElementsByTagName(\"head\")[0].appendChild(s);\n",
       "}\n",
       "\n",
       "if(typeof(LDAvis) !== \"undefined\"){\n",
       "   // already loaded: just create the visualization\n",
       "   !function(LDAvis){\n",
       "       new LDAvis(\"#\" + \"ldavis_el180427586903292001444686684\", ldavis_el180427586903292001444686684_data);\n",
       "   }(LDAvis);\n",
       "}else if(typeof define === \"function\" && define.amd){\n",
       "   // require.js is available: use it to load d3/LDAvis\n",
       "   require.config({paths: {d3: \"https://d3js.org/d3.v5\"}});\n",
       "   require([\"d3\"], function(d3){\n",
       "      window.d3 = d3;\n",
       "      LDAvis_load_lib(\"https://cdn.jsdelivr.net/gh/bmabey/pyLDAvis@3.3.1/pyLDAvis/js/ldavis.v3.0.0.js\", function(){\n",
       "        new LDAvis(\"#\" + \"ldavis_el180427586903292001444686684\", ldavis_el180427586903292001444686684_data);\n",
       "      });\n",
       "    });\n",
       "}else{\n",
       "    // require.js not available: dynamically load d3 & LDAvis\n",
       "    LDAvis_load_lib(\"https://d3js.org/d3.v5.js\", function(){\n",
       "         LDAvis_load_lib(\"https://cdn.jsdelivr.net/gh/bmabey/pyLDAvis@3.3.1/pyLDAvis/js/ldavis.v3.0.0.js\", function(){\n",
       "                 new LDAvis(\"#\" + \"ldavis_el180427586903292001444686684\", ldavis_el180427586903292001444686684_data);\n",
       "            })\n",
       "         });\n",
       "}\n",
       "</script>"
      ],
      "text/plain": [
       "PreparedData(topic_coordinates=              x         y  topics  cluster       Freq\n",
       "topic                                                \n",
       "5      0.309977 -0.048595       1        1  42.119770\n",
       "7      0.231544  0.253404       2        1  15.571262\n",
       "2      0.163380 -0.364410       3        1  12.319734\n",
       "10     0.156365  0.094030       4        1   9.431620\n",
       "8      0.019928  0.064917       5        1   7.379698\n",
       "9     -0.093804  0.014176       6        1   2.776549\n",
       "6     -0.108308  0.002026       7        1   2.681822\n",
       "11    -0.115394 -0.027853       8        1   2.150925\n",
       "0     -0.140405  0.002791       9        1   1.604043\n",
       "1     -0.137016  0.003262      10        1   1.431858\n",
       "3     -0.140344  0.002820      11        1   1.427748\n",
       "4     -0.145923  0.003431      12        1   1.104971, topic_info=           Term         Freq        Total Category  logprob  loglift\n",
       "4      diabetes  5142.000000  5142.000000  Default  30.0000  30.0000\n",
       "13         type  4095.000000  4095.000000  Default  29.0000  29.0000\n",
       "1         blood  1039.000000  1039.000000  Default  28.0000  28.0000\n",
       "44        sugar   922.000000   922.000000  Default  27.0000  27.0000\n",
       "197         eat  1038.000000  1038.000000  Default  26.0000  26.0000\n",
       "...         ...          ...          ...      ...      ...      ...\n",
       "5015         ob     9.908025    10.813766  Topic12  -4.7342   4.4179\n",
       "321     company     9.737864    10.643614  Topic12  -4.7515   4.4164\n",
       "1901  encounter     9.274319    10.180114  Topic12  -4.8003   4.4122\n",
       "1224      apart     8.690430     9.596164  Topic12  -4.8653   4.4062\n",
       "522       block     8.192778     9.098505  Topic12  -4.9243   4.4005\n",
       "\n",
       "[441 rows x 6 columns], token_table=      Topic      Freq      Term\n",
       "term                           \n",
       "1836      9  0.975094  absolute\n",
       "1173      4  0.993877        ac\n",
       "781       7  0.979992    active\n",
       "832       8  0.975236  activity\n",
       "2350      6  0.977034  addition\n",
       "...     ...       ...       ...\n",
       "1151     11  0.983445     white\n",
       "271       1  0.998547      work\n",
       "585      12  0.983962     worry\n",
       "93        1  0.999384      year\n",
       "5668      8  0.947255      zinc\n",
       "\n",
       "[455 rows x 3 columns], R=30, lambda_step=0.01, plot_opts={'xlab': 'PC1', 'ylab': 'PC2'}, topic_order=[6, 8, 3, 11, 9, 10, 7, 12, 1, 2, 4, 5])"
      ]
     },
     "execution_count": 28,
     "metadata": {},
     "output_type": "execute_result"
    }
   ],
   "source": [
    "pyLDAvis.enable_notebook()\n",
    "lda_viz = gensimvis.prepare(lda_model, corpus, id2word)\n",
    "lda_viz"
   ]
  },
  {
   "cell_type": "markdown",
   "metadata": {},
   "source": [
    "### Finding optimal number of topics"
   ]
  },
  {
   "cell_type": "code",
   "execution_count": 16,
   "metadata": {},
   "outputs": [
    {
     "name": "stderr",
     "output_type": "stream",
     "text": [
      "D:\\Program Files\\Anaconda\\lib\\site-packages\\ipykernel\\ipkernel.py:287: DeprecationWarning: `should_run_async` will not call `transform_cell` automatically in the future. Please pass the result to `transformed_cell` argument and any exception that happen during thetransform in `preprocessing_exc_tuple` in IPython 7.17 and above.\n",
      "  and should_run_async(code)\n"
     ]
    }
   ],
   "source": [
    "def compute_coherence_values(dictionary, corpus, texts, limit, start=2, step=3):\n",
    "    \"\"\"\n",
    "    Compute c_v coherence for various number of topics\n",
    "\n",
    "    Parameters:\n",
    "    ----------\n",
    "    dictionary : Gensim dictionary\n",
    "    corpus : Gensim corpus\n",
    "    texts : List of input texts\n",
    "    limit : Max num of topics\n",
    "\n",
    "    Returns:\n",
    "    -------\n",
    "    model_list : List of LDA topic models\n",
    "    coherence_values : Coherence values corresponding to the LDA model with respective number of topics\n",
    "    \"\"\"\n",
    "    coherence_values = []\n",
    "    model_list = []\n",
    "    for num_topics in range(start, limit, step):\n",
    "        #model = gensim.models.wrappers.LdaMallet(mallet_path, corpus=corpus, num_topics=num_topics, id2word=id2word)\n",
    "        model = gensim.models.ldamodel.LdaModel(\n",
    "            corpus=corpus,\n",
    "            id2word=id2word,\n",
    "            num_topics=num_topics, \n",
    "            random_state=100,\n",
    "            update_every=1,\n",
    "            chunksize=100,\n",
    "            passes=10,\n",
    "            alpha='auto',\n",
    "            per_word_topics=True\n",
    "        )\n",
    "        model_list.append(model)\n",
    "        coherencemodel = CoherenceModel(model=model, texts=texts, dictionary=dictionary, coherence='c_v')\n",
    "        coherence_values.append(coherencemodel.get_coherence())\n",
    "\n",
    "    return model_list, coherence_values"
   ]
  },
  {
   "cell_type": "code",
   "execution_count": 25,
   "metadata": {},
   "outputs": [
    {
     "name": "stderr",
     "output_type": "stream",
     "text": [
      "D:\\Program Files\\Anaconda\\lib\\site-packages\\ipykernel\\ipkernel.py:287: DeprecationWarning: `should_run_async` will not call `transform_cell` automatically in the future. Please pass the result to `transformed_cell` argument and any exception that happen during thetransform in `preprocessing_exc_tuple` in IPython 7.17 and above.\n",
      "  and should_run_async(code)\n"
     ]
    }
   ],
   "source": [
    "# Can take a long time to run.\n",
    "model_list, coherence_values = compute_coherence_values(dictionary=id2word, corpus=corpus, texts=X, start=2, limit=15, step=1)"
   ]
  },
  {
   "cell_type": "code",
   "execution_count": 26,
   "metadata": {},
   "outputs": [
    {
     "name": "stderr",
     "output_type": "stream",
     "text": [
      "D:\\Program Files\\Anaconda\\lib\\site-packages\\ipykernel\\ipkernel.py:287: DeprecationWarning: `should_run_async` will not call `transform_cell` automatically in the future. Please pass the result to `transformed_cell` argument and any exception that happen during thetransform in `preprocessing_exc_tuple` in IPython 7.17 and above.\n",
      "  and should_run_async(code)\n"
     ]
    },
    {
     "data": {
      "image/png": "[encoded data removed]",
      "text/plain": [
       "<Figure size 432x288 with 1 Axes>"
      ]
     },
     "metadata": {
      "needs_background": "light"
     },
     "output_type": "display_data"
    }
   ],
   "source": [
    "# Show graph\n",
    "limit=15\n",
    "start=2\n",
    "step=1\n",
    "x = range(start, limit, step)\n",
    "plt.plot(x, coherence_values)\n",
    "plt.xlabel(\"Num Topics\")\n",
    "plt.ylabel(\"Coherence score\")\n",
    "plt.legend((\"coherence_values\"), loc='best')\n",
    "plt.show()"
   ]
  },
  {
   "cell_type": "markdown",
   "metadata": {},
   "source": [
    "from the graph above we can see that 12 (or 4) topics seem to have the highest coherence "
   ]
  }
 ],
 "metadata": {
  "interpreter": {
   "hash": "68427c26fce60f0abcad7d141e2fa62abfa6d5f31305d5bf20c70b37ca48f744"
  },
  "kernelspec": {
   "display_name": "Python 3.8.8 ('base')",
   "language": "python",
   "name": "python3"
  },
  "language_info": {
   "codemirror_mode": {
    "name": "ipython",
    "version": 3
   },
   "file_extension": ".py",
   "mimetype": "text/x-python",
   "name": "python",
   "nbconvert_exporter": "python",
   "pygments_lexer": "ipython3",
   "version": "3.8.8"
  },
  "orig_nbformat": 4
 },
 "nbformat": 4,
 "nbformat_minor": 2
}
