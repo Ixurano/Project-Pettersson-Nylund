{
 "cells": [
  {
   "cell_type": "markdown",
   "metadata": {},
   "source": [
    "# Topic modeling"
   ]
  },
  {
   "cell_type": "markdown",
   "metadata": {},
   "source": [
    "### Instructions\n",
    "\n",
    "Topic Modelling is an NLP method to identify and extract the hidden topics from a large corpus of\n",
    "textual data. As discussed in the previous lectures and hands-on exercises, you can use Latent Dirichlet\n",
    "Allocation [8], which is a popular algorithm for topic modeling with an excellent implementation in\n",
    "Gensim python package [9]. You can use the Gensim python package to build topic models on a\n",
    "Diabetes labeled dataset consisting of texts collected from 42 online forums. Again, the challenge in\n",
    "Topic modeling, in general, is to guess/identify the number of topics and also to extract good quality\n",
    "topics which are clear, segregated, and somewhat meaningful which really depends on finding the\n",
    "optimal number of topics. Therefore, try different combinations of topic numbers (maybe 5, 10, or\n",
    "15) to figure out some sensible topics from the given Diabetes labeled dataset.\n",
    "\n",
    "\n",
    "### Inspiration resource \n",
    "https://www.machinelearningplus.com/nlp/topic-modeling-gensim-python/"
   ]
  },
  {
   "cell_type": "markdown",
   "metadata": {},
   "source": [
    "### imports"
   ]
  },
  {
   "cell_type": "code",
   "execution_count": 26,
   "metadata": {},
   "outputs": [
    {
     "name": "stderr",
     "output_type": "stream",
     "text": [
      "D:\\Anaconda3\\lib\\site-packages\\ipykernel\\ipkernel.py:287: DeprecationWarning: `should_run_async` will not call `transform_cell` automatically in the future. Please pass the result to `transformed_cell` argument and any exception that happen during thetransform in `preprocessing_exc_tuple` in IPython 7.17 and above.\n",
      "  and should_run_async(code)\n"
     ]
    }
   ],
   "source": [
    "#pip install -U spacy"
   ]
  },
  {
   "cell_type": "code",
   "execution_count": 27,
   "metadata": {},
   "outputs": [
    {
     "name": "stderr",
     "output_type": "stream",
     "text": [
      "D:\\Anaconda3\\lib\\site-packages\\ipykernel\\ipkernel.py:287: DeprecationWarning: `should_run_async` will not call `transform_cell` automatically in the future. Please pass the result to `transformed_cell` argument and any exception that happen during thetransform in `preprocessing_exc_tuple` in IPython 7.17 and above.\n",
      "  and should_run_async(code)\n"
     ]
    }
   ],
   "source": [
    "#pip install gensim"
   ]
  },
  {
   "cell_type": "code",
   "execution_count": 28,
   "metadata": {},
   "outputs": [
    {
     "name": "stderr",
     "output_type": "stream",
     "text": [
      "D:\\Anaconda3\\lib\\site-packages\\ipykernel\\ipkernel.py:287: DeprecationWarning: `should_run_async` will not call `transform_cell` automatically in the future. Please pass the result to `transformed_cell` argument and any exception that happen during thetransform in `preprocessing_exc_tuple` in IPython 7.17 and above.\n",
      "  and should_run_async(code)\n"
     ]
    }
   ],
   "source": [
    "#pip install pyLDAvis"
   ]
  },
  {
   "cell_type": "code",
   "execution_count": 29,
   "metadata": {},
   "outputs": [
    {
     "name": "stderr",
     "output_type": "stream",
     "text": [
      "D:\\Anaconda3\\lib\\site-packages\\ipykernel\\ipkernel.py:287: DeprecationWarning: `should_run_async` will not call `transform_cell` automatically in the future. Please pass the result to `transformed_cell` argument and any exception that happen during thetransform in `preprocessing_exc_tuple` in IPython 7.17 and above.\n",
      "  and should_run_async(code)\n"
     ]
    }
   ],
   "source": [
    "import re\n",
    "import numpy as np\n",
    "import pandas as pd\n",
    "from pprint import pprint\n",
    "\n",
    "# Gensim\n",
    "import gensim\n",
    "import gensim.corpora as corpora\n",
    "from gensim.utils import simple_preprocess\n",
    "from gensim.models import CoherenceModel\n",
    "\n",
    "# preprocessing\n",
    "import spacy\n",
    "import string\n",
    "from spacy.lang.en.stop_words import STOP_WORDS\n",
    "\n",
    "# Plotting tools\n",
    "import pyLDAvis # you might need to run: `pip install pyLDAvis`\n",
    "import pyLDAvis.gensim_models as gensimvis\n",
    "\n",
    "\n",
    "import matplotlib.pyplot as plt\n",
    "%matplotlib inline\n",
    "\n",
    "# Enable logging for gensim - optional\n",
    "# import logging\n",
    "# logging.basicConfig(format='%(asctime)s : %(levelname)s : %(message)s', level=logging.ERROR)\n",
    "\n",
    "# import warnings\n",
    "# warnings.filterwarnings(\"ignore\",category=DeprecationWarning)"
   ]
  },
  {
   "cell_type": "markdown",
   "metadata": {},
   "source": [
    "TODO\n",
    "- import data\n",
    "- clean emails and newlines\n",
    "- tokenize words and clean up text \n",
    "- creating bigrams and trigrams\n",
    "- remove stopwords, make bigrams and lemmatize \n",
    "- create the dictionary and corpus needed\n",
    "- Build topic model using gensims lda model \n",
    "- compute complexity and coherence score\n",
    "- visualize topic keywords\n"
   ]
  },
  {
   "cell_type": "markdown",
   "metadata": {},
   "source": [
    "### Dataset"
   ]
  },
  {
   "cell_type": "code",
   "execution_count": 30,
   "metadata": {},
   "outputs": [
    {
     "name": "stderr",
     "output_type": "stream",
     "text": [
      "D:\\Anaconda3\\lib\\site-packages\\ipykernel\\ipkernel.py:287: DeprecationWarning: `should_run_async` will not call `transform_cell` automatically in the future. Please pass the result to `transformed_cell` argument and any exception that happen during thetransform in `preprocessing_exc_tuple` in IPython 7.17 and above.\n",
      "  and should_run_async(code)\n"
     ]
    }
   ],
   "source": [
    "df = pd.read_excel('Diabetes-classification.xlsx', sheet_name ='Emotions')\n",
    "#df = pd.read_excel('Diabetes-classification.xlsx', sheet_name ='Patient-journey')\n",
    "\n",
    "X = df.loc[:,'discussion_text']"
   ]
  },
  {
   "cell_type": "markdown",
   "metadata": {},
   "source": [
    "### Preprocessing"
   ]
  },
  {
   "cell_type": "code",
   "execution_count": 31,
   "metadata": {},
   "outputs": [
    {
     "name": "stderr",
     "output_type": "stream",
     "text": [
      "D:\\Anaconda3\\lib\\site-packages\\ipykernel\\ipkernel.py:287: DeprecationWarning: `should_run_async` will not call `transform_cell` automatically in the future. Please pass the result to `transformed_cell` argument and any exception that happen during thetransform in `preprocessing_exc_tuple` in IPython 7.17 and above.\n",
      "  and should_run_async(code)\n"
     ]
    }
   ],
   "source": [
    "#!python -m spacy download en_core_web_sm"
   ]
  },
  {
   "cell_type": "code",
   "execution_count": 32,
   "metadata": {},
   "outputs": [
    {
     "name": "stderr",
     "output_type": "stream",
     "text": [
      "D:\\Anaconda3\\lib\\site-packages\\ipykernel\\ipkernel.py:287: DeprecationWarning: `should_run_async` will not call `transform_cell` automatically in the future. Please pass the result to `transformed_cell` argument and any exception that happen during thetransform in `preprocessing_exc_tuple` in IPython 7.17 and above.\n",
      "  and should_run_async(code)\n"
     ]
    }
   ],
   "source": [
    "# Basic function to clean the text\n",
    "def clean_text(text):\n",
    "    # remove numbers \n",
    "    text = re.sub(r'\\d+', '', text)\n",
    "\n",
    "    # remove all links\n",
    "    text = re.sub(\n",
    "        r\"(?i)\\b((?:https?:(?:/{1,3}|[a-z0-9%])|[a-z0-9.\\-]+[.](?:com|net|org|edu|gov|mil|aero|asia|biz|cat|coop|info|int|jobs|mobi|museum|name|post|pro|tel|travel|xxx|ac|ad|ae|af|ag|ai|al|am|an|ao|aq|ar|as|at|au|aw|ax|az|ba|bb|bd|be|bf|bg|bh|bi|bj|bm|bn|bo|br|bs|bt|bv|bw|by|bz|ca|cc|cd|cf|cg|ch|ci|ck|cl|cm|cn|co|cr|cs|cu|cv|cx|cy|cz|dd|de|dj|dk|dm|do|dz|ec|ee|eg|eh|er|es|et|eu|fi|fj|fk|fm|fo|fr|ga|gb|gd|ge|gf|gg|gh|gi|gl|gm|gn|gp|gq|gr|gs|gt|gu|gw|gy|hk|hm|hn|hr|ht|hu|id|ie|il|im|in|io|iq|ir|is|it|je|jm|jo|jp|ke|kg|kh|ki|km|kn|kp|kr|kw|ky|kz|la|lb|lc|li|lk|lr|ls|lt|lu|lv|ly|ma|mc|md|me|mg|mh|mk|ml|mm|mn|mo|mp|mq|mr|ms|mt|mu|mv|mw|mx|my|mz|na|nc|ne|nf|ng|ni|nl|no|np|nr|nu|nz|om|pa|pe|pf|pg|ph|pk|pl|pm|pn|pr|ps|pt|pw|py|qa|re|ro|rs|ru|rw|sa|sb|sc|sd|se|sg|sh|si|sj|Ja|sk|sl|sm|sn|so|sr|ss|st|su|sv|sx|sy|sz|tc|td|tf|tg|th|tj|tk|tl|tm|tn|to|tp|tr|tt|tv|tw|tz|ua|ug|uk|us|uy|uz|va|vc|ve|vg|vi|vn|vu|wf|ws|ye|yt|yu|za|zm|zw)/)(?:[^\\s()<>{}\\[\\]]+|\\([^\\s()]*?\\([^\\s()]+\\)[^\\s()]*?\\)|\\([^\\s]+?\\))+(?:\\([^\\s()]*?\\([^\\s()]+\\)[^\\s()]*?\\)|\\([^\\s]+?\\)|[^\\s`!()\\[\\]{};:\\'\\\".,<>?«»“”‘’])|(?:(?<!@)[a-z0-9]+(?:[.\\-][a-z0-9]+)*[.](?:com|net|org|edu|gov|mil|aero|asia|biz|cat|coop|info|int|jobs|mobi|museum|name|post|pro|tel|travel|xxx|ac|ad|ae|af|ag|ai|al|am|an|ao|aq|ar|as|at|au|aw|ax|az|ba|bb|bd|be|bf|bg|bh|bi|bj|bm|bn|bo|br|bs|bt|bv|bw|by|bz|ca|cc|cd|cf|cg|ch|ci|ck|cl|cm|cn|co|cr|cs|cu|cv|cx|cy|cz|dd|de|dj|dk|dm|do|dz|ec|ee|eg|eh|er|es|et|eu|fi|fj|fk|fm|fo|fr|ga|gb|gd|ge|gf|gg|gh|gi|gl|gm|gn|gp|gq|gr|gs|gt|gu|gw|gy|hk|hm|hn|hr|ht|hu|id|ie|il|im|in|io|iq|ir|is|it|je|jm|jo|jp|ke|kg|kh|ki|km|kn|kp|kr|kw|ky|kz|la|lb|lc|li|lk|lr|ls|lt|lu|lv|ly|ma|mc|md|me|mg|mh|mk|ml|mm|mn|mo|mp|mq|mr|ms|mt|mu|mv|mw|mx|my|mz|na|nc|ne|nf|ng|ni|nl|no|np|nr|nu|nz|om|pa|pe|pf|pg|ph|pk|pl|pm|pn|pr|ps|pt|pw|py|qa|re|ro|rs|ru|rw|sa|sb|sc|sd|se|sg|sh|si|sj|Ja|sk|sl|sm|sn|so|sr|ss|st|su|sv|sx|sy|sz|tc|td|tf|tg|th|tj|tk|tl|tm|tn|to|tp|tr|tt|tv|tw|tz|ua|ug|uk|us|uy|uz|va|vc|ve|vg|vi|vn|vu|wf|ws|ye|yt|yu|za|zm|zw)\\b/?(?!@)))\", \n",
    "        'link_to_website', \n",
    "        text\n",
    "    )\n",
    "\n",
    "    # Removing spaces and converting text into lowercase\n",
    "    return text.strip().lower()\n",
    "\n",
    "\n",
    "# Create our list of punctuation marks\n",
    "punctuations = string.punctuation\n",
    "punctuations += \"....\"\n",
    "\n",
    "# Create our list of stopwords\n",
    "stop_words = STOP_WORDS \n",
    "\n",
    "# Load English tokenizer, tagger, parser, NER and word vectors\n",
    "parser = spacy.load('en_core_web_sm')\n",
    "\n",
    "\n",
    "# Creating our tokenizer function\n",
    "def spacy_tokenizer(sentence, allowed_postags=['NOUN', 'ADJ', 'VERB', 'ADV']):\n",
    "    # Creating our token object, which is used to create documents with linguistic annotations.\n",
    "    mytokens = parser(sentence)\n",
    "\n",
    "    # Lemmatizing each token and converting each token into lowercase\n",
    "    mytokens = [ word.lemma_.lower().strip() if word.lemma_ != \"-PRON-\" else word.lower_ for word in mytokens if word.pos_ in allowed_postags]\n",
    "\n",
    "    # Removing stop words\n",
    "    mytokens = [ word for word in mytokens if word not in stop_words and word not in punctuations ]\n",
    "\n",
    "    # return preprocessed list of tokens\n",
    "    return mytokens\n",
    "\n",
    "X = [spacy_tokenizer(clean_text(text)) for text in X]"
   ]
  },
  {
   "cell_type": "markdown",
   "metadata": {},
   "source": [
    "### Bigram and Trigram models\n",
    "Tbh, I'm not sure if this is needed"
   ]
  },
  {
   "cell_type": "code",
   "execution_count": 33,
   "metadata": {},
   "outputs": [
    {
     "name": "stderr",
     "output_type": "stream",
     "text": [
      "D:\\Anaconda3\\lib\\site-packages\\ipykernel\\ipkernel.py:287: DeprecationWarning: `should_run_async` will not call `transform_cell` automatically in the future. Please pass the result to `transformed_cell` argument and any exception that happen during thetransform in `preprocessing_exc_tuple` in IPython 7.17 and above.\n",
      "  and should_run_async(code)\n"
     ]
    },
    {
     "name": "stdout",
     "output_type": "stream",
     "text": [
      "['low', 'carb', 'diet', 'blood', 'glucose', 'pretty', 'normal', 'hypo', 'type', 'symptom', 'briefly', 'try', 'associate', 'type', 'diabetes']\n"
     ]
    }
   ],
   "source": [
    "# Build the bigram and trigram models\n",
    "bigram = gensim.models.Phrases(X, min_count=5, threshold=100) # higher threshold fewer phrases.\n",
    "trigram = gensim.models.Phrases(bigram[X], threshold=100)  \n",
    "\n",
    "# Faster way to get a sentence clubbed as a trigram/bigram\n",
    "bigram_mod = gensim.models.phrases.Phraser(bigram)\n",
    "trigram_mod = gensim.models.phrases.Phraser(trigram)\n",
    "\n",
    "# See trigram example\n",
    "print(trigram_mod[bigram_mod[X[0]]])"
   ]
  },
  {
   "cell_type": "markdown",
   "metadata": {},
   "source": [
    "### Creating Dictionary and corpus"
   ]
  },
  {
   "cell_type": "code",
   "execution_count": 34,
   "metadata": {},
   "outputs": [
    {
     "name": "stdout",
     "output_type": "stream",
     "text": [
      "[[(0, 1), (1, 1), (2, 1), (3, 1), (4, 1), (5, 1), (6, 1), (7, 1), (8, 1), (9, 1), (10, 1), (11, 1), (12, 1), (13, 2)]]\n"
     ]
    },
    {
     "name": "stderr",
     "output_type": "stream",
     "text": [
      "D:\\Anaconda3\\lib\\site-packages\\ipykernel\\ipkernel.py:287: DeprecationWarning: `should_run_async` will not call `transform_cell` automatically in the future. Please pass the result to `transformed_cell` argument and any exception that happen during thetransform in `preprocessing_exc_tuple` in IPython 7.17 and above.\n",
      "  and should_run_async(code)\n"
     ]
    }
   ],
   "source": [
    "# Create Dictionary\n",
    "id2word = corpora.Dictionary(X)\n",
    "\n",
    "# Create Corpus\n",
    "texts = X\n",
    "\n",
    "# Term Document Frequency\n",
    "corpus = [id2word.doc2bow(text) for text in texts]\n",
    "\n",
    "# View\n",
    "print(corpus[:1])"
   ]
  },
  {
   "cell_type": "markdown",
   "metadata": {},
   "source": [
    "### Building LDA (Latent Dirichlet Allocation) model"
   ]
  },
  {
   "cell_type": "code",
   "execution_count": 35,
   "metadata": {},
   "outputs": [
    {
     "name": "stderr",
     "output_type": "stream",
     "text": [
      "D:\\Anaconda3\\lib\\site-packages\\ipykernel\\ipkernel.py:287: DeprecationWarning: `should_run_async` will not call `transform_cell` automatically in the future. Please pass the result to `transformed_cell` argument and any exception that happen during thetransform in `preprocessing_exc_tuple` in IPython 7.17 and above.\n",
      "  and should_run_async(code)\n"
     ]
    }
   ],
   "source": [
    "lda_model = gensim.models.ldamodel.LdaModel(\n",
    "  corpus=corpus,\n",
    "  id2word=id2word,\n",
    "  num_topics=12, \n",
    "  random_state=100,\n",
    "  update_every=1,\n",
    "  chunksize=100,\n",
    "  passes=10,\n",
    "  alpha='auto',\n",
    "  per_word_topics=True\n",
    ")"
   ]
  },
  {
   "cell_type": "markdown",
   "metadata": {},
   "source": [
    "### View topics"
   ]
  },
  {
   "cell_type": "code",
   "execution_count": 36,
   "metadata": {},
   "outputs": [
    {
     "name": "stdout",
     "output_type": "stream",
     "text": [
      "[(0,\n",
      "  '0.049*\"hbac\" + 0.044*\"meter\" + 0.037*\"answer\" + 0.036*\"option\" + '\n",
      "  '0.036*\"continue\" + 0.034*\"struggle\" + 0.029*\"short\" + 0.023*\"enjoy\" + '\n",
      "  '0.020*\"sound\" + 0.020*\"money\"'),\n",
      " (1,\n",
      "  '0.049*\"foot\" + 0.041*\"eye\" + 0.038*\"place\" + 0.029*\"welcome\" + 0.028*\"leg\" '\n",
      "  '+ 0.025*\"neuropathy\" + 0.024*\"suffer\" + 0.024*\"totally\" + 0.024*\"soda\" + '\n",
      "  '0.023*\"community\"'),\n",
      " (2,\n",
      "  '0.055*\"know\" + 0.046*\"good\" + 0.042*\"test\" + 0.042*\"t\" + 0.037*\"doctor\" + '\n",
      "  '0.028*\"feel\" + 0.026*\"thing\" + 0.024*\"read\" + 0.024*\"want\" + 0.022*\"find\"'),\n",
      " (3,\n",
      "  '0.081*\"little\" + 0.046*\"night\" + 0.033*\"dad\" + 0.030*\"notice\" + '\n",
      "  '0.030*\"fine\" + 0.025*\"kid\" + 0.022*\"quit\" + 0.021*\"wake\" + 0.018*\"battle\" + '\n",
      "  '0.017*\"fairly\"'),\n",
      " (4,\n",
      "  '0.052*\"appointment\" + 0.049*\"system\" + 0.042*\"worry\" + 0.038*\"birth\" + '\n",
      "  '0.034*\"wait\" + 0.030*\"urine\" + 0.024*\"drive\" + 0.022*\"bed\" + 0.019*\"list\" + '\n",
      "  '0.017*\"complete\"'),\n",
      " (5,\n",
      "  '0.120*\"diabetes\" + 0.095*\"type\" + 0.025*\"insulin\" + 0.025*\"year\" + '\n",
      "  '0.020*\"diagnose\" + 0.018*\"weight\" + 0.018*\"people\" + 0.016*\"diabetic\" + '\n",
      "  '0.014*\"diet\" + 0.014*\"help\"'),\n",
      " (6,\n",
      "  '0.047*\"pregnancy\" + 0.035*\"water\" + 0.031*\"maybe\" + 0.029*\"baby\" + '\n",
      "  '0.024*\"real\" + 0.022*\"sweet\" + 0.016*\"lchf\" + 0.016*\"personally\" + '\n",
      "  '0.016*\"active\" + 0.016*\"twice\"'),\n",
      " (7,\n",
      "  '0.065*\"blood\" + 0.058*\"sugar\" + 0.046*\"high\" + 0.039*\"low\" + 0.037*\"level\" '\n",
      "  '+ 0.032*\"diet\" + 0.028*\"fat\" + 0.027*\"eat\" + 0.027*\"carb\" + 0.026*\"food\"'),\n",
      " (8,\n",
      "  '0.047*\"risk\" + 0.045*\"disease\" + 0.039*\"health\" + 0.028*\"increase\" + '\n",
      "  '0.026*\"reduce\" + 0.024*\"study\" + 0.023*\"patient\" + 0.023*\"condition\" + '\n",
      "  '0.018*\"thank\" + 0.016*\"improve\"'),\n",
      " (9,\n",
      "  '0.040*\"factor\" + 0.039*\"cancer\" + 0.026*\"free\" + 0.025*\"obese\" + '\n",
      "  '0.025*\"cost\" + 0.020*\"instead\" + 0.020*\"explain\" + 0.019*\"group\" + '\n",
      "  '0.016*\"rest\" + 0.016*\"future\"'),\n",
      " (10,\n",
      "  '0.056*\"eat\" + 0.035*\"lot\" + 0.035*\"ago\" + 0.033*\"month\" + 0.025*\"hour\" + '\n",
      "  '0.022*\"try\" + 0.021*\"number\" + 0.020*\"link\" + 0.019*\"sure\" + 0.018*\"find\"'),\n",
      " (11,\n",
      "  '0.070*\"recently\" + 0.047*\"calorie\" + 0.046*\"pretty\" + 0.035*\"genetic\" + '\n",
      "  '0.032*\"habit\" + 0.030*\"huge\" + 0.029*\"interesting\" + 0.027*\"eating\" + '\n",
      "  '0.025*\"area\" + 0.023*\"tablet\"')]\n"
     ]
    },
    {
     "name": "stderr",
     "output_type": "stream",
     "text": [
      "D:\\Anaconda3\\lib\\site-packages\\ipykernel\\ipkernel.py:287: DeprecationWarning: `should_run_async` will not call `transform_cell` automatically in the future. Please pass the result to `transformed_cell` argument and any exception that happen during thetransform in `preprocessing_exc_tuple` in IPython 7.17 and above.\n",
      "  and should_run_async(code)\n"
     ]
    }
   ],
   "source": [
    "# Print the Keyword in the 10 topics\n",
    "pprint(lda_model.print_topics())\n",
    "doc_lda = lda_model[corpus]"
   ]
  },
  {
   "cell_type": "markdown",
   "metadata": {},
   "source": [
    "### Show model complexity and coherence"
   ]
  },
  {
   "cell_type": "code",
   "execution_count": 37,
   "metadata": {},
   "outputs": [
    {
     "name": "stderr",
     "output_type": "stream",
     "text": [
      "D:\\Anaconda3\\lib\\site-packages\\ipykernel\\ipkernel.py:287: DeprecationWarning: `should_run_async` will not call `transform_cell` automatically in the future. Please pass the result to `transformed_cell` argument and any exception that happen during thetransform in `preprocessing_exc_tuple` in IPython 7.17 and above.\n",
      "  and should_run_async(code)\n"
     ]
    },
    {
     "name": "stdout",
     "output_type": "stream",
     "text": [
      "\n",
      "Perplexity:  -8.235839771803457\n",
      "\n",
      "Coherence Score:  0.4829283839268758\n"
     ]
    }
   ],
   "source": [
    "# Compute Perplexity\n",
    "print('\\nPerplexity: ', lda_model.log_perplexity(corpus))  # a measure of how good the model is. lower the better.\n",
    "\n",
    "# Compute Coherence Score\n",
    "coherence_model_lda = CoherenceModel(model=lda_model, texts=X, dictionary=id2word, coherence='c_v')\n",
    "coherence_lda = coherence_model_lda.get_coherence()\n",
    "print('\\nCoherence Score: ', coherence_lda)"
   ]
  },
  {
   "cell_type": "markdown",
   "metadata": {},
   "source": [
    "### Visualize the topics"
   ]
  },
  {
   "cell_type": "code",
   "execution_count": 38,
   "metadata": {},
   "outputs": [
    {
     "name": "stderr",
     "output_type": "stream",
     "text": [
      "D:\\Anaconda3\\lib\\site-packages\\ipykernel\\ipkernel.py:287: DeprecationWarning: `should_run_async` will not call `transform_cell` automatically in the future. Please pass the result to `transformed_cell` argument and any exception that happen during thetransform in `preprocessing_exc_tuple` in IPython 7.17 and above.\n",
      "  and should_run_async(code)\n"
     ]
    },
    {
     "data": {
      "text/html": [
       "\n",
       "<link rel=\"stylesheet\" type=\"text/css\" href=\"https://cdn.jsdelivr.net/gh/bmabey/pyLDAvis@3.3.1/pyLDAvis/js/ldavis.v1.0.0.css\">\n",
       "\n",
       "\n",
       "<div id=\"ldavis_el1444824092832145764789312182\"></div>\n",
       "<script type=\"text/javascript\">\n",
       "\n",
       "var ldavis_el1444824092832145764789312182_data = {\"mdsDat\": {\"x\": [0.30997674167269357, 0.23154279465086122, 0.16338041203441064, 0.15636485655476517, 0.019928248175896706, -0.0938046905597043, -0.10830407284014403, -0.11539470267625435, -0.1404056713409808, -0.1370168639139254, -0.14034393618344576, -0.1459231155741726], \"y\": [-0.048599105579746435, 0.25340346677179637, -0.36440818057210983, 0.09404004109496514, 0.06491221128081977, 0.014174817757403917, 0.0020280263398536977, -0.027852399344637638, 0.002790020564740086, 0.00326119783665915, 0.002819024031840262, 0.003430879818415297], \"topics\": [1, 2, 3, 4, 5, 6, 7, 8, 9, 10, 11, 12], \"cluster\": [1, 1, 1, 1, 1, 1, 1, 1, 1, 1, 1, 1], \"Freq\": [42.11998490392477, 15.571296573977117, 12.319807243964382, 9.43169378529059, 7.379736065618681, 2.776556265904315, 2.6813234104074395, 2.1509405710751586, 1.6040558615554419, 1.4318615136581618, 1.4277608516870672, 1.10498295293688]}, \"tinfo\": {\"Term\": [\"diabetes\", \"type\", \"blood\", \"sugar\", \"eat\", \"know\", \"high\", \"good\", \"low\", \"test\", \"t\", \"level\", \"diet\", \"doctor\", \"disease\", \"risk\", \"year\", \"ago\", \"fat\", \"lot\", \"people\", \"carb\", \"health\", \"month\", \"food\", \"feel\", \"insulin\", \"thing\", \"try\", \"find\", \"diabetes\", \"type\", \"year\", \"weight\", \"control\", \"lose\", \"use\", \"work\", \"start\", \"exercise\", \"metformin\", \"long\", \"change\", \"diabete\", \"bad\", \"med\", \"medication\", \"new\", \"life\", \"mean\", \"time\", \"old\", \"family\", \"pre\", \"reverse\", \"lifestyle\", \"overweight\", \"drug\", \"manage\", \"daily\", \"need\", \"help\", \"diagnose\", \"diabetic\", \"people\", \"problem\", \"day\", \"insulin\", \"think\", \"diet\", \"week\", \"sugar\", \"fat\", \"food\", \"body\", \"low\", \"resistance\", \"heart\", \"obesity\", \"pressure\", \"cholesterol\", \"issue\", \"carbohydrate\", \"run\", \"lead\", \"lower\", \"fruit\", \"m\", \"case\", \"blood\", \"process\", \"thread\", \"recommend\", \"turn\", \"site\", \"relate\", \"avoid\", \"dose\", \"concern\", \"cut\", \"excess\", \"cell\", \"level\", \"high\", \"glucose\", \"carb\", \"cause\", \"diet\", \"eat\", \"insulin\", \"way\", \"effect\", \"test\", \"t\", \"feel\", \"read\", \"ask\", \"forum\", \"advice\", \"follow\", \"like\", \"question\", \"diagnosis\", \"learn\", \"later\", \"today\", \"course\", \"information\", \"let\", \"deal\", \"medical\", \"big\", \"sorry\", \"figure\", \"self\", \"opinion\", \"book\", \"line\", \"head\", \"plan\", \"member\", \"home\", \"know\", \"good\", \"post\", \"hope\", \"look\", \"doctor\", \"thing\", \"want\", \"tell\", \"find\", \"week\", \"think\", \"month\", \"hour\", \"number\", \"link\", \"sure\", \"fast\", \"check\", \"meal\", \"ac\", \"bg\", \"hard\", \"nurse\", \"surgery\", \"support\", \"gp\", \"watch\", \"bit\", \"hear\", \"pregnant\", \"testing\", \"especially\", \"couple\", \"away\", \"husband\", \"expect\", \"kind\", \"affect\", \"regard\", \"lbs\", \"glad\", \"ago\", \"lot\", \"drink\", \"history\", \"eat\", \"try\", \"find\", \"carb\", \"normal\", \"increase\", \"study\", \"patient\", \"condition\", \"thank\", \"improve\", \"complication\", \"range\", \"consider\", \"article\", \"common\", \"dietary\", \"breakfast\", \"base\", \"prevent\", \"walk\", \"term\", \"mom\", \"intake\", \"total\", \"metabolic\", \"suppose\", \"evidence\", \"parent\", \"small\", \"protein\", \"compare\", \"appreciate\", \"percent\", \"hypoglycemia\", \"health\", \"risk\", \"reduce\", \"disease\", \"develop\", \"suggest\", \"factor\", \"cancer\", \"free\", \"obese\", \"cost\", \"instead\", \"explain\", \"group\", \"rest\", \"future\", \"nhs\", \"difference\", \"addition\", \"strip\", \"individual\", \"exactly\", \"infection\", \"clinic\", \"local\", \"illness\", \"thin\", \"present\", \"register\", \"education\", \"glass\", \"understanding\", \"offer\", \"receive\", \"challenge\", \"myth\", \"people\", \"pregnancy\", \"water\", \"maybe\", \"baby\", \"real\", \"sweet\", \"lchf\", \"personally\", \"active\", \"twice\", \"monitor\", \"coffee\", \"maintain\", \"late\", \"sensitivity\", \"ok\", \"snack\", \"advise\", \"average\", \"job\", \"endocrinologist\", \"pay\", \"constantly\", \"majority\", \"introduce\", \"trial\", \"nation\", \"gd\", \"alcohol\", \"explanation\", \"recently\", \"calorie\", \"pretty\", \"genetic\", \"habit\", \"huge\", \"interesting\", \"eating\", \"area\", \"tablet\", \"juice\", \"paper\", \"prior\", \"physical\", \"activity\", \"blame\", \"relationship\", \"solution\", \"typical\", \"relatively\", \"carry\", \"zinc\", \"starch\", \"predisposition\", \"gym\", \"directly\", \"apply\", \"curative\", \"tip\", \"milk\", \"look\", \"hbac\", \"meter\", \"answer\", \"option\", \"continue\", \"struggle\", \"short\", \"enjoy\", \"sound\", \"money\", \"stuff\", \"save\", \"folk\", \"clear\", \"nice\", \"sort\", \"public\", \"center\", \"resource\", \"speak\", \"absolute\", \"decade\", \"reaction\", \"oil\", \"possibility\", \"initially\", \"insurance\", \"barely\", \"healthcare\", \"dead\", \"foot\", \"eye\", \"place\", \"welcome\", \"leg\", \"neuropathy\", \"suffer\", \"totally\", \"soda\", \"community\", \"drop\", \"event\", \"ketone\", \"extreme\", \"dry\", \"share\", \"shake\", \"fluid\", \"bet\", \"repeat\", \"interest\", \"numb\", \"finger\", \"thirsty\", \"joint\", \"lifetime\", \"fatigue\", \"sensation\", \"painful\", \"toe\", \"little\", \"night\", \"dad\", \"notice\", \"fine\", \"kid\", \"quit\", \"wake\", \"battle\", \"fairly\", \"proper\", \"smoking\", \"white\", \"gi\", \"role\", \"piece\", \"hypo\", \"play\", \"hrs\", \"moment\", \"light\", \"bean\", \"dairy\", \"sedentary\", \"prevention\", \"slim\", \"replace\", \"sudden\", \"advocate\", \"house\", \"appointment\", \"system\", \"worry\", \"birth\", \"wait\", \"urine\", \"drive\", \"bed\", \"list\", \"complete\", \"possibly\", \"focus\", \"primary\", \"arthritis\", \"pharmaceutical\", \"brown\", \"development\", \"dietician\", \"iron\", \"suspect\", \"cook\", \"stimulate\", \"l\", \"dm\", \"entirely\", \"ob\", \"company\", \"encounter\", \"apart\", \"block\"], \"Freq\": [5142.0, 4095.0, 1039.0, 922.0, 1038.0, 715.0, 780.0, 595.0, 626.0, 530.0, 529.0, 615.0, 1116.0, 540.0, 385.0, 378.0, 1059.0, 384.0, 447.0, 397.0, 836.0, 574.0, 307.0, 320.0, 406.0, 356.0, 1299.0, 363.0, 451.0, 453.0, 5141.889358411379, 4094.4360307452916, 1058.7607353994583, 790.5636384362508, 608.3017197504223, 510.1248799849189, 481.51568977792897, 480.8253440431881, 475.7631021183886, 463.1261855829026, 437.13611531058626, 353.9922532287694, 351.8933236718071, 346.0763875141238, 308.3329920241046, 282.56692095474534, 269.0534562206759, 260.99776858282667, 259.32780900462234, 235.8769432746964, 532.7944797140713, 218.2515975039784, 233.69127530372612, 212.40140661871004, 194.56456718338677, 190.6250824962405, 189.1359830158949, 182.83263143848086, 166.58475571056513, 163.85492674597097, 548.8046501689963, 609.489405743198, 846.3899623474948, 674.9197830199935, 788.9458819773421, 293.13386075566103, 586.0605497607712, 1085.6309554654033, 572.8237275439044, 610.4675189220593, 345.15053748114224, 921.2842324593977, 447.089229037441, 405.6540244536578, 314.7413577679628, 624.391765267833, 222.66039995512824, 203.5417454284798, 202.16716518551348, 190.45243177641345, 169.0257476341508, 167.90695761010616, 162.50561205090898, 139.0451959476896, 127.08517614010944, 124.60667395696292, 123.57923758253315, 115.16902087845773, 112.85005101605972, 1030.4721264785112, 95.542388280554, 86.8240323876521, 83.33924201503523, 82.82777993009827, 82.70293240797683, 76.98350601581696, 75.76706004989249, 71.55752825797869, 68.05944537456362, 64.72503716362048, 63.906538051297744, 136.50827181112945, 588.7208502247857, 733.1360725938207, 368.900121140747, 428.3294057288345, 344.4731760275455, 504.8840304001437, 435.8209375853334, 213.35963680696906, 125.63656615420015, 100.56129121688568, 529.4092845693857, 528.4140394863043, 355.81388217570696, 302.06203287558833, 218.28617657518365, 207.93395624999627, 196.81787350158484, 170.61314350268913, 159.67680135144332, 141.988821338927, 137.02733240514476, 123.88763459541691, 113.61704431220875, 113.61421172400127, 108.34026021915, 95.04045679869473, 93.25101016580336, 91.55152747077439, 89.63732405519939, 84.83089006350188, 80.96987335323601, 76.62687771357528, 76.00628338811806, 72.16542838523809, 72.12784977184916, 70.19364266517258, 68.8604826843396, 67.20341858296315, 61.95091632559208, 59.95760527613171, 688.8886357949117, 573.9062488519672, 224.84675519136854, 113.49147403828373, 260.89614550536487, 469.7492649237788, 323.31744704704806, 296.76080893055763, 255.71040220188374, 275.52604222024667, 114.18223929888082, 91.04372751003366, 319.7141483562209, 238.74547843083872, 203.41261205670006, 195.58983172472463, 186.20350970543188, 171.85839735668608, 168.63061087184036, 149.21677530913627, 136.96063867247534, 133.0779683381504, 132.50472766691766, 122.78892062721633, 121.24243161997836, 116.25307550400369, 112.34164053328638, 107.81817295646324, 105.640241934264, 98.26549993717416, 97.87928316816739, 90.26019409782289, 86.92996607925824, 85.35226609739263, 77.6551899147357, 77.5094938950772, 73.97477709069504, 72.4308867577729, 65.12210628357538, 63.04294728774219, 63.00170005368794, 61.25194094927712, 339.94205001166716, 340.29249468457476, 124.71402752132377, 83.15342918836988, 539.6870185922578, 207.16993667954316, 174.7514029020865, 144.92509155939268, 101.4203801660422, 211.3871845243899, 177.81474506774882, 175.91957658276382, 171.61489703637253, 137.6022115210399, 123.10432475837209, 114.88203022475605, 114.78124830330944, 114.46325308518719, 102.44379247408142, 91.38698361271656, 90.10306933057804, 89.12882071858078, 82.02002829229045, 81.24563975200847, 80.10536810411764, 74.53118271085796, 71.27403497132687, 70.45030016952123, 67.57984538474338, 63.26692743862343, 62.554428561664764, 58.90895421024275, 57.298171778189094, 57.027861118836725, 56.64616729515288, 53.560430855508095, 50.67226876986665, 48.45265106935496, 44.67299246771413, 295.6948586647387, 357.50863055088286, 198.48444826850337, 339.8165023655908, 78.08006796043996, 58.175084573817735, 113.68297533619346, 109.82799724097971, 74.9905749144324, 71.2920814843945, 70.42964310686126, 57.8143674986349, 57.06572607805304, 53.01644531092101, 46.05887646529231, 46.032443957789575, 45.53272183939911, 45.15554420239905, 43.12063418293402, 42.630263685211936, 42.42577843056306, 42.40415231314715, 39.92206863332103, 37.10725719188618, 36.50158081562673, 36.4669310166199, 35.87311761303908, 34.3485079909152, 34.34684606679078, 31.400560599265244, 29.088607828258855, 29.070775118606313, 25.875504399519365, 25.20767469898129, 24.77535811269759, 23.693437593773655, 26.344298901346754, 127.50843927886562, 96.25820432535058, 83.85435878626853, 78.17113150187335, 64.55520815586384, 60.918770935470334, 44.428620914500414, 42.999430286900875, 42.97448521450489, 42.908255435894695, 42.658537224945235, 42.13758720660185, 40.62856317635264, 40.02915795022951, 36.73167514799127, 35.896134954997045, 34.846421750720566, 34.4127692957826, 34.37962383653585, 33.960380014101126, 32.697655456325535, 32.42094143939361, 31.124781007925478, 29.121810407800773, 28.188665486070843, 27.46570929322659, 25.768025415506997, 25.424009124511578, 24.936051715706647, 24.467391582575697, 154.58989978173057, 103.40081668684368, 101.96993159903664, 77.72463394328909, 70.31986941730476, 65.92545591310368, 62.97406638794619, 59.22382337869813, 54.010521089113006, 51.48664941693307, 47.12912669801855, 40.70531128617938, 37.482746287701104, 34.096085550415985, 33.966606087477146, 32.546533604641915, 26.761548801762313, 24.98789943610457, 24.761897395575694, 23.860940304944403, 23.610374380128768, 21.272477061162835, 20.35865151967017, 20.28011861540595, 19.319995669710575, 19.10034508944487, 18.377333108985756, 18.15655447014049, 17.991772086980873, 17.27665651657867, 23.990628213490332, 80.23408995115264, 71.29676530623516, 59.92639421755058, 59.15270443131918, 58.30514963665899, 55.273806987787275, 48.07533364779477, 37.01089244113572, 33.26663694207578, 32.83831194251016, 29.52076905589614, 26.483220697807578, 24.845242647564085, 24.44132138613435, 22.175931198913013, 21.046435733617855, 20.447470494538248, 19.892868761181226, 19.58329500618481, 19.21323692225957, 18.59085244606423, 18.35343987265367, 17.580577615917548, 17.40839814106245, 16.22343991163943, 15.450493835157008, 14.088008431065065, 13.586773968178447, 13.270657700984602, 12.581409451169455, 72.29411477403342, 59.978775556772774, 55.789040443982294, 41.69322378629401, 41.422031668363786, 37.22197387467932, 35.685690143507415, 35.41315939642594, 34.63977728745522, 33.25680468517482, 33.132682201678854, 29.610792437396032, 25.686894925930776, 24.744736712264267, 24.622739166506364, 24.08122558375242, 23.547822678843755, 18.517435261045815, 17.041287812019227, 17.029961159261806, 16.035871208583295, 15.48572999770209, 15.371475823010158, 15.127369179065079, 13.992121872703667, 13.518555962934961, 13.444613027074158, 13.221002101414374, 12.773297309699792, 11.94250379072801, 118.33689141864353, 66.77760477927183, 47.39649899807181, 44.313145822924625, 43.8890199805668, 36.049847431736794, 32.65845492726278, 29.94504900499414, 26.332240515383788, 24.637546716267092, 24.05966437014618, 23.761248048174537, 23.502205480289664, 22.63694329201692, 19.393641192952092, 19.157121942536275, 18.688319789600076, 18.548371094107136, 18.432441935016538, 18.26563726269558, 17.72136626084401, 16.45967252372394, 16.45670721584708, 16.012978599414012, 16.01062371630595, 15.865019774454991, 15.060044492847943, 14.648999375035654, 14.464736554327157, 14.459393302850971, 58.78554407952507, 55.37366617393168, 47.87717811701385, 42.49754159534762, 38.632363096759946, 33.34269926380102, 26.65872856266277, 24.424776683851043, 21.738479559023205, 19.041537139295688, 19.02806569707156, 17.9457667533098, 17.25588025524534, 17.0680705874862, 16.993301563545867, 16.54214367734549, 16.383179189336204, 16.21857605449199, 12.341129220973585, 12.298722313461006, 12.154001943913142, 12.115908795448174, 11.13015238807441, 10.439257001607722, 10.240243528407817, 9.908133423838471, 9.737971429379485, 9.274420278258923, 8.69052637792757, 8.192868814770197], \"Total\": [5142.0, 4095.0, 1039.0, 922.0, 1038.0, 715.0, 780.0, 595.0, 626.0, 530.0, 529.0, 615.0, 1116.0, 540.0, 385.0, 378.0, 1059.0, 384.0, 447.0, 397.0, 836.0, 574.0, 307.0, 320.0, 406.0, 356.0, 1299.0, 363.0, 451.0, 453.0, 5142.767593828846, 4095.3139069081526, 1059.6593011132807, 791.4415117623723, 609.1795949041226, 511.00275187010976, 482.39356510174383, 481.70323133544963, 476.64097909840683, 464.0040595958886, 438.01398632667895, 354.8701309345391, 352.771198732206, 346.95426254886667, 309.2108764165099, 283.4447979198893, 269.93132403865684, 261.8756435739167, 260.2056863069783, 236.75482053642628, 534.9155077996114, 219.1294703329486, 234.63500641519482, 213.2792890153561, 195.44244835087082, 191.50295805775326, 190.01385869759756, 183.71050705883547, 167.46263000885287, 164.73280862462263, 553.6138579565405, 615.8746687640754, 884.4040253981984, 703.0856523306226, 836.2014519561056, 298.45165679127183, 642.0535138065795, 1299.777621838689, 664.6587591047265, 1116.138580584808, 460.1240824476844, 922.1654526982753, 447.97044985136824, 406.5352499479538, 315.62405298204555, 626.5752184900526, 223.54162838535578, 204.42296870924497, 203.04839039554497, 191.33365499820925, 169.90697296604029, 168.7881834553346, 163.38683129513657, 139.92643465588083, 127.96639903919312, 125.48789434996424, 124.46045646843935, 116.05026184243474, 113.73128248006455, 1039.2855027370597, 96.42361607741606, 87.70527073715533, 84.22047491835886, 83.7090121244464, 83.58418990964822, 77.86472889593566, 76.64828347016106, 72.4387524693925, 68.94913542645403, 65.6062682103809, 64.78775963686648, 138.90569220076233, 615.834415018418, 780.8659207911206, 420.0756108379998, 574.0479715531491, 520.8515712459459, 1116.138580584808, 1038.8567116711924, 1299.777621838689, 311.3927463821456, 171.4997097927535, 530.2964203850032, 529.3077191163, 356.6993762966464, 303.02895121229625, 219.17167151657475, 208.8194460215683, 197.70336800423047, 171.49863983555605, 160.56230167604218, 142.87431833149648, 137.91282442333045, 124.77312732110735, 114.50254795458594, 114.4997121179942, 109.22577009099801, 95.9259474835947, 94.13650569137725, 92.43702131743537, 90.52281714295846, 85.71638569236062, 81.85536508081456, 77.51238151497363, 76.89178095698288, 73.05094278329396, 73.0133453583686, 71.07915471788975, 69.74598429755939, 68.08891473901886, 62.83640558504578, 60.84310739447338, 715.0317212386519, 595.2880941411072, 240.5004856378155, 117.69986607945418, 285.69718774414133, 540.7772789693292, 363.9373577172475, 348.26780926641766, 394.4213838999054, 453.7920168772732, 460.1240824476844, 664.6587591047265, 320.5984705180425, 239.6298044156712, 204.29693308637934, 196.47415615454577, 187.08783787167036, 172.74271764241735, 169.51493043327216, 150.10109364499604, 137.84495868005527, 133.96229122119055, 133.38905624321083, 123.67324156130408, 122.12674797611164, 117.1374071185624, 113.22597186381647, 108.70250161250766, 106.52456598758563, 99.14982156392863, 98.76359902874735, 91.14792652306984, 87.81429291974456, 86.2365905591067, 78.53951523945773, 78.39381255170552, 74.85910685319132, 73.31521202202516, 66.00643572162323, 63.92727584590445, 63.88601931527961, 62.136270452243984, 384.07587625256957, 397.02453625295095, 135.45293888491585, 88.36441917943228, 1038.8567116711924, 451.4485410955613, 453.7920168772732, 574.0479715531491, 229.92882149636534, 212.26352675270192, 178.69075891010155, 176.79560356157907, 172.4928572055793, 138.47824751132208, 123.98034937561438, 115.75805632266584, 115.6572886547565, 115.33928686851503, 103.31982042835465, 92.26301486199912, 90.97909381683934, 90.00484754786855, 82.8960562081622, 82.12166498809762, 80.98141288241327, 75.40721023231909, 72.15006709914219, 71.3263247040304, 68.45587550857718, 64.14295567271475, 63.43047113399823, 59.784976397380156, 58.17421258311046, 57.903894061765904, 57.522188362623396, 54.43649138685218, 51.54830658404892, 49.32867367982752, 45.54903569817216, 307.0508143697886, 378.9863599764194, 209.21207568486122, 385.78647964426665, 299.74032710473233, 147.40388409142088, 114.57319617669347, 110.71822072920796, 75.88079954136542, 72.18230291147063, 71.31986923699019, 58.70459691371958, 57.955956654949595, 53.90667051672111, 46.949114909221244, 46.92268628702931, 46.422952318861036, 46.045793097358896, 44.01088199013198, 43.520482792650455, 43.315996804998136, 43.294374404571066, 40.81228643965225, 37.997479236568545, 37.39182538277174, 37.357169075644705, 36.76333841096024, 35.23876311331599, 35.237146673857865, 32.29078665603323, 29.978835570199703, 29.96100634730589, 26.765719469607326, 26.09789468331317, 25.665580648654686, 24.58365584372874, 836.2014519561056, 128.40409858222588, 97.15387619870533, 84.75002663978515, 79.0667839502742, 65.45088160824201, 61.81442456989999, 45.32429021128952, 43.89509196357592, 43.87014231048521, 43.80392097212077, 43.55420416352122, 43.03326235818593, 41.52422969241541, 40.924815327009156, 37.62734455443365, 36.79179777370407, 35.74209049448073, 35.30843927837182, 35.27530611653402, 34.856035216896615, 33.593318372110225, 33.31661245440097, 32.020452297386754, 30.01746516207023, 29.08435492187433, 28.361393853582037, 26.663786206271336, 26.319661974701766, 25.83172871665746, 25.363059398878967, 155.4868838581396, 104.29779758404364, 102.86692111859716, 78.6216159161881, 71.21685310157476, 66.82246055188139, 63.87106588594229, 60.120810859089424, 54.907516985176095, 52.38363802637577, 48.02611641965234, 41.6023046542499, 38.37973858866513, 34.99307540015487, 34.863583195725454, 33.44352139429841, 27.658530554430044, 25.884886130563576, 25.6588767239853, 24.757940571178743, 24.507362075811656, 22.1694498456245, 21.255628397808504, 21.177092696513085, 20.21697003491313, 19.9974138089509, 19.27430974460309, 19.05352713346451, 18.88875898897564, 18.17363777383359, 285.69718774414133, 81.1286304325998, 72.19130445904064, 60.8209488594059, 60.04725559382682, 59.19969824112883, 56.16835468584549, 48.96987707091187, 37.90543139322882, 34.161183245364015, 33.73286271598297, 30.41531588303451, 27.37777444758862, 25.739788578608213, 25.335879285898184, 23.070472242328336, 21.940986821350652, 21.34202375234828, 20.787416439300404, 20.477839789239056, 20.107792536253633, 19.485447205304588, 19.247986871386523, 18.475139003702065, 18.302944562461185, 17.11799444651762, 16.34503986960301, 14.982548472185092, 14.481338690109618, 14.16522131391753, 13.475958604040494, 73.19675972112206, 60.88143014714539, 56.69171666227958, 42.59587459739967, 42.32467737558704, 38.12461708182437, 36.58834567509018, 36.31582994618763, 35.54243430305376, 34.1594771172677, 34.03534345049415, 30.513497648942007, 26.589558054110952, 25.647392800720265, 25.52539607684993, 24.98387793287891, 24.45046772513874, 19.420101916482345, 17.943979647208263, 17.932623785562825, 16.938529442312852, 16.388365980212633, 16.27412313240472, 16.030020657932994, 14.894769509522103, 14.42123141624747, 14.347256976409732, 14.12365430957376, 13.675944288464514, 12.845168107985714, 119.23889526600486, 67.67960595458977, 48.29848861401377, 45.21514668032671, 44.791034983789515, 36.95184351867112, 33.56045030578276, 30.84705552184581, 27.234239699251983, 25.53954936103123, 24.961678133313995, 24.663244714899058, 24.40420769148956, 23.538940960917696, 20.295644632393973, 20.059262136861115, 19.59032010132421, 19.450365899016045, 19.334475084994114, 19.167638085415852, 18.623362231680225, 17.361757614028008, 17.358707074244624, 16.91497686780546, 16.912633533979907, 16.76701650057244, 15.962077993034939, 15.551034062926826, 15.36673400460469, 15.361395440729206, 59.69127549933903, 56.279411579524684, 48.7829025364549, 43.40327323206481, 39.538090143447064, 34.248432682741175, 27.56446093454741, 25.33052361144791, 22.644207209940447, 19.947265802303114, 19.93381784384699, 18.85151341213951, 18.16160761856503, 17.97379693839771, 17.899064381124766, 17.44786730140215, 17.288901973224775, 17.124308987328682, 13.246853564455357, 13.204449771799352, 13.059747371755186, 13.021708858022599, 12.035877536025513, 11.344998387971001, 11.145975566317656, 10.813865146398824, 10.643712870879648, 10.180206350288188, 9.596250936394046, 9.098586475745948], \"Category\": [\"Default\", \"Default\", \"Default\", \"Default\", \"Default\", \"Default\", \"Default\", \"Default\", \"Default\", \"Default\", \"Default\", \"Default\", \"Default\", \"Default\", \"Default\", \"Default\", \"Default\", \"Default\", \"Default\", \"Default\", \"Default\", \"Default\", \"Default\", \"Default\", \"Default\", \"Default\", \"Default\", \"Default\", \"Default\", \"Default\", \"Topic1\", \"Topic1\", \"Topic1\", \"Topic1\", \"Topic1\", \"Topic1\", \"Topic1\", \"Topic1\", \"Topic1\", \"Topic1\", \"Topic1\", \"Topic1\", \"Topic1\", \"Topic1\", \"Topic1\", \"Topic1\", \"Topic1\", \"Topic1\", \"Topic1\", \"Topic1\", \"Topic1\", \"Topic1\", \"Topic1\", \"Topic1\", \"Topic1\", \"Topic1\", \"Topic1\", \"Topic1\", \"Topic1\", \"Topic1\", \"Topic1\", \"Topic1\", \"Topic1\", \"Topic1\", \"Topic1\", \"Topic1\", \"Topic1\", \"Topic1\", \"Topic1\", \"Topic1\", \"Topic1\", \"Topic2\", \"Topic2\", \"Topic2\", \"Topic2\", \"Topic2\", \"Topic2\", \"Topic2\", \"Topic2\", \"Topic2\", \"Topic2\", \"Topic2\", \"Topic2\", \"Topic2\", \"Topic2\", \"Topic2\", \"Topic2\", \"Topic2\", \"Topic2\", \"Topic2\", \"Topic2\", \"Topic2\", \"Topic2\", \"Topic2\", \"Topic2\", \"Topic2\", \"Topic2\", \"Topic2\", \"Topic2\", \"Topic2\", \"Topic2\", \"Topic2\", \"Topic2\", \"Topic2\", \"Topic2\", \"Topic2\", \"Topic2\", \"Topic2\", \"Topic2\", \"Topic2\", \"Topic2\", \"Topic2\", \"Topic3\", \"Topic3\", \"Topic3\", \"Topic3\", \"Topic3\", \"Topic3\", \"Topic3\", \"Topic3\", \"Topic3\", \"Topic3\", \"Topic3\", \"Topic3\", \"Topic3\", \"Topic3\", \"Topic3\", \"Topic3\", \"Topic3\", \"Topic3\", \"Topic3\", \"Topic3\", \"Topic3\", \"Topic3\", \"Topic3\", \"Topic3\", \"Topic3\", \"Topic3\", \"Topic3\", \"Topic3\", \"Topic3\", \"Topic3\", \"Topic3\", \"Topic3\", \"Topic3\", \"Topic3\", \"Topic3\", \"Topic3\", \"Topic3\", \"Topic3\", \"Topic3\", \"Topic3\", \"Topic3\", \"Topic3\", \"Topic4\", \"Topic4\", \"Topic4\", \"Topic4\", \"Topic4\", \"Topic4\", \"Topic4\", \"Topic4\", \"Topic4\", \"Topic4\", \"Topic4\", \"Topic4\", \"Topic4\", \"Topic4\", \"Topic4\", \"Topic4\", \"Topic4\", \"Topic4\", \"Topic4\", \"Topic4\", \"Topic4\", \"Topic4\", \"Topic4\", \"Topic4\", \"Topic4\", \"Topic4\", \"Topic4\", \"Topic4\", \"Topic4\", \"Topic4\", \"Topic4\", \"Topic4\", \"Topic4\", \"Topic4\", \"Topic4\", \"Topic4\", \"Topic4\", \"Topic4\", \"Topic4\", \"Topic5\", \"Topic5\", \"Topic5\", \"Topic5\", \"Topic5\", \"Topic5\", \"Topic5\", \"Topic5\", \"Topic5\", \"Topic5\", \"Topic5\", \"Topic5\", \"Topic5\", \"Topic5\", \"Topic5\", \"Topic5\", \"Topic5\", \"Topic5\", \"Topic5\", \"Topic5\", \"Topic5\", \"Topic5\", \"Topic5\", \"Topic5\", \"Topic5\", \"Topic5\", \"Topic5\", \"Topic5\", \"Topic5\", \"Topic5\", \"Topic5\", \"Topic5\", \"Topic5\", \"Topic5\", \"Topic5\", \"Topic5\", \"Topic6\", \"Topic6\", \"Topic6\", \"Topic6\", \"Topic6\", \"Topic6\", \"Topic6\", \"Topic6\", \"Topic6\", \"Topic6\", \"Topic6\", \"Topic6\", \"Topic6\", \"Topic6\", \"Topic6\", \"Topic6\", \"Topic6\", \"Topic6\", \"Topic6\", \"Topic6\", \"Topic6\", \"Topic6\", \"Topic6\", \"Topic6\", \"Topic6\", \"Topic6\", \"Topic6\", \"Topic6\", \"Topic6\", \"Topic6\", \"Topic6\", \"Topic7\", \"Topic7\", \"Topic7\", \"Topic7\", \"Topic7\", \"Topic7\", \"Topic7\", \"Topic7\", \"Topic7\", \"Topic7\", \"Topic7\", \"Topic7\", \"Topic7\", \"Topic7\", \"Topic7\", \"Topic7\", \"Topic7\", \"Topic7\", \"Topic7\", \"Topic7\", \"Topic7\", \"Topic7\", \"Topic7\", \"Topic7\", \"Topic7\", \"Topic7\", \"Topic7\", \"Topic7\", \"Topic7\", \"Topic7\", \"Topic8\", \"Topic8\", \"Topic8\", \"Topic8\", \"Topic8\", \"Topic8\", \"Topic8\", \"Topic8\", \"Topic8\", \"Topic8\", \"Topic8\", \"Topic8\", \"Topic8\", \"Topic8\", \"Topic8\", \"Topic8\", \"Topic8\", \"Topic8\", \"Topic8\", \"Topic8\", \"Topic8\", \"Topic8\", \"Topic8\", \"Topic8\", \"Topic8\", \"Topic8\", \"Topic8\", \"Topic8\", \"Topic8\", \"Topic8\", \"Topic8\", \"Topic9\", \"Topic9\", \"Topic9\", \"Topic9\", \"Topic9\", \"Topic9\", \"Topic9\", \"Topic9\", \"Topic9\", \"Topic9\", \"Topic9\", \"Topic9\", \"Topic9\", \"Topic9\", \"Topic9\", \"Topic9\", \"Topic9\", \"Topic9\", \"Topic9\", \"Topic9\", \"Topic9\", \"Topic9\", \"Topic9\", \"Topic9\", \"Topic9\", \"Topic9\", \"Topic9\", \"Topic9\", \"Topic9\", \"Topic9\", \"Topic10\", \"Topic10\", \"Topic10\", \"Topic10\", \"Topic10\", \"Topic10\", \"Topic10\", \"Topic10\", \"Topic10\", \"Topic10\", \"Topic10\", \"Topic10\", \"Topic10\", \"Topic10\", \"Topic10\", \"Topic10\", \"Topic10\", \"Topic10\", \"Topic10\", \"Topic10\", \"Topic10\", \"Topic10\", \"Topic10\", \"Topic10\", \"Topic10\", \"Topic10\", \"Topic10\", \"Topic10\", \"Topic10\", \"Topic10\", \"Topic11\", \"Topic11\", \"Topic11\", \"Topic11\", \"Topic11\", \"Topic11\", \"Topic11\", \"Topic11\", \"Topic11\", \"Topic11\", \"Topic11\", \"Topic11\", \"Topic11\", \"Topic11\", \"Topic11\", \"Topic11\", \"Topic11\", \"Topic11\", \"Topic11\", \"Topic11\", \"Topic11\", \"Topic11\", \"Topic11\", \"Topic11\", \"Topic11\", \"Topic11\", \"Topic11\", \"Topic11\", \"Topic11\", \"Topic11\", \"Topic12\", \"Topic12\", \"Topic12\", \"Topic12\", \"Topic12\", \"Topic12\", \"Topic12\", \"Topic12\", \"Topic12\", \"Topic12\", \"Topic12\", \"Topic12\", \"Topic12\", \"Topic12\", \"Topic12\", \"Topic12\", \"Topic12\", \"Topic12\", \"Topic12\", \"Topic12\", \"Topic12\", \"Topic12\", \"Topic12\", \"Topic12\", \"Topic12\", \"Topic12\", \"Topic12\", \"Topic12\", \"Topic12\", \"Topic12\"], \"logprob\": [30.0, 29.0, 28.0, 27.0, 26.0, 25.0, 24.0, 23.0, 22.0, 21.0, 20.0, 19.0, 18.0, 17.0, 16.0, 15.0, 14.0, 13.0, 12.0, 11.0, 10.0, 9.0, 8.0, 7.0, 6.0, 5.0, 4.0, 3.0, 2.0, 1.0, -2.1231, -2.3508, -3.7034, -3.9955, -4.2576, -4.4336, -4.4913, -4.4927, -4.5033, -4.5302, -4.588, -4.799, -4.8049, -4.8216, -4.937, -5.0243, -5.0733, -5.1037, -5.1101, -5.2049, -4.3901, -5.2826, -5.2142, -5.3097, -5.3975, -5.4179, -5.4258, -5.4597, -5.5527, -5.5692, -4.3605, -4.2556, -3.9272, -4.1536, -3.9975, -4.9876, -4.2948, -3.6783, -4.3176, -4.254, -4.8242, -2.8474, -3.5704, -3.6676, -3.9214, -3.2364, -4.2675, -4.3573, -4.364, -4.4237, -4.5431, -4.5497, -4.5824, -4.7383, -4.8283, -4.848, -4.8563, -4.9267, -4.9471, -2.7354, -5.1136, -5.2093, -5.2502, -5.2564, -5.2579, -5.3295, -5.3455, -5.4026, -5.4528, -5.503, -5.5157, -4.7567, -3.2952, -3.0758, -3.7626, -3.6132, -3.8311, -3.4488, -3.5959, -4.3102, -4.8397, -5.0624, -3.1672, -3.169, -3.5645, -3.7283, -4.0531, -4.1017, -4.1566, -4.2995, -4.3658, -4.4832, -4.5187, -4.6195, -4.7061, -4.7061, -4.7536, -4.8846, -4.9036, -4.922, -4.9431, -4.9983, -5.0448, -5.1, -5.1081, -5.16, -5.1605, -5.1877, -5.2068, -5.2312, -5.3126, -5.3453, -2.9038, -3.0864, -4.0235, -4.7072, -3.8748, -3.2867, -3.6603, -3.746, -3.8949, -3.8202, -4.7011, -4.9276, -3.4044, -3.6964, -3.8565, -3.8958, -3.9449, -4.0251, -4.0441, -4.1664, -4.2521, -4.2808, -4.2852, -4.3613, -4.374, -4.416, -4.4502, -4.4913, -4.5117, -4.5841, -4.588, -4.6691, -4.7067, -4.725, -4.8195, -4.8214, -4.8681, -4.8891, -4.9955, -5.028, -5.0286, -5.0568, -3.343, -3.342, -4.3458, -4.7511, -2.8808, -3.8382, -4.0084, -4.1956, -4.5525, -3.5728, -3.7457, -3.7564, -3.7812, -4.0021, -4.1134, -4.1825, -4.1834, -4.1862, -4.2971, -4.4113, -4.4255, -4.4364, -4.5195, -4.529, -4.5431, -4.6152, -4.6599, -4.6715, -4.7131, -4.7791, -4.7904, -4.8504, -4.8782, -4.8829, -4.8896, -4.9456, -5.0011, -5.0459, -5.1271, -3.2371, -3.0473, -3.6357, -3.098, -4.5687, -4.863, -3.2155, -3.25, -3.6316, -3.6821, -3.6943, -3.8917, -3.9047, -3.9783, -4.119, -4.1196, -4.1305, -4.1388, -4.1849, -4.1964, -4.2012, -4.2017, -4.262, -4.3351, -4.3516, -4.3525, -4.3689, -4.4124, -4.4124, -4.5021, -4.5786, -4.5792, -4.6956, -4.7218, -4.7391, -4.7837, -4.6777, -3.0658, -3.347, -3.4849, -3.5551, -3.7465, -3.8045, -4.1201, -4.1528, -4.1534, -4.155, -4.1608, -4.1731, -4.2095, -4.2244, -4.3104, -4.3334, -4.3631, -4.3756, -4.3766, -4.3888, -4.4267, -4.4352, -4.476, -4.5425, -4.5751, -4.6011, -4.6649, -4.6783, -4.6977, -4.7167, -2.6528, -3.055, -3.0689, -3.3404, -3.4406, -3.5051, -3.5509, -3.6123, -3.7044, -3.7523, -3.8407, -3.9873, -4.0697, -4.1644, -4.1682, -4.2109, -4.4066, -4.4752, -4.4843, -4.5214, -4.5319, -4.6362, -4.6801, -4.684, -4.7325, -4.7439, -4.7825, -4.7946, -4.8037, -4.8443, -4.5159, -3.0153, -3.1334, -3.3071, -3.3201, -3.3345, -3.3879, -3.5275, -3.789, -3.8957, -3.9086, -4.0151, -4.1237, -4.1876, -4.204, -4.3012, -4.3535, -4.3824, -4.4099, -4.4256, -4.4446, -4.4776, -4.4904, -4.5334, -4.5433, -4.6138, -4.6626, -4.7549, -4.7911, -4.8147, -4.868, -3.0059, -3.1927, -3.2651, -3.5563, -3.5629, -3.6698, -3.7119, -3.7196, -3.7417, -3.7824, -3.7862, -3.8985, -4.0407, -4.0781, -4.083, -4.1052, -4.1276, -4.368, -4.451, -4.4517, -4.5119, -4.5468, -4.5542, -4.5702, -4.6482, -4.6826, -4.6881, -4.7049, -4.7393, -4.8066, -2.5103, -3.0824, -3.4253, -3.4925, -3.5021, -3.6989, -3.7977, -3.8844, -4.013, -4.0795, -4.1033, -4.1158, -4.1267, -4.1642, -4.3189, -4.3311, -4.3559, -4.3634, -4.3697, -4.3788, -4.409, -4.4829, -4.4831, -4.5104, -4.5106, -4.5197, -4.5718, -4.5994, -4.6121, -4.6125, -2.9536, -3.0134, -3.1589, -3.2781, -3.3734, -3.5207, -3.7444, -3.8319, -3.9485, -4.0809, -4.0816, -4.1402, -4.1794, -4.1903, -4.1947, -4.2216, -4.2313, -4.2414, -4.5146, -4.518, -4.5299, -4.533, -4.6179, -4.682, -4.7012, -4.7342, -4.7515, -4.8003, -4.8653, -4.9243], \"loglift\": [30.0, 29.0, 28.0, 27.0, 26.0, 25.0, 24.0, 23.0, 22.0, 21.0, 20.0, 19.0, 18.0, 17.0, 16.0, 15.0, 14.0, 13.0, 12.0, 11.0, 10.0, 9.0, 8.0, 7.0, 6.0, 5.0, 4.0, 3.0, 2.0, 1.0, 0.8645, 0.8644, 0.8638, 0.8635, 0.8632, 0.8629, 0.8628, 0.8628, 0.8628, 0.8628, 0.8626, 0.8622, 0.8622, 0.8621, 0.8618, 0.8615, 0.8614, 0.8613, 0.8613, 0.8609, 0.8607, 0.8606, 0.8606, 0.8605, 0.8601, 0.8601, 0.86, 0.8599, 0.8594, 0.8593, 0.8559, 0.8542, 0.8207, 0.8238, 0.8065, 0.8467, 0.7734, 0.6846, 0.716, 0.2612, 0.5771, 1.8588, 1.8578, 1.8576, 1.8569, 1.8563, 1.8558, 1.8554, 1.8554, 1.8551, 1.8545, 1.8545, 1.8543, 1.8534, 1.8528, 1.8527, 1.8526, 1.8521, 1.852, 1.8512, 1.8506, 1.8496, 1.8492, 1.8492, 1.8491, 1.8484, 1.8482, 1.8475, 1.8468, 1.8462, 1.846, 1.8423, 1.8147, 1.7967, 1.7298, 1.5669, 1.4463, 1.0664, 0.9911, 0.0528, 0.9521, 1.3259, 2.0923, 2.0923, 2.0915, 2.0908, 2.0899, 2.0897, 2.0895, 2.0888, 2.0884, 2.0877, 2.0875, 2.0868, 2.0862, 2.0862, 2.0858, 2.0847, 2.0845, 2.0843, 2.0841, 2.0836, 2.0831, 2.0825, 2.0824, 2.0818, 2.0818, 2.0814, 2.0812, 2.0809, 2.0798, 2.0793, 2.0567, 2.0574, 2.0267, 2.0576, 2.0032, 1.9532, 1.9756, 1.9339, 1.6606, 1.595, 0.7003, 0.106, 2.3583, 2.3574, 2.3568, 2.3566, 2.3564, 2.356, 2.3559, 2.3552, 2.3547, 2.3545, 2.3544, 2.3539, 2.3538, 2.3535, 2.3533, 2.3529, 2.3528, 2.3521, 2.3521, 2.3513, 2.351, 2.3508, 2.3498, 2.3497, 2.3492, 2.349, 2.3476, 2.3472, 2.3472, 2.3468, 2.239, 2.2069, 2.2785, 2.3003, 1.7062, 1.5822, 1.4068, 0.9846, 1.5426, 2.6023, 2.6015, 2.6015, 2.6013, 2.6001, 2.5993, 2.5988, 2.5988, 2.5988, 2.5979, 2.5969, 2.5968, 2.5967, 2.5958, 2.5957, 2.5956, 2.5947, 2.5942, 2.5941, 2.5936, 2.5927, 2.5925, 2.5917, 2.5913, 2.5912, 2.5911, 2.5902, 2.5893, 2.5885, 2.587, 2.5687, 2.5481, 2.5538, 2.4796, 1.2613, 1.6767, 3.5762, 3.5759, 3.5722, 3.5715, 3.5714, 3.5687, 3.5685, 3.5673, 3.5648, 3.5648, 3.5646, 3.5644, 3.5635, 3.5633, 3.5632, 3.5632, 3.5619, 3.5603, 3.5599, 3.5598, 3.5594, 3.5584, 3.5584, 3.556, 3.5538, 3.5538, 3.5501, 3.5493, 3.5487, 3.5471, 0.1263, 3.6119, 3.6096, 3.6082, 3.6075, 3.6051, 3.6043, 3.5989, 3.5982, 3.5982, 3.5982, 3.5981, 3.5978, 3.5971, 3.5967, 3.5948, 3.5942, 3.5935, 3.5932, 3.5931, 3.5928, 3.5918, 3.5916, 3.5905, 3.5886, 3.5876, 3.5868, 3.5847, 3.5842, 3.5836, 3.5829, 3.8335, 3.8306, 3.8305, 3.8278, 3.8266, 3.8258, 3.8251, 3.8242, 3.8228, 3.822, 3.8204, 3.8175, 3.8156, 3.8133, 3.8132, 3.8121, 3.8063, 3.804, 3.8037, 3.8024, 3.802, 3.798, 3.7961, 3.796, 3.7939, 3.7934, 3.7916, 3.791, 3.7906, 3.7886, 1.362, 4.1215, 4.1202, 4.1178, 4.1176, 4.1174, 4.1166, 4.1142, 4.1088, 4.1061, 4.1058, 4.1028, 4.0994, 4.0973, 4.0967, 4.0931, 4.091, 4.0898, 4.0886, 4.088, 4.0871, 4.0856, 4.085, 4.083, 4.0825, 4.079, 4.0764, 4.0711, 4.0689, 4.0674, 4.0639, 4.2338, 4.2313, 4.2301, 4.2248, 4.2246, 4.2222, 4.2212, 4.221, 4.2205, 4.2194, 4.2193, 4.2162, 4.2117, 4.2104, 4.2102, 4.2094, 4.2086, 4.1986, 4.1946, 4.1945, 4.1914, 4.1895, 4.1891, 4.1882, 4.1837, 4.1816, 4.1812, 4.1802, 4.1779, 4.1733, 4.2415, 4.2356, 4.2302, 4.2289, 4.2287, 4.2243, 4.2218, 4.2194, 4.2154, 4.2131, 4.2123, 4.2118, 4.2114, 4.21, 4.2036, 4.203, 4.2019, 4.2016, 4.2013, 4.2009, 4.1994, 4.1957, 4.1957, 4.1943, 4.1943, 4.1938, 4.1909, 4.1893, 4.1886, 4.1885, 4.4901, 4.4891, 4.4866, 4.4843, 4.4822, 4.4785, 4.4719, 4.4689, 4.4645, 4.4589, 4.4588, 4.4561, 4.4542, 4.4536, 4.4534, 4.452, 4.4515, 4.451, 4.4345, 4.4343, 4.4335, 4.4332, 4.4271, 4.4221, 4.4206, 4.4179, 4.4164, 4.4122, 4.4062, 4.4005]}, \"token.table\": {\"Topic\": [9, 4, 7, 8, 6, 3, 7, 11, 4, 1, 4, 7, 9, 12, 8, 12, 5, 8, 12, 5, 3, 7, 2, 4, 7, 1, 9, 5, 11, 11, 12, 10, 4, 3, 12, 4, 8, 12, 1, 2, 2, 3, 5, 12, 8, 6, 2, 4, 2, 8, 2, 1, 2, 1, 2, 9, 6, 1, 4, 2, 9, 6, 7, 5, 10, 12, 5, 12, 5, 2, 5, 5, 7, 9, 1, 12, 6, 4, 3, 8, 2, 11, 1, 11, 1, 4, 9, 3, 9, 1, 5, 12, 1, 1, 1, 2, 4, 1, 4, 3, 1, 2, 5, 12, 6, 8, 1, 5, 12, 1, 3, 2, 2, 4, 12, 10, 1, 10, 1, 2, 4, 8, 6, 1, 2, 5, 12, 7, 9, 12, 4, 10, 5, 6, 2, 1, 4, 6, 7, 10, 10, 6, 11, 1, 4, 2, 10, 3, 3, 3, 4, 5, 11, 10, 10, 12, 9, 3, 2, 10, 3, 6, 2, 6, 7, 8, 11, 4, 6, 1, 2, 1, 3, 4, 6, 8, 8, 4, 9, 3, 2, 5, 9, 4, 2, 1, 3, 2, 5, 4, 6, 3, 1, 3, 4, 11, 11, 8, 4, 11, 5, 6, 5, 5, 6, 6, 3, 9, 6, 1, 2, 9, 5, 10, 8, 7, 12, 2, 7, 10, 8, 10, 11, 4, 1, 3, 12, 7, 3, 4, 7, 2, 3, 10, 3, 1, 2, 1, 1, 10, 11, 3, 3, 4, 12, 11, 6, 1, 3, 8, 1, 1, 3, 4, 2, 4, 2, 2, 7, 7, 1, 7, 4, 1, 1, 3, 1, 3, 5, 9, 1, 8, 5, 11, 9, 7, 4, 6, 7, 1, 3, 10, 1, 6, 9, 11, 1, 4, 11, 10, 4, 4, 12, 6, 2, 6, 9, 7, 1, 3, 9, 1, 10, 8, 5, 5, 7, 1, 2, 3, 6, 5, 7, 12, 8, 11, 10, 3, 11, 9, 12, 3, 4, 1, 8, 7, 4, 6, 2, 8, 5, 11, 12, 8, 1, 4, 2, 11, 5, 9, 3, 11, 5, 9, 3, 7, 6, 8, 2, 2, 5, 4, 6, 2, 8, 8, 10, 11, 2, 9, 6, 1, 5, 6, 11, 2, 9, 11, 3, 10, 7, 10, 10, 9, 2, 11, 5, 11, 7, 10, 8, 3, 9, 9, 9, 8, 1, 12, 6, 9, 5, 9, 11, 10, 2, 1, 5, 4, 5, 4, 4, 12, 7, 12, 3, 8, 1, 3, 5, 3, 4, 5, 6, 1, 3, 1, 3, 10, 2, 1, 4, 8, 3, 10, 5, 10, 7, 1, 4, 2, 7, 1, 8, 6, 12, 1, 12, 11, 5, 1, 3, 4, 7, 1, 2, 3, 1, 3, 1, 10, 11, 1, 12, 1, 8], \"Freq\": [0.975086678781874, 0.993870224285703, 0.980165500619376, 0.9752296489182634, 0.9770310899391056, 0.9964423064142467, 0.9629425909183897, 0.9110589143929254, 0.9847524607165914, 0.11195704458075116, 0.8852417478478, 0.9678020497280493, 0.9865022023693907, 0.9378662625283434, 0.9338855833755653, 0.9884191534934333, 0.9893632474006704, 0.983471899022112, 0.9458213007671532, 0.9872258737686265, 0.9946540923447484, 0.963847057419687, 0.9915421006079878, 0.9931306522861414, 0.9865078115363196, 0.9960839785762295, 0.9667614506911325, 0.9891906050884727, 0.9546805891083538, 0.9215656822136642, 0.9474735054096319, 0.9473929604375623, 0.9928167007863304, 0.9916423716822155, 0.9676689538007441, 0.995075633655745, 0.9867381969419637, 0.8792574562351587, 0.0076975960685790575, 0.9910654938295537, 0.998022796500617, 0.986121093980904, 0.9888356285772927, 0.9743311148769362, 0.9875568073908956, 0.9935130755852322, 0.7455822879087954, 0.2525921302494751, 0.9976324206053191, 0.9792975647790174, 0.993570084992291, 0.3379081675399091, 0.6604568729189132, 0.014398258043373573, 0.9862806759710897, 0.9621205241353742, 0.9740671891368422, 0.9978138840841385, 0.9969623299142086, 0.9946619438260397, 0.9472732218675463, 0.9737488050099761, 0.9759892162117386, 0.9863107133027437, 0.9660569418762683, 0.9395217741507481, 0.991981639967384, 0.9525114964781919, 0.9934513730901561, 0.9862342664547774, 0.9971427384671824, 0.9883882855107141, 0.9681312341278191, 0.9797347237102073, 0.9980636335918174, 0.9188539148891086, 0.9814936671770336, 0.9856604887659707, 0.9887776475278975, 0.9447069759795731, 0.9907589895459871, 0.9731153364986039, 0.9955515320187827, 0.9217276339514618, 0.912696507999385, 0.08566264153577845, 0.9646809093122483, 0.9952722263092554, 0.935162732615859, 0.7373048602925569, 0.2602252448091378, 0.9254491710797546, 0.9972496013109732, 0.9998507430454826, 0.9600537256911403, 0.025601432685097077, 0.014223018158387264, 0.9565763787869382, 0.041836082760185245, 0.9933811490907584, 0.5465271164449728, 0.45245277672903483, 0.9892382549027091, 0.9343442711667591, 0.9772879773153722, 0.950122859961799, 0.11664483431740391, 0.8813165259537185, 0.8814456959820205, 0.12944330822000036, 0.8691193551914309, 0.9939431249926911, 0.0738263789794642, 0.9228297372433024, 0.979522148614198, 0.9695803436800894, 0.9961324636777148, 0.9794167316633166, 0.060643589527041596, 0.41969214339349425, 0.5198021959460708, 0.9813573562453046, 0.9600261625774901, 0.14577284142469343, 0.5889222793557615, 0.2682220282214359, 0.8840685237922729, 0.9823382029266031, 0.9761134127762345, 0.897184812625939, 0.9907271026996851, 0.9831714589114037, 0.9868700057325012, 0.9701029424175164, 0.9878409186969599, 0.9978360973893999, 0.9885236828315873, 0.98350546328411, 0.9462580843484831, 0.9747579488585645, 0.9855221839399133, 0.9949971180361461, 0.9788739670616707, 0.9972936416228056, 0.9957004402121611, 0.9978336744048849, 0.906096546634319, 0.9980393116918019, 0.9933896816875037, 0.608208143235458, 0.3856392212543665, 0.006610958078646283, 0.98233943502141, 0.9217086461716815, 0.9783676770446919, 0.9548305012163546, 0.9712589489090429, 0.9970924560332713, 0.998683386131898, 0.983650099735539, 0.9960758155565471, 0.9883923265610128, 0.9963003794015803, 0.9803360301798331, 0.9498602232821146, 0.9920935749164612, 0.9771042817171548, 0.9817132498623765, 0.9673491130798719, 0.11902619126174946, 0.878413291511711, 0.03527703679392277, 0.9642390057005557, 0.9891723440864697, 0.9831807361124284, 0.9398045289273558, 0.9829134109613186, 0.9970832971297027, 0.9860883830211155, 0.9893042688396686, 0.035824689221479925, 0.9640098190507326, 0.9177406912257218, 0.988403190789534, 0.997930913967664, 0.988837552325587, 0.00974224189483337, 0.9387014857267352, 0.060189590489981654, 0.9392920903091173, 0.045267088689596016, 0.9861429267738229, 0.025488559162631735, 0.960069061792462, 0.997371760924285, 0.911375535771991, 0.9309795027210318, 0.987691854728354, 0.9949764842544713, 0.9698667455012996, 0.987946271754021, 0.9636704517706743, 0.9920927035570428, 0.9940473675716601, 0.9696186881968214, 0.980097012186432, 0.9903472677843181, 0.9177095999561071, 0.9879975853551103, 0.8355275408294265, 0.163874186184777, 0.9344204709893527, 0.9814048360190435, 0.9445920352466736, 0.9863621207214891, 0.9627168996944544, 0.9058754927433501, 0.9953303398425212, 0.9754408322240377, 0.9399272671557567, 0.9786341995532987, 0.9778274594518955, 0.9742409734391149, 0.9820608576889875, 0.03496348379718373, 0.9635936134503836, 0.9139341910945049, 0.9774020891818465, 0.995611032561605, 0.9861312486710578, 0.9707818874798471, 0.9924480250561936, 0.9938037353258151, 0.9687020089053032, 0.9879270461227524, 0.04221914099948833, 0.956425924949947, 0.9953664106111967, 0.9973736277347655, 0.9707908843503547, 0.9665279435622091, 0.9964979221761736, 0.9848175639936508, 0.9975866741772755, 0.9715509046544296, 0.9896099736311623, 0.9895210950853371, 0.9975480299447924, 0.9135546697566407, 0.08400502710405891, 0.9980376781407928, 0.10830564882923, 0.03274356825069744, 0.8563702465567024, 0.9958900090299477, 0.0015959775785736343, 0.9961120205857978, 0.9909499399160279, 0.9873753301072996, 0.966104227769509, 0.9972374134526109, 0.9911501309259406, 0.992664319637802, 0.9968118049942297, 0.9984307423415298, 0.9942244711393283, 0.9965497741250532, 0.9866891561148616, 0.9821811193337175, 0.9834979507855195, 0.9976850366464721, 0.9354208668380419, 0.9840600688900002, 0.9390828395124866, 0.9782745175779068, 0.9872755300167925, 0.9981332708260414, 0.9762583788416632, 0.9751053282104695, 0.9916659276312719, 0.007225252660337136, 0.9705015507589053, 0.9966562618731301, 0.9908891550895785, 0.9535998989927784, 0.9899584823965175, 0.5566940202058287, 0.43926637531866175, 0.9731252297174251, 0.9152834405889549, 0.9936517251297601, 0.9945562875784221, 0.9247387372247884, 0.9836205986262216, 0.9948367460904138, 0.9713917845370529, 0.9288122980422785, 0.9784789593981194, 0.9948456484140062, 0.9856135630389934, 0.9825594761414128, 0.9946642907809631, 0.9505742145326912, 0.9855223248025426, 0.9798155826959768, 0.9954998679517392, 0.9604818029983403, 0.943552535282391, 0.021525913352449987, 0.0023917681502722207, 0.03109298595353887, 0.9730648813213304, 0.9796083816313982, 0.9497703141359242, 0.9716208024359448, 0.9471933648588896, 0.9877986290942602, 0.9840074593170913, 0.9768453765160876, 0.9346889350846204, 0.9531540896399214, 0.9355490464116624, 0.06236993642744416, 0.9940018132034188, 0.9444166999983478, 0.9968529152364469, 0.9922684163370242, 0.964846577919533, 0.9930296894280217, 0.9915724014175784, 0.9863414241752139, 0.9460383545740352, 0.9360404847984042, 0.9640503390746749, 0.9817335348381578, 0.01675313199382522, 0.995606718616776, 0.961473818860338, 0.9909219663318181, 0.9371182523306575, 0.9938805074158402, 0.9833002745590042, 0.9943169283803761, 0.9742822501304669, 0.9966044458518573, 0.9931111453785944, 0.9579316762276936, 0.9968686499718921, 0.9855085723567582, 0.04779838815357449, 0.9464080854407749, 0.985494832469639, 0.964890838486202, 0.9888944723985189, 0.9761906890485703, 0.9693859604760067, 0.9479928984896421, 0.9397272715084626, 0.9975770580662404, 0.9766655177422495, 0.9797841788699018, 0.9977361706497019, 0.9446250256137841, 0.05541096518963538, 0.9361614446911438, 0.9933791305541431, 0.9496754401923283, 0.9459072941715368, 0.9884021289937114, 0.9204416728882915, 0.9833274295100443, 0.9815763146045835, 0.9606194868738082, 0.9801944148336861, 0.9930107606440918, 0.9542544435054232, 0.9843897534628375, 0.973107970075876, 0.9792376303620147, 0.9847384031597646, 0.9658145635217322, 0.9895502868997033, 0.9571128304751095, 0.9660086936385145, 0.9449073022681966, 0.9409272511586643, 0.998655216134334, 0.9215380355095921, 0.9880405096806888, 0.9791990580393497, 0.9961343333347805, 0.9863451727862484, 0.9645660821848192, 0.9839198612499517, 0.998736178312834, 0.5969991940335969, 0.3934767415221434, 0.9902899752816694, 0.9932134961903586, 0.99418541641164, 0.9907739459636472, 0.9087845542514247, 0.9868246841159374, 0.9772667918228528, 0.9975293783387795, 0.9735864464839366, 0.34987961006450163, 0.6490520302645828, 0.9945998501858837, 0.9975552910878372, 0.9874058953740511, 0.9965464069634259, 0.9792364229160249, 0.10990902459394414, 0.8875153735960989, 0.8620965151678918, 0.13691236104760585, 0.9357442713323483, 0.99195862767166, 0.9964190460517944, 0.0018694541201722222, 0.9529477299438063, 0.9956356910532732, 0.9342034217940456, 0.9933405934086686, 0.9637670418619811, 0.951998344629663, 0.5382673281218168, 0.458524020251918, 0.9915300383261918, 0.9816472828395332, 0.9996791682059009, 0.9743216848082286, 0.9679247640694718, 0.9635477426279335, 0.9991841410619546, 0.9863905883795896, 0.9725401498614372, 0.9878810106235328, 0.14643902951416923, 0.8527919954060444, 0.9935373924050812, 0.9881232098619992, 0.5395116037604422, 0.4046337028203316, 0.054593436094806644, 0.7497977462182196, 0.24775925527210735, 0.999442142273547, 0.9860109786914424, 0.9834369672394437, 0.998540114971826, 0.983951292445753, 0.9993778178395755, 0.9472494873004118], \"Term\": [\"absolute\", \"ac\", \"active\", \"activity\", \"addition\", \"advice\", \"advise\", \"advocate\", \"affect\", \"ago\", \"ago\", \"alcohol\", \"answer\", \"apart\", \"apply\", \"appointment\", \"appreciate\", \"area\", \"arthritis\", \"article\", \"ask\", \"average\", \"avoid\", \"away\", \"baby\", \"bad\", \"barely\", \"base\", \"battle\", \"bean\", \"bed\", \"bet\", \"bg\", \"big\", \"birth\", \"bit\", \"blame\", \"block\", \"blood\", \"blood\", \"body\", \"book\", \"breakfast\", \"brown\", \"calorie\", \"cancer\", \"carb\", \"carb\", \"carbohydrate\", \"carry\", \"case\", \"cause\", \"cause\", \"cell\", \"cell\", \"center\", \"challenge\", \"change\", \"check\", \"cholesterol\", \"clear\", \"clinic\", \"coffee\", \"common\", \"community\", \"company\", \"compare\", \"complete\", \"complication\", \"concern\", \"condition\", \"consider\", \"constantly\", \"continue\", \"control\", \"cook\", \"cost\", \"couple\", \"course\", \"curative\", \"cut\", \"dad\", \"daily\", \"dairy\", \"day\", \"day\", \"dead\", \"deal\", \"decade\", \"develop\", \"develop\", \"development\", \"diabete\", \"diabetes\", \"diabetic\", \"diabetic\", \"diabetic\", \"diagnose\", \"diagnose\", \"diagnosis\", \"diet\", \"diet\", \"dietary\", \"dietician\", \"difference\", \"directly\", \"disease\", \"disease\", \"dm\", \"doctor\", \"doctor\", \"dose\", \"drink\", \"drink\", \"drive\", \"drop\", \"drug\", \"dry\", \"eat\", \"eat\", \"eat\", \"eating\", \"education\", \"effect\", \"effect\", \"effect\", \"encounter\", \"endocrinologist\", \"enjoy\", \"entirely\", \"especially\", \"event\", \"evidence\", \"exactly\", \"excess\", \"exercise\", \"expect\", \"explain\", \"explanation\", \"extreme\", \"eye\", \"factor\", \"fairly\", \"family\", \"fast\", \"fat\", \"fatigue\", \"feel\", \"figure\", \"find\", \"find\", \"find\", \"fine\", \"finger\", \"fluid\", \"focus\", \"folk\", \"follow\", \"food\", \"foot\", \"forum\", \"free\", \"fruit\", \"future\", \"gd\", \"genetic\", \"gi\", \"glad\", \"glass\", \"glucose\", \"glucose\", \"good\", \"good\", \"gp\", \"group\", \"gym\", \"habit\", \"hard\", \"hbac\", \"head\", \"health\", \"health\", \"healthcare\", \"hear\", \"heart\", \"help\", \"help\", \"high\", \"high\", \"history\", \"history\", \"home\", \"hope\", \"hope\", \"hour\", \"house\", \"hrs\", \"huge\", \"husband\", \"hypo\", \"hypoglycemia\", \"illness\", \"improve\", \"increase\", \"individual\", \"infection\", \"information\", \"initially\", \"instead\", \"insulin\", \"insulin\", \"insurance\", \"intake\", \"interest\", \"interesting\", \"introduce\", \"iron\", \"issue\", \"job\", \"joint\", \"juice\", \"ketone\", \"kid\", \"kind\", \"know\", \"know\", \"l\", \"late\", \"later\", \"lbs\", \"lchf\", \"lead\", \"learn\", \"leg\", \"let\", \"level\", \"level\", \"life\", \"lifestyle\", \"lifetime\", \"light\", \"like\", \"line\", \"link\", \"list\", \"little\", \"local\", \"long\", \"look\", \"look\", \"lose\", \"lot\", \"lot\", \"lot\", \"low\", \"low\", \"lower\", \"m\", \"maintain\", \"majority\", \"manage\", \"maybe\", \"meal\", \"mean\", \"med\", \"medical\", \"medication\", \"member\", \"metabolic\", \"meter\", \"metformin\", \"milk\", \"mom\", \"moment\", \"money\", \"monitor\", \"month\", \"myth\", \"nation\", \"need\", \"need\", \"neuropathy\", \"new\", \"nhs\", \"nice\", \"night\", \"normal\", \"normal\", \"notice\", \"numb\", \"number\", \"nurse\", \"ob\", \"obese\", \"obesity\", \"offer\", \"oil\", \"ok\", \"old\", \"opinion\", \"option\", \"overweight\", \"painful\", \"paper\", \"parent\", \"patient\", \"pay\", \"people\", \"people\", \"people\", \"people\", \"percent\", \"personally\", \"pharmaceutical\", \"physical\", \"piece\", \"place\", \"plan\", \"play\", \"possibility\", \"possibly\", \"post\", \"post\", \"pre\", \"predisposition\", \"pregnancy\", \"pregnant\", \"present\", \"pressure\", \"pretty\", \"prevent\", \"prevention\", \"primary\", \"prior\", \"problem\", \"problem\", \"process\", \"proper\", \"protein\", \"public\", \"question\", \"quit\", \"range\", \"reaction\", \"read\", \"real\", \"receive\", \"recently\", \"recommend\", \"reduce\", \"reduce\", \"regard\", \"register\", \"relate\", \"relationship\", \"relatively\", \"repeat\", \"replace\", \"resistance\", \"resource\", \"rest\", \"reverse\", \"risk\", \"risk\", \"role\", \"run\", \"save\", \"sedentary\", \"self\", \"sensation\", \"sensitivity\", \"shake\", \"share\", \"short\", \"site\", \"slim\", \"small\", \"smoking\", \"snack\", \"soda\", \"solution\", \"sorry\", \"sort\", \"sound\", \"speak\", \"starch\", \"start\", \"stimulate\", \"strip\", \"struggle\", \"study\", \"stuff\", \"sudden\", \"suffer\", \"sugar\", \"suggest\", \"suggest\", \"support\", \"suppose\", \"sure\", \"surgery\", \"suspect\", \"sweet\", \"system\", \"t\", \"tablet\", \"tell\", \"tell\", \"term\", \"test\", \"testing\", \"thank\", \"thin\", \"thing\", \"thing\", \"think\", \"think\", \"thirsty\", \"thread\", \"time\", \"time\", \"tip\", \"today\", \"toe\", \"total\", \"totally\", \"trial\", \"try\", \"try\", \"turn\", \"twice\", \"type\", \"typical\", \"understanding\", \"urine\", \"use\", \"wait\", \"wake\", \"walk\", \"want\", \"want\", \"watch\", \"water\", \"way\", \"way\", \"way\", \"week\", \"week\", \"weight\", \"welcome\", \"white\", \"work\", \"worry\", \"year\", \"zinc\"]}, \"R\": 30, \"lambda.step\": 0.01, \"plot.opts\": {\"xlab\": \"PC1\", \"ylab\": \"PC2\"}, \"topic.order\": [6, 8, 3, 11, 9, 10, 7, 12, 1, 2, 4, 5]};\n",
       "\n",
       "function LDAvis_load_lib(url, callback){\n",
       "  var s = document.createElement('script');\n",
       "  s.src = url;\n",
       "  s.async = true;\n",
       "  s.onreadystatechange = s.onload = callback;\n",
       "  s.onerror = function(){console.warn(\"failed to load library \" + url);};\n",
       "  document.getElementsByTagName(\"head\")[0].appendChild(s);\n",
       "}\n",
       "\n",
       "if(typeof(LDAvis) !== \"undefined\"){\n",
       "   // already loaded: just create the visualization\n",
       "   !function(LDAvis){\n",
       "       new LDAvis(\"#\" + \"ldavis_el1444824092832145764789312182\", ldavis_el1444824092832145764789312182_data);\n",
       "   }(LDAvis);\n",
       "}else if(typeof define === \"function\" && define.amd){\n",
       "   // require.js is available: use it to load d3/LDAvis\n",
       "   require.config({paths: {d3: \"https://d3js.org/d3.v5\"}});\n",
       "   require([\"d3\"], function(d3){\n",
       "      window.d3 = d3;\n",
       "      LDAvis_load_lib(\"https://cdn.jsdelivr.net/gh/bmabey/pyLDAvis@3.3.1/pyLDAvis/js/ldavis.v3.0.0.js\", function(){\n",
       "        new LDAvis(\"#\" + \"ldavis_el1444824092832145764789312182\", ldavis_el1444824092832145764789312182_data);\n",
       "      });\n",
       "    });\n",
       "}else{\n",
       "    // require.js not available: dynamically load d3 & LDAvis\n",
       "    LDAvis_load_lib(\"https://d3js.org/d3.v5.js\", function(){\n",
       "         LDAvis_load_lib(\"https://cdn.jsdelivr.net/gh/bmabey/pyLDAvis@3.3.1/pyLDAvis/js/ldavis.v3.0.0.js\", function(){\n",
       "                 new LDAvis(\"#\" + \"ldavis_el1444824092832145764789312182\", ldavis_el1444824092832145764789312182_data);\n",
       "            })\n",
       "         });\n",
       "}\n",
       "</script>"
      ],
      "text/plain": [
       "PreparedData(topic_coordinates=              x         y  topics  cluster       Freq\n",
       "topic                                                \n",
       "5      0.309977 -0.048599       1        1  42.119985\n",
       "7      0.231543  0.253403       2        1  15.571297\n",
       "2      0.163380 -0.364408       3        1  12.319807\n",
       "10     0.156365  0.094040       4        1   9.431694\n",
       "8      0.019928  0.064912       5        1   7.379736\n",
       "9     -0.093805  0.014175       6        1   2.776556\n",
       "6     -0.108304  0.002028       7        1   2.681323\n",
       "11    -0.115395 -0.027852       8        1   2.150941\n",
       "0     -0.140406  0.002790       9        1   1.604056\n",
       "1     -0.137017  0.003261      10        1   1.431862\n",
       "3     -0.140344  0.002819      11        1   1.427761\n",
       "4     -0.145923  0.003431      12        1   1.104983, topic_info=           Term         Freq        Total Category  logprob  loglift\n",
       "4      diabetes  5142.000000  5142.000000  Default  30.0000  30.0000\n",
       "13         type  4095.000000  4095.000000  Default  29.0000  29.0000\n",
       "1         blood  1039.000000  1039.000000  Default  28.0000  28.0000\n",
       "44        sugar   922.000000   922.000000  Default  27.0000  27.0000\n",
       "197         eat  1038.000000  1038.000000  Default  26.0000  26.0000\n",
       "...         ...          ...          ...      ...      ...      ...\n",
       "5015         ob     9.908133    10.813865  Topic12  -4.7342   4.4179\n",
       "321     company     9.737971    10.643713  Topic12  -4.7515   4.4164\n",
       "1901  encounter     9.274420    10.180206  Topic12  -4.8003   4.4122\n",
       "1224      apart     8.690526     9.596251  Topic12  -4.8653   4.4062\n",
       "522       block     8.192869     9.098586  Topic12  -4.9243   4.4005\n",
       "\n",
       "[441 rows x 6 columns], token_table=      Topic      Freq      Term\n",
       "term                           \n",
       "1836      9  0.975087  absolute\n",
       "1173      4  0.993870        ac\n",
       "781       7  0.980166    active\n",
       "832       8  0.975230  activity\n",
       "2350      6  0.977031  addition\n",
       "...     ...       ...       ...\n",
       "1151     11  0.983437     white\n",
       "271       1  0.998540      work\n",
       "585      12  0.983951     worry\n",
       "93        1  0.999378      year\n",
       "5668      8  0.947249      zinc\n",
       "\n",
       "[455 rows x 3 columns], R=30, lambda_step=0.01, plot_opts={'xlab': 'PC1', 'ylab': 'PC2'}, topic_order=[6, 8, 3, 11, 9, 10, 7, 12, 1, 2, 4, 5])"
      ]
     },
     "execution_count": 38,
     "metadata": {},
     "output_type": "execute_result"
    }
   ],
   "source": [
    "pyLDAvis.enable_notebook()\n",
    "lda_viz = gensimvis.prepare(lda_model, corpus, id2word)\n",
    "lda_viz"
   ]
  },
  {
   "cell_type": "markdown",
   "metadata": {},
   "source": [
    "### Finding optimal number of topics"
   ]
  },
  {
   "cell_type": "code",
   "execution_count": 39,
   "metadata": {},
   "outputs": [
    {
     "name": "stderr",
     "output_type": "stream",
     "text": [
      "D:\\Anaconda3\\lib\\site-packages\\ipykernel\\ipkernel.py:287: DeprecationWarning: `should_run_async` will not call `transform_cell` automatically in the future. Please pass the result to `transformed_cell` argument and any exception that happen during thetransform in `preprocessing_exc_tuple` in IPython 7.17 and above.\n",
      "  and should_run_async(code)\n"
     ]
    }
   ],
   "source": [
    "def compute_coherence_values(dictionary, corpus, texts, limit, start=2, step=3):\n",
    "    \"\"\"\n",
    "    Compute c_v coherence for various number of topics\n",
    "\n",
    "    Parameters:\n",
    "    ----------\n",
    "    dictionary : Gensim dictionary\n",
    "    corpus : Gensim corpus\n",
    "    texts : List of input texts\n",
    "    limit : Max num of topics\n",
    "\n",
    "    Returns:\n",
    "    -------\n",
    "    model_list : List of LDA topic models\n",
    "    coherence_values : Coherence values corresponding to the LDA model with respective number of topics\n",
    "    \"\"\"\n",
    "    coherence_values = []\n",
    "    model_list = []\n",
    "    for num_topics in range(start, limit, step):\n",
    "        #model = gensim.models.wrappers.LdaMallet(mallet_path, corpus=corpus, num_topics=num_topics, id2word=id2word)\n",
    "        model = gensim.models.ldamodel.LdaModel(\n",
    "            corpus=corpus,\n",
    "            id2word=id2word,\n",
    "            num_topics=num_topics, \n",
    "            random_state=100,\n",
    "            update_every=1,\n",
    "            chunksize=100,\n",
    "            passes=10,\n",
    "            alpha='auto',\n",
    "            per_word_topics=True\n",
    "        )\n",
    "        model_list.append(model)\n",
    "        coherencemodel = CoherenceModel(model=model, texts=texts, dictionary=dictionary, coherence='c_v')\n",
    "        coherence_values.append(coherencemodel.get_coherence())\n",
    "\n",
    "    return model_list, coherence_values"
   ]
  },
  {
   "cell_type": "code",
   "execution_count": 42,
   "metadata": {},
   "outputs": [
    {
     "name": "stderr",
     "output_type": "stream",
     "text": [
      "D:\\Anaconda3\\lib\\site-packages\\ipykernel\\ipkernel.py:287: DeprecationWarning: `should_run_async` will not call `transform_cell` automatically in the future. Please pass the result to `transformed_cell` argument and any exception that happen during thetransform in `preprocessing_exc_tuple` in IPython 7.17 and above.\n",
      "  and should_run_async(code)\n"
     ]
    }
   ],
   "source": [
    "# Can take a long time to run.\n",
    "model_list, coherence_values = compute_coherence_values(dictionary=id2word, corpus=corpus, texts=X, start=2, limit=42, step=1)"
   ]
  },
  {
   "cell_type": "code",
   "execution_count": 43,
   "metadata": {},
   "outputs": [
    {
     "name": "stderr",
     "output_type": "stream",
     "text": [
      "D:\\Anaconda3\\lib\\site-packages\\ipykernel\\ipkernel.py:287: DeprecationWarning: `should_run_async` will not call `transform_cell` automatically in the future. Please pass the result to `transformed_cell` argument and any exception that happen during thetransform in `preprocessing_exc_tuple` in IPython 7.17 and above.\n",
      "  and should_run_async(code)\n"
     ]
    },
    {
     "data": {
      "image/png": "[encoded data removed]",
      "text/plain": [
       "<Figure size 432x288 with 1 Axes>"
      ]
     },
     "metadata": {
      "needs_background": "light"
     },
     "output_type": "display_data"
    }
   ],
   "source": [
    "# Show graph\n",
    "limit=42\n",
    "start=2\n",
    "step=1\n",
    "x = range(start, limit, step)\n",
    "plt.plot(x, coherence_values)\n",
    "plt.xlabel(\"Num Topics\")\n",
    "plt.ylabel(\"Coherence score\")\n",
    "plt.legend((\"coherence_values\"), loc='best')\n",
    "plt.show()"
   ]
  },
  {
   "cell_type": "markdown",
   "metadata": {},
   "source": [
    "from the graph above we can see that 12 (or 4) topics seem to have the highest coherence "
   ]
  }
 ],
 "metadata": {
  "interpreter": {
   "hash": "68427c26fce60f0abcad7d141e2fa62abfa6d5f31305d5bf20c70b37ca48f744"
  },
  "kernelspec": {
   "display_name": "Python 3.8.8 ('base')",
   "language": "python",
   "name": "python3"
  },
  "language_info": {
   "codemirror_mode": {
    "name": "ipython",
    "version": 3
   },
   "file_extension": ".py",
   "mimetype": "text/x-python",
   "name": "python",
   "nbconvert_exporter": "python",
   "pygments_lexer": "ipython3",
   "version": "3.8.8"
  },
  "orig_nbformat": 4
 },
 "nbformat": 4,
 "nbformat_minor": 2
}
