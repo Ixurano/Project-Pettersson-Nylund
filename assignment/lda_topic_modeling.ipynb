{
 "cells": [
  {
   "cell_type": "markdown",
   "metadata": {},
   "source": [
    "# Topic modeling"
   ]
  },
  {
   "cell_type": "markdown",
   "metadata": {},
   "source": [
    "### Instructions\n",
    "\n",
    "Topic Modelling is an NLP method to identify and extract the hidden topics from a large corpus of\n",
    "textual data. As discussed in the previous lectures and hands-on exercises, you can use Latent Dirichlet\n",
    "Allocation [8], which is a popular algorithm for topic modeling with an excellent implementation in\n",
    "Gensim python package [9]. You can use the Gensim python package to build topic models on a\n",
    "Diabetes labeled dataset consisting of texts collected from 42 online forums. Again, the challenge in\n",
    "Topic modeling, in general, is to guess/identify the number of topics and also to extract good quality\n",
    "topics which are clear, segregated, and somewhat meaningful which really depends on finding the\n",
    "optimal number of topics. Therefore, try different combinations of topic numbers (maybe 5, 10, or\n",
    "15) to figure out some sensible topics from the given Diabetes labeled dataset.\n",
    "\n",
    "\n",
    "### Inspiration resource \n",
    "https://www.machinelearningplus.com/nlp/topic-modeling-gensim-python/"
   ]
  },
  {
   "cell_type": "markdown",
   "metadata": {},
   "source": [
    "### imports"
   ]
  },
  {
   "cell_type": "code",
   "execution_count": 1,
   "metadata": {},
   "outputs": [],
   "source": [
    "import re\n",
    "import numpy as np\n",
    "import pandas as pd\n",
    "from pprint import pprint\n",
    "\n",
    "# Gensim\n",
    "import gensim\n",
    "import gensim.corpora as corpora\n",
    "from gensim.utils import simple_preprocess\n",
    "from gensim.models import CoherenceModel\n",
    "\n",
    "# preprocessing\n",
    "import spacy\n",
    "import string\n",
    "from spacy.lang.en.stop_words import STOP_WORDS\n",
    "\n",
    "# Plotting tools\n",
    "import pyLDAvis # you might need to run: `pip install pyLDAvis`\n",
    "import pyLDAvis.gensim_models as gensimvis\n",
    "import matplotlib.pyplot as plt"
   ]
  },
  {
   "cell_type": "markdown",
   "metadata": {},
   "source": [
    "### Dataset"
   ]
  },
  {
   "cell_type": "code",
   "execution_count": 2,
   "metadata": {},
   "outputs": [
    {
     "name": "stderr",
     "output_type": "stream",
     "text": [
      "D:\\Program Files\\Anaconda\\lib\\site-packages\\ipykernel\\ipkernel.py:287: DeprecationWarning: `should_run_async` will not call `transform_cell` automatically in the future. Please pass the result to `transformed_cell` argument and any exception that happen during thetransform in `preprocessing_exc_tuple` in IPython 7.17 and above.\n",
      "  and should_run_async(code)\n"
     ]
    }
   ],
   "source": [
    "df = pd.read_excel('Diabetes-classification.xlsx', sheet_name ='Emotions')\n",
    "#df = pd.read_excel('Diabetes-classification.xlsx', sheet_name ='Patient-journey')\n",
    "\n",
    "X = df.loc[:,'discussion_text']"
   ]
  },
  {
   "cell_type": "markdown",
   "metadata": {},
   "source": [
    "### Preprocessing"
   ]
  },
  {
   "cell_type": "code",
   "execution_count": 3,
   "metadata": {},
   "outputs": [
    {
     "name": "stderr",
     "output_type": "stream",
     "text": [
      "D:\\Program Files\\Anaconda\\lib\\site-packages\\ipykernel\\ipkernel.py:287: DeprecationWarning: `should_run_async` will not call `transform_cell` automatically in the future. Please pass the result to `transformed_cell` argument and any exception that happen during thetransform in `preprocessing_exc_tuple` in IPython 7.17 and above.\n",
      "  and should_run_async(code)\n"
     ]
    }
   ],
   "source": [
    "# This is the same preprocessing we used in logistical regression with slight modifications \n",
    "\n",
    "# Basic function to clean the text\n",
    "def clean_text(text):\n",
    " \n",
    "    # remove numbers \n",
    "    text = re.sub(r'\\d+', '', text)\n",
    "\n",
    "    # remove all links\n",
    "    text = re.sub(\n",
    "        r\"(?i)\\b((?:https?:(?:/{1,3}|[a-z0-9%])|[a-z0-9.\\-]+[.](?:com|net|org|edu|gov|mil|aero|asia|biz|cat|coop|info|int|jobs|mobi|museum|name|post|pro|tel|travel|xxx|ac|ad|ae|af|ag|ai|al|am|an|ao|aq|ar|as|at|au|aw|ax|az|ba|bb|bd|be|bf|bg|bh|bi|bj|bm|bn|bo|br|bs|bt|bv|bw|by|bz|ca|cc|cd|cf|cg|ch|ci|ck|cl|cm|cn|co|cr|cs|cu|cv|cx|cy|cz|dd|de|dj|dk|dm|do|dz|ec|ee|eg|eh|er|es|et|eu|fi|fj|fk|fm|fo|fr|ga|gb|gd|ge|gf|gg|gh|gi|gl|gm|gn|gp|gq|gr|gs|gt|gu|gw|gy|hk|hm|hn|hr|ht|hu|id|ie|il|im|in|io|iq|ir|is|it|je|jm|jo|jp|ke|kg|kh|ki|km|kn|kp|kr|kw|ky|kz|la|lb|lc|li|lk|lr|ls|lt|lu|lv|ly|ma|mc|md|me|mg|mh|mk|ml|mm|mn|mo|mp|mq|mr|ms|mt|mu|mv|mw|mx|my|mz|na|nc|ne|nf|ng|ni|nl|no|np|nr|nu|nz|om|pa|pe|pf|pg|ph|pk|pl|pm|pn|pr|ps|pt|pw|py|qa|re|ro|rs|ru|rw|sa|sb|sc|sd|se|sg|sh|si|sj|Ja|sk|sl|sm|sn|so|sr|ss|st|su|sv|sx|sy|sz|tc|td|tf|tg|th|tj|tk|tl|tm|tn|to|tp|tr|tt|tv|tw|tz|ua|ug|uk|us|uy|uz|va|vc|ve|vg|vi|vn|vu|wf|ws|ye|yt|yu|za|zm|zw)/)(?:[^\\s()<>{}\\[\\]]+|\\([^\\s()]*?\\([^\\s()]+\\)[^\\s()]*?\\)|\\([^\\s]+?\\))+(?:\\([^\\s()]*?\\([^\\s()]+\\)[^\\s()]*?\\)|\\([^\\s]+?\\)|[^\\s`!()\\[\\]{};:\\'\\\".,<>?«»“”‘’])|(?:(?<!@)[a-z0-9]+(?:[.\\-][a-z0-9]+)*[.](?:com|net|org|edu|gov|mil|aero|asia|biz|cat|coop|info|int|jobs|mobi|museum|name|post|pro|tel|travel|xxx|ac|ad|ae|af|ag|ai|al|am|an|ao|aq|ar|as|at|au|aw|ax|az|ba|bb|bd|be|bf|bg|bh|bi|bj|bm|bn|bo|br|bs|bt|bv|bw|by|bz|ca|cc|cd|cf|cg|ch|ci|ck|cl|cm|cn|co|cr|cs|cu|cv|cx|cy|cz|dd|de|dj|dk|dm|do|dz|ec|ee|eg|eh|er|es|et|eu|fi|fj|fk|fm|fo|fr|ga|gb|gd|ge|gf|gg|gh|gi|gl|gm|gn|gp|gq|gr|gs|gt|gu|gw|gy|hk|hm|hn|hr|ht|hu|id|ie|il|im|in|io|iq|ir|is|it|je|jm|jo|jp|ke|kg|kh|ki|km|kn|kp|kr|kw|ky|kz|la|lb|lc|li|lk|lr|ls|lt|lu|lv|ly|ma|mc|md|me|mg|mh|mk|ml|mm|mn|mo|mp|mq|mr|ms|mt|mu|mv|mw|mx|my|mz|na|nc|ne|nf|ng|ni|nl|no|np|nr|nu|nz|om|pa|pe|pf|pg|ph|pk|pl|pm|pn|pr|ps|pt|pw|py|qa|re|ro|rs|ru|rw|sa|sb|sc|sd|se|sg|sh|si|sj|Ja|sk|sl|sm|sn|so|sr|ss|st|su|sv|sx|sy|sz|tc|td|tf|tg|th|tj|tk|tl|tm|tn|to|tp|tr|tt|tv|tw|tz|ua|ug|uk|us|uy|uz|va|vc|ve|vg|vi|vn|vu|wf|ws|ye|yt|yu|za|zm|zw)\\b/?(?!@)))\", \n",
    "        'link_to_website', \n",
    "        text\n",
    "    )\n",
    "\n",
    "    # Removing spaces and converting text into lowercase\n",
    "    return text.strip().lower()\n",
    "\n",
    "\n",
    "# Create our list of punctuation marks\n",
    "punctuations = string.punctuation\n",
    "punctuations += \"....\"\n",
    "\n",
    "# Create our list of stopwords\n",
    "stop_words = STOP_WORDS \n",
    "\n",
    "# Load English tokenizer, tagger, parser, NER and word vectors\n",
    "parser = spacy.load('en_core_web_sm')\n",
    "\n",
    "\n",
    "# Creating our tokenizer function\n",
    "def spacy_tokenizer(sentence, allowed_postags=['NOUN', 'ADJ', 'VERB', 'ADV']):\n",
    "    # Creating our token object, which is used to create documents with linguistic annotations.\n",
    "    mytokens = parser(sentence)\n",
    "\n",
    "    # Lemmatizing each token and converting each token into lowercase\n",
    "    mytokens = [ word.lemma_.lower().strip() if word.lemma_ != \"-PRON-\" else word.lower_ for word in mytokens if word.pos_ in allowed_postags]\n",
    "\n",
    "    # Removing stop words\n",
    "    mytokens = [ word for word in mytokens if word not in stop_words and word not in punctuations ]\n",
    "\n",
    "    # return preprocessed list of tokens\n",
    "    return mytokens\n",
    "\n",
    "X = [spacy_tokenizer(clean_text(text)) for text in X]"
   ]
  },
  {
   "cell_type": "markdown",
   "metadata": {},
   "source": [
    "### Creating Dictionary and corpus"
   ]
  },
  {
   "cell_type": "code",
   "execution_count": 5,
   "metadata": {},
   "outputs": [
    {
     "name": "stdout",
     "output_type": "stream",
     "text": [
      "[[(0, 1), (1, 1), (2, 1), (3, 1), (4, 1), (5, 1), (6, 1), (7, 1), (8, 1), (9, 1), (10, 1), (11, 1), (12, 1), (13, 2)]]\n"
     ]
    },
    {
     "name": "stderr",
     "output_type": "stream",
     "text": [
      "D:\\Program Files\\Anaconda\\lib\\site-packages\\ipykernel\\ipkernel.py:287: DeprecationWarning: `should_run_async` will not call `transform_cell` automatically in the future. Please pass the result to `transformed_cell` argument and any exception that happen during thetransform in `preprocessing_exc_tuple` in IPython 7.17 and above.\n",
      "  and should_run_async(code)\n"
     ]
    }
   ],
   "source": [
    "# Create Dictionary\n",
    "id2word = corpora.Dictionary(X)\n",
    "\n",
    "# Create Corpus\n",
    "texts = X\n",
    "\n",
    "# Term Document Frequency\n",
    "corpus = [id2word.doc2bow(text) for text in texts]\n",
    "\n",
    "# View\n",
    "print(corpus[:1])"
   ]
  },
  {
   "cell_type": "markdown",
   "metadata": {},
   "source": [
    "### Building LDA (Latent Dirichlet Allocation) model"
   ]
  },
  {
   "cell_type": "code",
   "execution_count": 6,
   "metadata": {},
   "outputs": [
    {
     "name": "stderr",
     "output_type": "stream",
     "text": [
      "D:\\Program Files\\Anaconda\\lib\\site-packages\\ipykernel\\ipkernel.py:287: DeprecationWarning: `should_run_async` will not call `transform_cell` automatically in the future. Please pass the result to `transformed_cell` argument and any exception that happen during thetransform in `preprocessing_exc_tuple` in IPython 7.17 and above.\n",
      "  and should_run_async(code)\n"
     ]
    }
   ],
   "source": [
    "lda_model = gensim.models.ldamodel.LdaModel(\n",
    "  corpus=corpus,\n",
    "  id2word=id2word,\n",
    "  num_topics=12, \n",
    "  random_state=100,\n",
    "  update_every=1,\n",
    "  chunksize=100,\n",
    "  passes=10,\n",
    "  alpha='auto',\n",
    "  per_word_topics=True\n",
    ")"
   ]
  },
  {
   "cell_type": "markdown",
   "metadata": {},
   "source": [
    "### View topics"
   ]
  },
  {
   "cell_type": "code",
   "execution_count": 7,
   "metadata": {},
   "outputs": [
    {
     "name": "stdout",
     "output_type": "stream",
     "text": [
      "[(0,\n",
      "  '0.049*\"hbac\" + 0.044*\"meter\" + 0.037*\"answer\" + 0.036*\"option\" + '\n",
      "  '0.036*\"continue\" + 0.034*\"struggle\" + 0.029*\"short\" + 0.023*\"enjoy\" + '\n",
      "  '0.020*\"sound\" + 0.020*\"money\"'),\n",
      " (1,\n",
      "  '0.049*\"foot\" + 0.041*\"eye\" + 0.038*\"place\" + 0.029*\"welcome\" + 0.028*\"leg\" '\n",
      "  '+ 0.025*\"neuropathy\" + 0.024*\"suffer\" + 0.024*\"totally\" + 0.024*\"soda\" + '\n",
      "  '0.023*\"community\"'),\n",
      " (2,\n",
      "  '0.055*\"know\" + 0.046*\"good\" + 0.042*\"test\" + 0.042*\"t\" + 0.037*\"doctor\" + '\n",
      "  '0.028*\"feel\" + 0.026*\"thing\" + 0.024*\"read\" + 0.024*\"want\" + 0.022*\"find\"'),\n",
      " (3,\n",
      "  '0.081*\"little\" + 0.046*\"night\" + 0.033*\"dad\" + 0.030*\"notice\" + '\n",
      "  '0.030*\"fine\" + 0.025*\"kid\" + 0.022*\"quit\" + 0.021*\"wake\" + 0.018*\"battle\" + '\n",
      "  '0.017*\"fairly\"'),\n",
      " (4,\n",
      "  '0.052*\"appointment\" + 0.049*\"system\" + 0.042*\"worry\" + 0.038*\"birth\" + '\n",
      "  '0.034*\"wait\" + 0.030*\"urine\" + 0.024*\"drive\" + 0.022*\"bed\" + 0.019*\"list\" + '\n",
      "  '0.017*\"complete\"'),\n",
      " (5,\n",
      "  '0.120*\"diabetes\" + 0.095*\"type\" + 0.025*\"insulin\" + 0.025*\"year\" + '\n",
      "  '0.020*\"diagnose\" + 0.018*\"weight\" + 0.018*\"people\" + 0.016*\"diabetic\" + '\n",
      "  '0.014*\"diet\" + 0.014*\"help\"'),\n",
      " (6,\n",
      "  '0.047*\"pregnancy\" + 0.035*\"water\" + 0.031*\"maybe\" + 0.029*\"baby\" + '\n",
      "  '0.024*\"real\" + 0.022*\"sweet\" + 0.016*\"lchf\" + 0.016*\"personally\" + '\n",
      "  '0.016*\"active\" + 0.016*\"twice\"'),\n",
      " (7,\n",
      "  '0.065*\"blood\" + 0.058*\"sugar\" + 0.046*\"high\" + 0.039*\"low\" + 0.037*\"level\" '\n",
      "  '+ 0.032*\"diet\" + 0.028*\"fat\" + 0.027*\"eat\" + 0.027*\"carb\" + 0.026*\"food\"'),\n",
      " (8,\n",
      "  '0.047*\"risk\" + 0.045*\"disease\" + 0.039*\"health\" + 0.028*\"increase\" + '\n",
      "  '0.026*\"reduce\" + 0.024*\"study\" + 0.023*\"patient\" + 0.023*\"condition\" + '\n",
      "  '0.018*\"thank\" + 0.016*\"improve\"'),\n",
      " (9,\n",
      "  '0.040*\"factor\" + 0.039*\"cancer\" + 0.026*\"free\" + 0.025*\"obese\" + '\n",
      "  '0.025*\"cost\" + 0.020*\"instead\" + 0.020*\"explain\" + 0.019*\"group\" + '\n",
      "  '0.016*\"rest\" + 0.016*\"future\"'),\n",
      " (10,\n",
      "  '0.056*\"eat\" + 0.035*\"lot\" + 0.035*\"ago\" + 0.033*\"month\" + 0.025*\"hour\" + '\n",
      "  '0.022*\"try\" + 0.021*\"number\" + 0.020*\"link\" + 0.019*\"sure\" + 0.018*\"find\"'),\n",
      " (11,\n",
      "  '0.070*\"recently\" + 0.047*\"calorie\" + 0.046*\"pretty\" + 0.035*\"genetic\" + '\n",
      "  '0.032*\"habit\" + 0.030*\"huge\" + 0.029*\"interesting\" + 0.027*\"eating\" + '\n",
      "  '0.025*\"area\" + 0.023*\"tablet\"')]\n"
     ]
    },
    {
     "name": "stderr",
     "output_type": "stream",
     "text": [
      "D:\\Program Files\\Anaconda\\lib\\site-packages\\ipykernel\\ipkernel.py:287: DeprecationWarning: `should_run_async` will not call `transform_cell` automatically in the future. Please pass the result to `transformed_cell` argument and any exception that happen during thetransform in `preprocessing_exc_tuple` in IPython 7.17 and above.\n",
      "  and should_run_async(code)\n"
     ]
    }
   ],
   "source": [
    "# Print the Keyword in the 10 topics\n",
    "pprint(lda_model.print_topics())\n",
    "doc_lda = lda_model[corpus]"
   ]
  },
  {
   "cell_type": "markdown",
   "metadata": {},
   "source": [
    "### Show model complexity and coherence"
   ]
  },
  {
   "cell_type": "code",
   "execution_count": 8,
   "metadata": {},
   "outputs": [
    {
     "name": "stderr",
     "output_type": "stream",
     "text": [
      "D:\\Program Files\\Anaconda\\lib\\site-packages\\ipykernel\\ipkernel.py:287: DeprecationWarning: `should_run_async` will not call `transform_cell` automatically in the future. Please pass the result to `transformed_cell` argument and any exception that happen during thetransform in `preprocessing_exc_tuple` in IPython 7.17 and above.\n",
      "  and should_run_async(code)\n"
     ]
    },
    {
     "name": "stdout",
     "output_type": "stream",
     "text": [
      "\n",
      "Perplexity:  -8.235763055915513\n",
      "\n",
      "Coherence Score:  0.4829283839268758\n"
     ]
    }
   ],
   "source": [
    "# Compute Perplexity\n",
    "print('\\nPerplexity: ', lda_model.log_perplexity(corpus))  # a measure of how good the model is. lower the better.\n",
    "\n",
    "# Compute Coherence Score\n",
    "coherence_model_lda = CoherenceModel(model=lda_model, texts=X, dictionary=id2word, coherence='c_v')\n",
    "coherence_lda = coherence_model_lda.get_coherence()\n",
    "print('\\nCoherence Score: ', coherence_lda)"
   ]
  },
  {
   "cell_type": "markdown",
   "metadata": {},
   "source": [
    "### Visualize the topics"
   ]
  },
  {
   "cell_type": "code",
   "execution_count": 9,
   "metadata": {},
   "outputs": [
    {
     "name": "stderr",
     "output_type": "stream",
     "text": [
      "D:\\Program Files\\Anaconda\\lib\\site-packages\\ipykernel\\ipkernel.py:287: DeprecationWarning: `should_run_async` will not call `transform_cell` automatically in the future. Please pass the result to `transformed_cell` argument and any exception that happen during thetransform in `preprocessing_exc_tuple` in IPython 7.17 and above.\n",
      "  and should_run_async(code)\n"
     ]
    },
    {
     "data": {
      "text/html": [
       "\n",
       "<link rel=\"stylesheet\" type=\"text/css\" href=\"https://cdn.jsdelivr.net/gh/bmabey/pyLDAvis@3.3.1/pyLDAvis/js/ldavis.v1.0.0.css\">\n",
       "\n",
       "\n",
       "<div id=\"ldavis_el285615510042197605876860373\"></div>\n",
       "<script type=\"text/javascript\">\n",
       "\n",
       "var ldavis_el285615510042197605876860373_data = {\"mdsDat\": {\"x\": [0.30997656368262, 0.23154367090540529, 0.1633799381940281, 0.15636523829995477, 0.01992847318721881, -0.09380398057537918, -0.10830775484905197, -0.1153942472085462, -0.14040522518043963, -0.13701641779993232, -0.14034350020138897, -0.1459227584544882], \"y\": [-0.048594789620471146, 0.2534044299089024, -0.3644096594790691, 0.09402976855944088, 0.06491674766068761, 0.0141764584550783, 0.0020263665603608943, -0.02785251327137661, 0.0027905112725136977, 0.0032617751725328857, 0.002819516500668452, 0.003431388280731411], \"topics\": [1, 2, 3, 4, 5, 6, 7, 8, 9, 10, 11, 12], \"cluster\": [1, 1, 1, 1, 1, 1, 1, 1, 1, 1, 1, 1], \"Freq\": [42.11977399829683, 15.571263038513328, 12.31973304626231, 9.431618162121172, 7.3796962728485545, 2.776548596918142, 2.68182166522636, 2.1509257142602, 1.6040427517920317, 1.4318580020961165, 1.4277480431354757, 1.1049707085294842]}, \"tinfo\": {\"Term\": [\"diabetes\", \"type\", \"blood\", \"sugar\", \"eat\", \"know\", \"high\", \"good\", \"low\", \"test\", \"t\", \"level\", \"diet\", \"doctor\", \"disease\", \"risk\", \"year\", \"ago\", \"fat\", \"lot\", \"people\", \"carb\", \"health\", \"month\", \"food\", \"feel\", \"insulin\", \"thing\", \"try\", \"find\", \"diabetes\", \"type\", \"year\", \"weight\", \"control\", \"lose\", \"use\", \"work\", \"start\", \"exercise\", \"metformin\", \"long\", \"change\", \"diabete\", \"bad\", \"med\", \"medication\", \"new\", \"life\", \"mean\", \"time\", \"old\", \"family\", \"pre\", \"reverse\", \"lifestyle\", \"overweight\", \"drug\", \"manage\", \"daily\", \"need\", \"help\", \"diagnose\", \"diabetic\", \"people\", \"problem\", \"day\", \"insulin\", \"think\", \"diet\", \"week\", \"sugar\", \"fat\", \"food\", \"body\", \"low\", \"resistance\", \"heart\", \"obesity\", \"pressure\", \"cholesterol\", \"issue\", \"carbohydrate\", \"run\", \"lead\", \"lower\", \"fruit\", \"m\", \"case\", \"blood\", \"process\", \"thread\", \"recommend\", \"turn\", \"site\", \"relate\", \"avoid\", \"dose\", \"concern\", \"cut\", \"excess\", \"cell\", \"level\", \"high\", \"glucose\", \"carb\", \"cause\", \"diet\", \"eat\", \"insulin\", \"way\", \"effect\", \"test\", \"t\", \"feel\", \"read\", \"ask\", \"forum\", \"advice\", \"follow\", \"like\", \"question\", \"diagnosis\", \"learn\", \"later\", \"today\", \"course\", \"information\", \"let\", \"deal\", \"medical\", \"big\", \"sorry\", \"figure\", \"self\", \"opinion\", \"book\", \"line\", \"head\", \"plan\", \"member\", \"home\", \"know\", \"good\", \"post\", \"hope\", \"look\", \"doctor\", \"thing\", \"want\", \"tell\", \"find\", \"week\", \"think\", \"month\", \"hour\", \"number\", \"link\", \"sure\", \"fast\", \"check\", \"meal\", \"ac\", \"bg\", \"hard\", \"nurse\", \"surgery\", \"support\", \"gp\", \"watch\", \"bit\", \"hear\", \"pregnant\", \"testing\", \"especially\", \"couple\", \"away\", \"husband\", \"expect\", \"kind\", \"affect\", \"regard\", \"lbs\", \"glad\", \"ago\", \"lot\", \"drink\", \"history\", \"eat\", \"try\", \"find\", \"carb\", \"normal\", \"increase\", \"study\", \"patient\", \"condition\", \"thank\", \"improve\", \"complication\", \"range\", \"consider\", \"article\", \"common\", \"dietary\", \"breakfast\", \"base\", \"prevent\", \"walk\", \"term\", \"mom\", \"intake\", \"total\", \"metabolic\", \"suppose\", \"evidence\", \"parent\", \"small\", \"protein\", \"compare\", \"appreciate\", \"percent\", \"hypoglycemia\", \"health\", \"risk\", \"reduce\", \"disease\", \"develop\", \"suggest\", \"factor\", \"cancer\", \"free\", \"obese\", \"cost\", \"instead\", \"explain\", \"group\", \"rest\", \"future\", \"nhs\", \"difference\", \"addition\", \"strip\", \"individual\", \"exactly\", \"infection\", \"clinic\", \"local\", \"illness\", \"thin\", \"present\", \"register\", \"education\", \"glass\", \"understanding\", \"offer\", \"receive\", \"challenge\", \"myth\", \"people\", \"pregnancy\", \"water\", \"maybe\", \"baby\", \"real\", \"sweet\", \"lchf\", \"personally\", \"active\", \"twice\", \"monitor\", \"coffee\", \"maintain\", \"late\", \"sensitivity\", \"ok\", \"snack\", \"advise\", \"average\", \"job\", \"endocrinologist\", \"pay\", \"constantly\", \"majority\", \"introduce\", \"trial\", \"nation\", \"gd\", \"alcohol\", \"explanation\", \"recently\", \"calorie\", \"pretty\", \"genetic\", \"habit\", \"huge\", \"interesting\", \"eating\", \"area\", \"tablet\", \"juice\", \"paper\", \"prior\", \"physical\", \"activity\", \"blame\", \"relationship\", \"solution\", \"typical\", \"relatively\", \"carry\", \"zinc\", \"starch\", \"predisposition\", \"gym\", \"directly\", \"apply\", \"curative\", \"tip\", \"milk\", \"look\", \"hbac\", \"meter\", \"answer\", \"option\", \"continue\", \"struggle\", \"short\", \"enjoy\", \"sound\", \"money\", \"stuff\", \"save\", \"folk\", \"clear\", \"nice\", \"sort\", \"public\", \"center\", \"resource\", \"speak\", \"absolute\", \"decade\", \"reaction\", \"oil\", \"possibility\", \"initially\", \"insurance\", \"barely\", \"healthcare\", \"dead\", \"foot\", \"eye\", \"place\", \"welcome\", \"leg\", \"neuropathy\", \"suffer\", \"totally\", \"soda\", \"community\", \"drop\", \"event\", \"ketone\", \"extreme\", \"dry\", \"share\", \"shake\", \"fluid\", \"bet\", \"repeat\", \"interest\", \"numb\", \"finger\", \"thirsty\", \"joint\", \"lifetime\", \"fatigue\", \"sensation\", \"painful\", \"toe\", \"little\", \"night\", \"dad\", \"notice\", \"fine\", \"kid\", \"quit\", \"wake\", \"battle\", \"fairly\", \"proper\", \"smoking\", \"white\", \"gi\", \"role\", \"piece\", \"hypo\", \"play\", \"hrs\", \"moment\", \"light\", \"bean\", \"dairy\", \"sedentary\", \"prevention\", \"slim\", \"replace\", \"sudden\", \"advocate\", \"house\", \"appointment\", \"system\", \"worry\", \"birth\", \"wait\", \"urine\", \"drive\", \"bed\", \"list\", \"complete\", \"possibly\", \"focus\", \"primary\", \"arthritis\", \"pharmaceutical\", \"brown\", \"development\", \"dietician\", \"iron\", \"suspect\", \"cook\", \"stimulate\", \"l\", \"dm\", \"entirely\", \"ob\", \"company\", \"encounter\", \"apart\", \"block\"], \"Freq\": [5142.0, 4095.0, 1039.0, 922.0, 1038.0, 715.0, 780.0, 595.0, 626.0, 530.0, 529.0, 615.0, 1116.0, 540.0, 385.0, 378.0, 1059.0, 384.0, 447.0, 397.0, 836.0, 574.0, 307.0, 320.0, 406.0, 356.0, 1299.0, 363.0, 451.0, 453.0, 5141.856257013902, 4094.4104134475897, 1058.7540750849648, 790.5587207808221, 608.2977944578877, 510.1216462126867, 481.5126792465257, 480.8222969498479, 475.760120382062, 463.12326710175824, 437.13336694251626, 353.99004109708284, 351.8910820289721, 346.0742150059899, 308.331108487618, 282.5651663925632, 269.0518093188365, 260.9961019781471, 259.32617076783157, 235.87546244077132, 532.7912925372802, 218.25022490401213, 233.69000549796377, 212.4001033199043, 194.56335316842856, 190.62386819195353, 189.1347761654246, 182.83149615750625, 166.58370175974233, 163.8539064683051, 548.8016229570424, 609.486635013748, 846.3891671760232, 674.9159244401868, 788.942252980451, 293.1315130631922, 586.058696656941, 1085.6324842943538, 572.8199798395382, 610.4569398797083, 345.15697337474995, 921.2822498550452, 447.08835566557684, 405.65315148589593, 314.7407100324901, 624.3906582815938, 222.65992078978218, 203.54132220057392, 202.16674491570532, 190.45200712855734, 169.02538389061635, 167.90661106829015, 162.50526233871116, 139.0449115164061, 127.08490265271601, 124.60642059738949, 123.5789716399221, 115.16877303463927, 112.84979336858467, 1030.4693171384713, 95.54217527622272, 86.82384554226991, 83.33906266892451, 82.82759428761362, 82.70275443120487, 76.98334034725484, 75.76689699912299, 71.55737426612474, 68.05928411650517, 64.72489787529243, 63.9064005243804, 136.50778572216814, 588.7186364758653, 733.1349682950547, 368.89394222176054, 428.32919407954535, 344.4721980157115, 504.8893941088523, 435.82378698320605, 213.3511592647203, 125.63756807522213, 100.5615852047227, 529.407314318534, 528.412168866503, 355.812582581632, 302.06065895491207, 218.2853538852664, 207.93319589042324, 196.81715666186508, 170.61252591650364, 159.67621449806003, 141.9883058697133, 137.02683510403702, 123.88718129343609, 113.61664114424113, 113.61379686824908, 108.33986541282961, 95.04008939823214, 93.25068280163292, 91.55118107702911, 89.63698918680366, 84.8305548723727, 80.96956726156856, 76.62659777092752, 76.00600718204629, 72.16515189513643, 72.12758521284645, 70.19338389954117, 68.86022024077675, 67.20317196894308, 61.950701336698145, 59.95739058405204, 688.8901999830114, 573.8983455441975, 224.83879986772382, 113.48998307629914, 260.8948087558972, 469.751539890453, 323.3095074865813, 296.76307201891683, 255.7058661398943, 275.5253430847473, 114.17392025641058, 91.04349536970858, 319.71187217556826, 238.74377963337943, 203.41117857680197, 195.58844303293256, 186.20219625733327, 171.8571809817472, 168.6294203718476, 149.2157225147741, 136.9596751662642, 133.07702699576515, 132.50378195893484, 122.78806176505604, 121.24159411583179, 116.2522600743483, 112.34084749804317, 107.81739826100295, 105.63950261952823, 98.26480181892897, 97.87860606770481, 90.25963183960613, 86.92934986932426, 85.35165357392114, 77.65463909343461, 77.50895320259508, 73.97425577273444, 72.43037781612013, 65.12164697051908, 63.04250016143775, 63.00125325803423, 61.25151266067678, 339.9371743200768, 340.2909496288691, 124.71387905770513, 83.15268195660347, 539.6790004121747, 207.16945877590467, 174.74971529220605, 144.9233652594574, 101.41956714854939, 211.3861712472161, 177.81388471720965, 175.91871242539028, 171.6140701060892, 137.60153989053578, 123.10375932413301, 114.8814810672976, 114.78069968911554, 114.46269216241276, 102.44331036489342, 91.38655409384592, 90.10263972127592, 89.12838934959565, 82.01963524322223, 81.24525087727856, 80.10497836465123, 74.53082301901543, 71.27367881439363, 70.44996247565958, 67.57952316405668, 63.2666214553373, 62.55413343046718, 58.90867872995996, 57.29789796945629, 57.027588767212436, 56.64589349536449, 53.56018070073578, 50.67203067803729, 48.45242143668275, 44.672779703593264, 295.69329276826016, 357.50574985624405, 198.4829155887141, 339.81467058610485, 78.07876363800351, 58.174911208583474, 113.68258766506575, 109.82762021105052, 74.99030987677875, 71.29184248378759, 70.42941176284572, 57.814170977554504, 57.065526347571264, 53.01626730985674, 46.05871766975127, 46.03228523521226, 45.53256977217901, 45.15538790039694, 43.12048613602123, 42.63011699190731, 42.42563230171512, 42.40400360602796, 39.92193205362723, 37.10712574416975, 36.501456315741365, 36.46680397441358, 35.872994847950004, 34.348389434325696, 34.34673015275634, 31.40045545606128, 29.088506428952016, 29.070676406492023, 25.875417145529084, 25.207586650486213, 24.775276533494946, 23.693356363113597, 26.34417078379344, 127.53152213522806, 96.27563295720036, 83.86954361376542, 78.18528062236818, 64.56689333250942, 60.92980075169271, 44.43665777708972, 43.007211760748454, 42.98226714884932, 42.91602506303178, 42.666265543911365, 42.14521362363177, 40.63591427359093, 40.03640530636565, 36.73832248630397, 35.90263467221797, 34.85272895202291, 34.41899846120145, 34.38584174673328, 33.9665251138805, 32.70356845716265, 32.42681066350871, 31.130414467815967, 29.127079307808753, 28.193768627501772, 27.47068318661889, 25.772691479192723, 25.42860871309641, 24.94056827307883, 24.471821050763012, 154.5888486169043, 103.40011083157727, 101.96924379896197, 77.72410539371265, 70.31939200098657, 65.92501292934482, 62.97363561058984, 59.22341441133052, 54.010156296243835, 51.486297965402215, 47.12880533715889, 40.70503428467933, 37.4824915394743, 34.09585623218822, 33.96637561979354, 32.54631294320303, 26.761366044697603, 24.98772688332308, 24.761728447011095, 23.860777577897238, 23.610213383352985, 21.272336295769183, 20.358512977515897, 20.279980615557008, 19.31986429994614, 19.100213192897062, 18.377208248733943, 18.15643317803561, 17.991647845632556, 17.276539256998056, 23.990785431421934, 80.23343434127891, 71.29618272514864, 59.925916738056536, 59.15222108194604, 58.304667116905236, 55.273355333713035, 48.0749408139826, 37.01059001723418, 33.266365113285076, 32.83804361365444, 29.52052783539143, 26.48300429775882, 24.845039631783578, 24.441121670880683, 22.175749994646075, 21.04626375869944, 20.44730341389264, 19.892706212304752, 19.58313498690156, 19.213078402816972, 18.590700536240963, 18.353289902779213, 17.580433961265545, 17.40825436934275, 16.223308870432206, 15.450367585874211, 14.087893314941306, 13.586665995714334, 13.270550787591045, 12.581306645787521, 72.29393759748552, 59.978628562339914, 55.788903717643954, 41.6931216056188, 41.42192743153492, 37.22188265202782, 35.68560268594038, 35.41307532755451, 34.639692393184376, 33.25672862182606, 33.1326010009577, 29.61071986803128, 25.68683197315262, 24.744673347718823, 24.62268154251793, 24.08116656610719, 23.547759526879997, 18.5173898789941, 17.041246047671525, 17.029918062281023, 16.035830547892473, 15.485692045675274, 15.371438150994518, 15.127332105299693, 13.992087581173035, 13.518522832007422, 13.444580077364055, 13.220972420508437, 12.773266005232898, 11.942474522348396, 118.33583000711467, 66.77701124982576, 47.396073879667384, 44.31275378631347, 43.888634461086816, 36.04952951199717, 32.6581592873728, 29.944783128690613, 26.332004330848864, 24.63732573212754, 24.059443143318266, 23.761034923912806, 23.50199467948569, 22.636740252100118, 19.39347266947527, 19.156952827521806, 18.688152166487438, 18.54820336976373, 18.432276606976053, 18.265469361331835, 17.721207310729376, 16.459524890251664, 16.456559608971855, 16.012833616033227, 16.010477397559747, 15.864877474664178, 15.059908056719285, 14.64886798222453, 14.464605457756617, 14.459263610693537, 58.78489696957376, 55.37305266629877, 47.87665186533766, 42.49706654831638, 38.631935072912604, 33.34232564703505, 26.658435299279816, 24.42450607169976, 21.738238709463136, 19.041326170270438, 19.027856976942388, 17.94556792477555, 17.255689070247477, 17.067884632769562, 16.993113287765375, 16.541960400128865, 16.38299662353234, 16.218398461854626, 12.34099248852477, 12.29858605085577, 12.153867284724429, 12.115774558309129, 11.130029072536226, 10.439141340783817, 10.240130072536072, 9.908024697371445, 9.737863538387002, 9.274318572960597, 8.690430092009818, 8.192778042605365], \"Total\": [5142.0, 4095.0, 1039.0, 922.0, 1038.0, 715.0, 780.0, 595.0, 626.0, 530.0, 529.0, 615.0, 1116.0, 540.0, 385.0, 378.0, 1059.0, 384.0, 447.0, 397.0, 836.0, 574.0, 307.0, 320.0, 406.0, 356.0, 1299.0, 363.0, 451.0, 453.0, 5142.734501726865, 4095.288298891947, 1059.6526180875665, 791.4366033873994, 609.1756788892188, 510.99952737251795, 482.3905638372177, 481.7001934996077, 476.6380066375126, 464.0011503951741, 438.01124722451135, 354.867928084398, 352.7689663609795, 346.9520993280075, 309.2090021569971, 283.44305263044293, 269.9296864083605, 261.8739862439169, 260.20405734558807, 236.7533489674019, 534.9121150102081, 219.1281070075589, 234.63355383596462, 213.2779949934655, 195.4412436174811, 191.50175303384844, 190.01266112742505, 183.7093810489952, 167.46158534467435, 164.73179761881752, 553.6104317249165, 615.8708574422345, 884.3988398844133, 703.081316722839, 836.1963165499183, 298.4497786283105, 642.0495523924952, 1299.7706825818761, 664.6547888628129, 1116.1333747302954, 460.12220888616196, 922.1634789821918, 447.9695853646421, 406.5343858588626, 315.623414245343, 626.5738516665434, 223.54115810324822, 204.42255436564307, 203.0479790030784, 191.33323923411132, 169.9066181000695, 168.7878457920755, 163.38649046535676, 139.92615910869566, 127.96613443234935, 125.48764985335747, 124.46019941017019, 116.05002288263435, 113.73103370333916, 1039.2832141820695, 96.42341195573694, 87.70509277796391, 84.22030445052398, 83.70883535368402, 83.58402081015976, 77.86457210591163, 76.64812930205338, 72.4386073601402, 68.94899344046732, 65.6061378047953, 64.78763097853657, 138.90540276483463, 615.8330944121187, 780.8639862083281, 420.07471658774836, 574.0460430972763, 520.8497637908432, 1116.1333747302954, 1038.8517145859348, 1299.7706825818761, 311.39134346012474, 171.499124262171, 530.2944594100018, 529.3058539780876, 356.69808569990477, 303.02787741672205, 219.17085783081086, 208.81869465048348, 197.70266017385163, 171.49803125359546, 160.5617238132334, 142.8738118596057, 137.91233611094302, 124.77268300762054, 114.502153780594, 114.49930625971795, 109.22538428225111, 95.92558908066155, 94.13618732455012, 92.43668392091284, 90.5224912786105, 85.71605951063016, 81.85506799623641, 77.51211057465203, 76.89151374640987, 73.05067527681639, 73.01308979703369, 71.07890494072899, 69.74573085314182, 68.088677123228, 62.83619959222715, 60.842901701838464, 715.0288112123843, 595.2864514057496, 240.4996713016323, 117.69951436807504, 285.69601772051743, 540.7747700022101, 363.9365190776415, 348.2660614346916, 394.41987869531215, 453.78970742888873, 460.12220888616196, 664.6547888628129, 320.5962036352891, 239.62811491599518, 204.29550890372502, 196.4727767548338, 187.08653371593675, 172.7415105818162, 169.5137492230955, 150.1000501427632, 137.84400447095908, 133.96135917651935, 133.3881198280534, 123.67239200886303, 122.1259197748942, 117.13660098183009, 113.22518812046088, 108.70173619616274, 106.5238359769187, 99.14913275551258, 98.76293122047704, 91.14732461886052, 87.81368601729181, 86.23598733763565, 78.53897370242032, 78.3932811569477, 74.85859483238688, 73.3147123848473, 66.00598570629094, 63.92683802137153, 63.88558181181026, 62.13585145567647, 384.07338462540855, 397.0217809864969, 135.45202398388633, 88.36381806762456, 1038.8517145859348, 451.445473675373, 453.78970742888873, 574.0460430972763, 229.92732904760936, 212.26252246743923, 178.68990770439532, 176.7947485491228, 172.49203924255121, 138.47758501696126, 123.97979309021768, 115.75751630941242, 115.65674918552232, 115.33873507984784, 103.31934745847211, 92.26259447933788, 90.97867335255047, 90.004425319848, 82.89567230895267, 82.12128525449708, 80.98103228822728, 75.40685967953833, 72.14972008149563, 71.32599616989762, 68.45556243873042, 64.1426588441367, 63.43018513370148, 59.78471004717541, 58.17394791931294, 57.90363085024447, 57.52192370409751, 54.43625037235165, 51.54807762289654, 49.32845319187916, 45.548832073656804, 307.04938670942425, 378.98438391530283, 209.21108479385603, 385.7845964814649, 299.7385271566308, 147.4030476203858, 114.57281747398781, 110.7178526581243, 75.88054345446444, 72.1820728607661, 71.31964684983808, 58.7044093571236, 57.95576588898372, 53.906501489971895, 46.94896507357147, 46.92253652160945, 46.42280920171652, 46.045645750223606, 44.01074290881949, 43.520345056106635, 43.31585963487449, 43.294234656074295, 40.81215882429131, 37.99735673895751, 37.391709841540035, 37.357050996709106, 36.763224611277685, 35.238653513434095, 35.237039714886826, 32.290690471488, 29.97874311599296, 29.96091658579834, 26.765641174188044, 26.097815584702982, 25.66550803372981, 24.583583571530955, 836.1963165499183, 128.4271762808747, 97.17129968839629, 84.76520630438226, 79.08092793028588, 65.46256163642407, 61.82544924650573, 45.332321916693935, 43.902868254695925, 43.877919108444615, 43.81168546285853, 43.561927328346165, 43.040883617985514, 41.53157563362625, 40.93205753590583, 37.63398673860198, 36.79829234252254, 35.748392543753354, 35.314663278607014, 35.28151888914721, 34.862175162593786, 33.599226215796165, 33.3224765253728, 32.02608060693591, 30.02272891370833, 29.089452899127995, 28.36636260250078, 26.66844713659199, 26.324256420077916, 25.8362401167944, 25.36748371862548, 155.4858418760094, 104.29710092755757, 102.8662425023586, 78.62109655883032, 71.21638487753958, 66.8220267568537, 63.870644302076386, 60.12041108394645, 54.907161379186306, 52.3832957587572, 48.025804236638486, 41.60203685191229, 38.379493025114684, 34.99285527246582, 34.863361925509714, 33.44330991967797, 27.658356984031933, 25.884722756425298, 25.65871698464348, 24.757787037022005, 24.507210276444567, 22.169318284343237, 21.255499048931046, 21.176963886972043, 20.216847855432455, 19.997291110393117, 19.274194083114697, 19.053415019006913, 18.888643950747465, 18.173529701842323, 285.69601772051743, 81.12798412856462, 72.19073120520208, 60.82048068079491, 60.0467815456418, 59.19922503702393, 56.16791233300333, 48.96949356206515, 37.905138270162965, 34.16092072687657, 33.732603691747975, 30.415083972221236, 27.37756734086793, 25.739594884863177, 25.335688880442785, 23.070300345942528, 21.94082416774308, 21.34186598156637, 20.787263197946903, 20.477689085126585, 20.10764332704297, 19.485304611664134, 19.24784621882292, 18.47500466177419, 18.302810100550705, 17.117872720632597, 16.344922935449745, 14.982442671127949, 14.481240033549803, 14.165123722350735, 13.475865112107517, 73.19659139753861, 60.88129202112572, 56.6915887901324, 42.59578126278874, 42.324582001689684, 38.12453470535048, 36.58826707066545, 36.315754730712044, 35.54235826689659, 34.15940990400039, 34.035271101658516, 30.51343393288779, 26.589503968295357, 25.647338273814402, 25.52534728854675, 24.9838277769595, 24.45041341632176, 19.42006540345393, 17.94394673567182, 17.932589541528696, 16.938497641244567, 16.388336881102155, 16.27409431213657, 16.029992441174727, 14.8947440817331, 14.4212071226324, 14.347232881707905, 14.123633487525014, 13.67592184097405, 12.845147685852188, 119.23784316662216, 67.67902172377778, 48.298072797080934, 45.21476396097094, 44.79065879124486, 36.95153491423219, 33.560163975545386, 30.8467989414561, 27.234012810541202, 25.53933768161176, 24.9614662170381, 24.663040907622875, 24.40400620081631, 23.538747209425186, 20.2954854286252, 20.059102322705282, 19.59016178292552, 19.450207479770736, 19.334319059454273, 19.16747947477449, 18.623212586153194, 17.36161929139416, 17.358568778551422, 16.91484119100554, 16.912496511111282, 16.766883517696673, 15.961950868561889, 15.550911981448866, 15.366612209676704, 15.361275068925504, 59.69063779857244, 56.278807493037725, 48.78238570155637, 43.40280760552832, 39.53767154067502, 34.24806849409868, 27.564177081164747, 25.330262432160783, 22.643975772276583, 19.94706425028507, 19.93361854741526, 18.851324005572643, 18.1614258464315, 17.973620400310764, 17.898885508108517, 17.447693426268916, 17.288728824154393, 17.12414080628581, 13.24672625371661, 13.20432291505826, 13.059622144231719, 13.02158402431148, 12.035763644684426, 11.34489213933824, 11.145871524579091, 10.813765828155393, 10.643614398016465, 10.180114060359147, 9.596164073998272, 9.09850510763144], \"Category\": [\"Default\", \"Default\", \"Default\", \"Default\", \"Default\", \"Default\", \"Default\", \"Default\", \"Default\", \"Default\", \"Default\", \"Default\", \"Default\", \"Default\", \"Default\", \"Default\", \"Default\", \"Default\", \"Default\", \"Default\", \"Default\", \"Default\", \"Default\", \"Default\", \"Default\", \"Default\", \"Default\", \"Default\", \"Default\", \"Default\", \"Topic1\", \"Topic1\", \"Topic1\", \"Topic1\", \"Topic1\", \"Topic1\", \"Topic1\", \"Topic1\", \"Topic1\", \"Topic1\", \"Topic1\", \"Topic1\", \"Topic1\", \"Topic1\", \"Topic1\", \"Topic1\", \"Topic1\", \"Topic1\", \"Topic1\", \"Topic1\", \"Topic1\", \"Topic1\", \"Topic1\", \"Topic1\", \"Topic1\", \"Topic1\", \"Topic1\", \"Topic1\", \"Topic1\", \"Topic1\", \"Topic1\", \"Topic1\", \"Topic1\", \"Topic1\", \"Topic1\", \"Topic1\", \"Topic1\", \"Topic1\", \"Topic1\", \"Topic1\", \"Topic1\", \"Topic2\", \"Topic2\", \"Topic2\", \"Topic2\", \"Topic2\", \"Topic2\", \"Topic2\", \"Topic2\", \"Topic2\", \"Topic2\", \"Topic2\", \"Topic2\", \"Topic2\", \"Topic2\", \"Topic2\", \"Topic2\", \"Topic2\", \"Topic2\", \"Topic2\", \"Topic2\", \"Topic2\", \"Topic2\", \"Topic2\", \"Topic2\", \"Topic2\", \"Topic2\", \"Topic2\", \"Topic2\", \"Topic2\", \"Topic2\", \"Topic2\", \"Topic2\", \"Topic2\", \"Topic2\", \"Topic2\", \"Topic2\", \"Topic2\", \"Topic2\", \"Topic2\", \"Topic2\", \"Topic2\", \"Topic3\", \"Topic3\", \"Topic3\", \"Topic3\", \"Topic3\", \"Topic3\", \"Topic3\", \"Topic3\", \"Topic3\", \"Topic3\", \"Topic3\", \"Topic3\", \"Topic3\", \"Topic3\", \"Topic3\", \"Topic3\", \"Topic3\", \"Topic3\", \"Topic3\", \"Topic3\", \"Topic3\", \"Topic3\", \"Topic3\", \"Topic3\", \"Topic3\", \"Topic3\", \"Topic3\", \"Topic3\", \"Topic3\", \"Topic3\", \"Topic3\", \"Topic3\", \"Topic3\", \"Topic3\", \"Topic3\", \"Topic3\", \"Topic3\", \"Topic3\", \"Topic3\", \"Topic3\", \"Topic3\", \"Topic3\", \"Topic4\", \"Topic4\", \"Topic4\", \"Topic4\", \"Topic4\", \"Topic4\", \"Topic4\", \"Topic4\", \"Topic4\", \"Topic4\", \"Topic4\", \"Topic4\", \"Topic4\", \"Topic4\", \"Topic4\", \"Topic4\", \"Topic4\", \"Topic4\", \"Topic4\", \"Topic4\", \"Topic4\", \"Topic4\", \"Topic4\", \"Topic4\", \"Topic4\", \"Topic4\", \"Topic4\", \"Topic4\", \"Topic4\", \"Topic4\", \"Topic4\", \"Topic4\", \"Topic4\", \"Topic4\", \"Topic4\", \"Topic4\", \"Topic4\", \"Topic4\", \"Topic4\", \"Topic5\", \"Topic5\", \"Topic5\", \"Topic5\", \"Topic5\", \"Topic5\", \"Topic5\", \"Topic5\", \"Topic5\", \"Topic5\", \"Topic5\", \"Topic5\", \"Topic5\", \"Topic5\", \"Topic5\", \"Topic5\", \"Topic5\", \"Topic5\", \"Topic5\", \"Topic5\", \"Topic5\", \"Topic5\", \"Topic5\", \"Topic5\", \"Topic5\", \"Topic5\", \"Topic5\", \"Topic5\", \"Topic5\", \"Topic5\", \"Topic5\", \"Topic5\", \"Topic5\", \"Topic5\", \"Topic5\", \"Topic5\", \"Topic6\", \"Topic6\", \"Topic6\", \"Topic6\", \"Topic6\", \"Topic6\", \"Topic6\", \"Topic6\", \"Topic6\", \"Topic6\", \"Topic6\", \"Topic6\", \"Topic6\", \"Topic6\", \"Topic6\", \"Topic6\", \"Topic6\", \"Topic6\", \"Topic6\", \"Topic6\", \"Topic6\", \"Topic6\", \"Topic6\", \"Topic6\", \"Topic6\", \"Topic6\", \"Topic6\", \"Topic6\", \"Topic6\", \"Topic6\", \"Topic6\", \"Topic7\", \"Topic7\", \"Topic7\", \"Topic7\", \"Topic7\", \"Topic7\", \"Topic7\", \"Topic7\", \"Topic7\", \"Topic7\", \"Topic7\", \"Topic7\", \"Topic7\", \"Topic7\", \"Topic7\", \"Topic7\", \"Topic7\", \"Topic7\", \"Topic7\", \"Topic7\", \"Topic7\", \"Topic7\", \"Topic7\", \"Topic7\", \"Topic7\", \"Topic7\", \"Topic7\", \"Topic7\", \"Topic7\", \"Topic7\", \"Topic8\", \"Topic8\", \"Topic8\", \"Topic8\", \"Topic8\", \"Topic8\", \"Topic8\", \"Topic8\", \"Topic8\", \"Topic8\", \"Topic8\", \"Topic8\", \"Topic8\", \"Topic8\", \"Topic8\", \"Topic8\", \"Topic8\", \"Topic8\", \"Topic8\", \"Topic8\", \"Topic8\", \"Topic8\", \"Topic8\", \"Topic8\", \"Topic8\", \"Topic8\", \"Topic8\", \"Topic8\", \"Topic8\", \"Topic8\", \"Topic8\", \"Topic9\", \"Topic9\", \"Topic9\", \"Topic9\", \"Topic9\", \"Topic9\", \"Topic9\", \"Topic9\", \"Topic9\", \"Topic9\", \"Topic9\", \"Topic9\", \"Topic9\", \"Topic9\", \"Topic9\", \"Topic9\", \"Topic9\", \"Topic9\", \"Topic9\", \"Topic9\", \"Topic9\", \"Topic9\", \"Topic9\", \"Topic9\", \"Topic9\", \"Topic9\", \"Topic9\", \"Topic9\", \"Topic9\", \"Topic9\", \"Topic10\", \"Topic10\", \"Topic10\", \"Topic10\", \"Topic10\", \"Topic10\", \"Topic10\", \"Topic10\", \"Topic10\", \"Topic10\", \"Topic10\", \"Topic10\", \"Topic10\", \"Topic10\", \"Topic10\", \"Topic10\", \"Topic10\", \"Topic10\", \"Topic10\", \"Topic10\", \"Topic10\", \"Topic10\", \"Topic10\", \"Topic10\", \"Topic10\", \"Topic10\", \"Topic10\", \"Topic10\", \"Topic10\", \"Topic10\", \"Topic11\", \"Topic11\", \"Topic11\", \"Topic11\", \"Topic11\", \"Topic11\", \"Topic11\", \"Topic11\", \"Topic11\", \"Topic11\", \"Topic11\", \"Topic11\", \"Topic11\", \"Topic11\", \"Topic11\", \"Topic11\", \"Topic11\", \"Topic11\", \"Topic11\", \"Topic11\", \"Topic11\", \"Topic11\", \"Topic11\", \"Topic11\", \"Topic11\", \"Topic11\", \"Topic11\", \"Topic11\", \"Topic11\", \"Topic11\", \"Topic12\", \"Topic12\", \"Topic12\", \"Topic12\", \"Topic12\", \"Topic12\", \"Topic12\", \"Topic12\", \"Topic12\", \"Topic12\", \"Topic12\", \"Topic12\", \"Topic12\", \"Topic12\", \"Topic12\", \"Topic12\", \"Topic12\", \"Topic12\", \"Topic12\", \"Topic12\", \"Topic12\", \"Topic12\", \"Topic12\", \"Topic12\", \"Topic12\", \"Topic12\", \"Topic12\", \"Topic12\", \"Topic12\", \"Topic12\"], \"logprob\": [30.0, 29.0, 28.0, 27.0, 26.0, 25.0, 24.0, 23.0, 22.0, 21.0, 20.0, 19.0, 18.0, 17.0, 16.0, 15.0, 14.0, 13.0, 12.0, 11.0, 10.0, 9.0, 8.0, 7.0, 6.0, 5.0, 4.0, 3.0, 2.0, 1.0, -2.1231, -2.3508, -3.7034, -3.9955, -4.2576, -4.4336, -4.4913, -4.4927, -4.5033, -4.5302, -4.588, -4.799, -4.8049, -4.8216, -4.937, -5.0243, -5.0733, -5.1037, -5.1101, -5.2049, -4.3901, -5.2826, -5.2142, -5.3098, -5.3975, -5.4179, -5.4258, -5.4597, -5.5527, -5.5692, -4.3605, -4.2556, -3.9272, -4.1536, -3.9975, -4.9876, -4.2948, -3.6783, -4.3177, -4.254, -4.8242, -2.8474, -3.5704, -3.6676, -3.9214, -3.2364, -4.2675, -4.3573, -4.364, -4.4237, -4.5431, -4.5497, -4.5824, -4.7383, -4.8283, -4.848, -4.8563, -4.9267, -4.9471, -2.7354, -5.1136, -5.2093, -5.2502, -5.2564, -5.2579, -5.3295, -5.3455, -5.4026, -5.4528, -5.503, -5.5157, -4.7568, -3.2952, -3.0758, -3.7626, -3.6132, -3.8311, -3.4488, -3.5959, -4.3102, -4.8397, -5.0624, -3.1671, -3.169, -3.5645, -3.7283, -4.0531, -4.1017, -4.1566, -4.2995, -4.3658, -4.4832, -4.5187, -4.6195, -4.7061, -4.7061, -4.7536, -4.8846, -4.9036, -4.922, -4.9431, -4.9983, -5.0448, -5.1, -5.1081, -5.1599, -5.1605, -5.1877, -5.2068, -5.2312, -5.3126, -5.3453, -2.9038, -3.0865, -4.0235, -4.7072, -3.8748, -3.2867, -3.6603, -3.746, -3.8949, -3.8202, -4.7012, -4.9276, -3.4044, -3.6964, -3.8565, -3.8958, -3.9449, -4.0251, -4.0441, -4.1664, -4.2521, -4.2808, -4.2852, -4.3613, -4.374, -4.416, -4.4502, -4.4913, -4.5117, -4.5841, -4.588, -4.6691, -4.7067, -4.725, -4.8195, -4.8214, -4.8681, -4.8891, -4.9955, -5.028, -5.0286, -5.0568, -3.343, -3.342, -4.3458, -4.7511, -2.8808, -3.8382, -4.0084, -4.1956, -4.5525, -3.5728, -3.7457, -3.7564, -3.7812, -4.0021, -4.1134, -4.1825, -4.1834, -4.1862, -4.2971, -4.4113, -4.4255, -4.4364, -4.5195, -4.529, -4.5431, -4.6152, -4.6599, -4.6715, -4.7131, -4.7791, -4.7904, -4.8504, -4.8782, -4.8829, -4.8896, -4.9456, -5.0011, -5.0459, -5.1271, -3.2371, -3.0473, -3.6357, -3.098, -4.5687, -4.863, -3.2155, -3.25, -3.6316, -3.6821, -3.6943, -3.8917, -3.9047, -3.9783, -4.119, -4.1196, -4.1305, -4.1388, -4.1849, -4.1964, -4.2012, -4.2017, -4.262, -4.3351, -4.3516, -4.3525, -4.3689, -4.4124, -4.4124, -4.5021, -4.5786, -4.5792, -4.6956, -4.7218, -4.7391, -4.7837, -4.6777, -3.0658, -3.347, -3.4849, -3.5551, -3.7465, -3.8045, -4.1201, -4.1528, -4.1534, -4.155, -4.1608, -4.1731, -4.2095, -4.2244, -4.3104, -4.3334, -4.3631, -4.3756, -4.3766, -4.3888, -4.4267, -4.4352, -4.476, -4.5425, -4.5751, -4.6011, -4.6649, -4.6783, -4.6977, -4.7167, -2.6528, -3.055, -3.0689, -3.3404, -3.4406, -3.5051, -3.5509, -3.6123, -3.7044, -3.7523, -3.8407, -3.9873, -4.0697, -4.1644, -4.1682, -4.2109, -4.4066, -4.4752, -4.4843, -4.5214, -4.5319, -4.6362, -4.6801, -4.684, -4.7325, -4.7439, -4.7825, -4.7946, -4.8037, -4.8443, -4.5159, -3.0153, -3.1334, -3.3071, -3.3201, -3.3345, -3.3879, -3.5275, -3.789, -3.8957, -3.9086, -4.0151, -4.1237, -4.1876, -4.204, -4.3012, -4.3535, -4.3824, -4.4099, -4.4256, -4.4446, -4.4776, -4.4904, -4.5334, -4.5433, -4.6138, -4.6626, -4.7549, -4.7911, -4.8147, -4.868, -3.0059, -3.1927, -3.2651, -3.5563, -3.5629, -3.6698, -3.7119, -3.7196, -3.7417, -3.7824, -3.7862, -3.8985, -4.0407, -4.0781, -4.083, -4.1052, -4.1276, -4.368, -4.451, -4.4517, -4.5119, -4.5468, -4.5542, -4.5702, -4.6482, -4.6826, -4.6881, -4.7049, -4.7393, -4.8066, -2.5103, -3.0824, -3.4253, -3.4925, -3.5021, -3.6989, -3.7977, -3.8844, -4.013, -4.0795, -4.1033, -4.1158, -4.1267, -4.1642, -4.3189, -4.3311, -4.3559, -4.3634, -4.3697, -4.3788, -4.409, -4.4829, -4.4831, -4.5104, -4.5106, -4.5197, -4.5718, -4.5994, -4.6121, -4.6125, -2.9536, -3.0134, -3.1589, -3.2781, -3.3734, -3.5207, -3.7444, -3.8319, -3.9485, -4.0809, -4.0816, -4.1402, -4.1794, -4.1903, -4.1947, -4.2216, -4.2313, -4.2414, -4.5146, -4.518, -4.5299, -4.533, -4.6179, -4.682, -4.7012, -4.7342, -4.7515, -4.8003, -4.8653, -4.9243], \"loglift\": [30.0, 29.0, 28.0, 27.0, 26.0, 25.0, 24.0, 23.0, 22.0, 21.0, 20.0, 19.0, 18.0, 17.0, 16.0, 15.0, 14.0, 13.0, 12.0, 11.0, 10.0, 9.0, 8.0, 7.0, 6.0, 5.0, 4.0, 3.0, 2.0, 1.0, 0.8645, 0.8644, 0.8638, 0.8635, 0.8632, 0.8629, 0.8628, 0.8628, 0.8628, 0.8628, 0.8626, 0.8622, 0.8622, 0.8621, 0.8618, 0.8616, 0.8614, 0.8613, 0.8613, 0.8609, 0.8607, 0.8606, 0.8606, 0.8605, 0.8602, 0.8601, 0.86, 0.8599, 0.8594, 0.8593, 0.8559, 0.8542, 0.8207, 0.8238, 0.8065, 0.8467, 0.7734, 0.6846, 0.716, 0.2612, 0.5772, 1.8588, 1.8578, 1.8576, 1.8569, 1.8563, 1.8558, 1.8554, 1.8554, 1.8551, 1.8545, 1.8545, 1.8543, 1.8534, 1.8528, 1.8527, 1.8526, 1.8521, 1.852, 1.8512, 1.8506, 1.8496, 1.8492, 1.8492, 1.8491, 1.8484, 1.8482, 1.8475, 1.8468, 1.8462, 1.846, 1.8423, 1.8147, 1.7967, 1.7298, 1.5669, 1.4463, 1.0665, 0.9911, 0.0527, 0.9521, 1.3259, 2.0923, 2.0923, 2.0915, 2.0908, 2.0899, 2.0897, 2.0895, 2.0888, 2.0884, 2.0878, 2.0875, 2.0868, 2.0862, 2.0862, 2.0858, 2.0847, 2.0845, 2.0843, 2.0841, 2.0836, 2.0831, 2.0825, 2.0824, 2.0818, 2.0818, 2.0814, 2.0812, 2.0809, 2.0798, 2.0793, 2.0567, 2.0574, 2.0266, 2.0575, 2.0032, 1.9532, 1.9756, 1.9339, 1.6606, 1.595, 0.7002, 0.106, 2.3583, 2.3574, 2.3568, 2.3566, 2.3564, 2.356, 2.3559, 2.3552, 2.3547, 2.3545, 2.3545, 2.3539, 2.3538, 2.3535, 2.3533, 2.3529, 2.3528, 2.3521, 2.3521, 2.3513, 2.351, 2.3508, 2.3498, 2.3498, 2.3492, 2.349, 2.3476, 2.3472, 2.3472, 2.3468, 2.239, 2.2069, 2.2785, 2.3003, 1.7062, 1.5822, 1.4068, 0.9846, 1.5426, 2.6023, 2.6015, 2.6015, 2.6013, 2.6001, 2.5993, 2.5988, 2.5988, 2.5988, 2.5979, 2.5969, 2.5968, 2.5967, 2.5958, 2.5957, 2.5956, 2.5948, 2.5942, 2.5941, 2.5936, 2.5927, 2.5925, 2.5917, 2.5913, 2.5912, 2.5911, 2.5902, 2.5893, 2.5885, 2.587, 2.5688, 2.5481, 2.5538, 2.4796, 1.2612, 1.6767, 3.5762, 3.5759, 3.5722, 3.5716, 3.5714, 3.5687, 3.5685, 3.5673, 3.5648, 3.5648, 3.5646, 3.5644, 3.5635, 3.5633, 3.5632, 3.5632, 3.5619, 3.5603, 3.5599, 3.5598, 3.5594, 3.5584, 3.5584, 3.556, 3.5538, 3.5538, 3.5501, 3.5493, 3.5487, 3.5471, 0.1263, 3.6117, 3.6094, 3.6081, 3.6073, 3.6049, 3.6041, 3.5987, 3.5981, 3.5981, 3.598, 3.5979, 3.5976, 3.5969, 3.5965, 3.5946, 3.594, 3.5933, 3.593, 3.593, 3.5926, 3.5917, 3.5914, 3.5903, 3.5884, 3.5874, 3.5866, 3.5845, 3.5841, 3.5834, 3.5827, 3.8335, 3.8306, 3.8305, 3.8278, 3.8266, 3.8258, 3.8251, 3.8242, 3.8228, 3.822, 3.8204, 3.8175, 3.8156, 3.8133, 3.8132, 3.8121, 3.8063, 3.804, 3.8037, 3.8024, 3.802, 3.798, 3.7962, 3.796, 3.7939, 3.7934, 3.7916, 3.7911, 3.7906, 3.7887, 1.362, 4.1216, 4.1202, 4.1178, 4.1176, 4.1174, 4.1166, 4.1142, 4.1088, 4.1061, 4.1058, 4.1028, 4.0994, 4.0973, 4.0967, 4.0931, 4.091, 4.0898, 4.0887, 4.088, 4.0871, 4.0856, 4.0851, 4.083, 4.0825, 4.079, 4.0764, 4.0711, 4.0689, 4.0674, 4.064, 4.2338, 4.2313, 4.2301, 4.2248, 4.2246, 4.2222, 4.2212, 4.221, 4.2205, 4.2194, 4.2193, 4.2162, 4.2117, 4.2104, 4.2102, 4.2094, 4.2086, 4.1986, 4.1946, 4.1945, 4.1914, 4.1895, 4.1891, 4.1882, 4.1837, 4.1816, 4.1812, 4.1802, 4.1779, 4.1733, 4.2415, 4.2357, 4.2302, 4.2289, 4.2287, 4.2244, 4.2218, 4.2194, 4.2154, 4.2131, 4.2123, 4.2118, 4.2114, 4.21, 4.2036, 4.2031, 4.2019, 4.2016, 4.2013, 4.2009, 4.1994, 4.1957, 4.1957, 4.1943, 4.1943, 4.1938, 4.1909, 4.1893, 4.1886, 4.1886, 4.4901, 4.4891, 4.4866, 4.4843, 4.4822, 4.4785, 4.4719, 4.4689, 4.4645, 4.4589, 4.4588, 4.4561, 4.4542, 4.4536, 4.4534, 4.452, 4.4515, 4.451, 4.4345, 4.4343, 4.4335, 4.4333, 4.4271, 4.4221, 4.4206, 4.4179, 4.4164, 4.4122, 4.4062, 4.4005]}, \"token.table\": {\"Topic\": [9, 4, 7, 8, 6, 3, 7, 11, 4, 1, 4, 7, 9, 12, 8, 12, 5, 8, 12, 5, 3, 7, 2, 4, 7, 1, 9, 5, 11, 11, 12, 10, 4, 3, 12, 4, 8, 12, 1, 2, 2, 3, 5, 12, 8, 6, 2, 4, 2, 8, 2, 1, 2, 1, 2, 9, 6, 1, 4, 2, 9, 6, 7, 5, 10, 12, 5, 12, 5, 2, 5, 5, 7, 9, 1, 12, 6, 4, 3, 8, 2, 11, 1, 11, 1, 4, 9, 3, 9, 1, 5, 12, 1, 1, 1, 2, 4, 1, 4, 3, 1, 2, 5, 12, 6, 8, 1, 5, 12, 1, 3, 2, 2, 4, 12, 10, 1, 10, 1, 2, 4, 8, 6, 1, 2, 5, 12, 7, 9, 12, 4, 10, 5, 6, 2, 1, 4, 6, 7, 10, 10, 6, 11, 1, 4, 2, 10, 3, 3, 3, 4, 5, 11, 10, 10, 12, 9, 3, 2, 10, 3, 6, 2, 6, 7, 8, 11, 4, 6, 1, 2, 1, 3, 4, 6, 8, 8, 4, 9, 3, 2, 5, 9, 4, 2, 1, 3, 2, 5, 4, 6, 3, 1, 3, 4, 11, 11, 8, 4, 11, 5, 6, 5, 5, 6, 6, 3, 9, 6, 1, 2, 9, 5, 10, 8, 7, 12, 2, 7, 10, 8, 10, 11, 4, 1, 3, 12, 7, 3, 4, 7, 2, 3, 10, 3, 1, 2, 1, 1, 10, 11, 3, 3, 4, 12, 11, 6, 1, 3, 8, 1, 1, 3, 4, 2, 4, 2, 2, 7, 7, 1, 7, 4, 1, 1, 3, 1, 3, 5, 9, 1, 8, 5, 11, 9, 7, 4, 6, 7, 1, 3, 10, 1, 6, 9, 11, 1, 4, 11, 10, 4, 4, 12, 6, 2, 6, 9, 7, 1, 3, 9, 1, 10, 8, 5, 5, 7, 1, 2, 3, 6, 5, 7, 12, 8, 11, 10, 3, 11, 9, 12, 3, 4, 1, 8, 7, 4, 6, 2, 8, 5, 11, 12, 8, 1, 4, 2, 11, 5, 9, 3, 11, 5, 9, 3, 7, 6, 8, 2, 2, 5, 4, 6, 2, 8, 8, 10, 11, 2, 9, 6, 1, 5, 6, 11, 2, 9, 11, 3, 10, 7, 10, 10, 9, 2, 11, 5, 11, 7, 10, 8, 3, 9, 9, 9, 8, 1, 12, 6, 9, 5, 9, 11, 10, 2, 1, 5, 4, 5, 4, 4, 12, 7, 12, 3, 8, 1, 3, 5, 3, 4, 5, 6, 1, 3, 1, 3, 10, 2, 1, 4, 8, 3, 10, 5, 10, 7, 1, 4, 2, 7, 1, 8, 6, 12, 1, 12, 11, 5, 1, 3, 4, 7, 1, 2, 3, 1, 3, 1, 10, 11, 1, 12, 1, 8], \"Freq\": [0.9750938144752623, 0.9938771042367904, 0.9799917788654737, 0.9752358384898621, 0.9770341775208493, 0.9964458739541808, 0.9627728779902196, 0.9110661353960557, 0.9847591745577846, 0.11195777088781725, 0.8852474907408805, 0.9676330567832578, 0.9865097961803188, 0.9378747518903271, 0.9338911874800013, 0.9884297132005355, 0.9893676418564812, 0.9834782684735514, 0.9458305906864524, 0.987230393039383, 0.9946577850613939, 0.9636773322267197, 0.9915440949706777, 0.9931375000587293, 0.9863313701726063, 0.9960900163043014, 0.966768036961277, 0.9891951861417506, 0.9546885426277113, 0.9215730244661516, 0.9474832747697156, 0.9473946980796988, 0.9928236083716306, 0.9916461452530799, 0.9676793349804026, 0.9950824529353955, 0.9867444364585118, 0.8792653194523066, 0.007697613019080764, 0.9910676762066483, 0.9980248162297034, 0.9861245456143558, 0.9888402673948689, 0.9743408245817251, 0.9875634038144694, 0.9935163784259717, 0.745584792625201, 0.25259297880993964, 0.9976345017005019, 0.9793036306163301, 0.9935722583402695, 0.3379093401502934, 0.6604591648392097, 0.014398288044893248, 0.9862827310751875, 0.9621276167790738, 0.9740699450462779, 0.997820198389581, 0.9969692769734014, 0.9946640212711695, 0.9472803409157019, 0.973751944225769, 0.9758163975622806, 0.986315207300824, 0.9660588427241943, 0.9395304664422633, 0.9919860319296859, 0.9525211209829268, 0.993456007578915, 0.9862362973973404, 0.9971474669514497, 0.9883930140301864, 0.9679610933498465, 0.9797425551386202, 0.998070049527646, 0.9188627256953417, 0.9814967276462183, 0.9856673834695433, 0.9887811401140546, 0.9447125348418607, 0.9907609588816401, 0.9731237144278065, 0.9955576420011462, 0.9217349773542335, 0.912702139291842, 0.08566317007005343, 0.9646876020093158, 0.9952758590811581, 0.9351695662654129, 0.7373092878531249, 0.2602268074775735, 0.9254584395844137, 0.9972558190889995, 0.9998571768138879, 0.96005964594006, 0.0256015905584016, 0.014223105865778667, 0.9565819875007617, 0.04183632805854395, 0.9933846663999, 0.5465296655495152, 0.4524548870532871, 0.9892428267363492, 0.934353447626805, 0.977291104659586, 0.9501286896866347, 0.11664540370564544, 0.88132082799821, 0.8814539510098252, 0.12944390878241957, 0.8691233875391028, 0.9939451160627704, 0.07382687763447242, 0.9228359704309053, 0.9795322356439851, 0.9695824047187311, 0.9961385692720504, 0.9794186036880104, 0.06064388123487915, 0.4196941621969414, 0.5198046962989641, 0.981363881854001, 0.9600290222153146, 0.1457733391208602, 0.5889242900482753, 0.26822294398238283, 0.8840765384982815, 0.9821654757181745, 0.9761209611290234, 0.8971931874459352, 0.990733949863674, 0.9831735119024279, 0.9868744023922471, 0.9701060737912199, 0.987842880397996, 0.9978423536357153, 0.9885304441753238, 0.9835087005697669, 0.9460930483372525, 0.9747600212192262, 0.9855244198690805, 0.9950004068450367, 0.9788820803289633, 0.9972998157100431, 0.9957073978378522, 0.9978356000132177, 0.9060980683302654, 0.9980429227744942, 0.9933931540393445, 0.6082112385575662, 0.38564118386802204, 0.006610991723451806, 0.9823476855982434, 0.9217102784523991, 0.9783695165424511, 0.9548400947688882, 0.9712662577569116, 0.9970959943390895, 0.9986855088340593, 0.9836523617467404, 0.996079399634914, 0.988395662255729, 0.9963024371457613, 0.9803391591760051, 0.9496944415467748, 0.9921001285149265, 0.9771123244312057, 0.9817198697842466, 0.9673520963768883, 0.11902644464334389, 0.8784151614678779, 0.035277134143418154, 0.9642416665867628, 0.9891791911252344, 0.98318381892877, 0.9398102085877114, 0.9829198732899568, 0.997090296882858, 0.9860962386692971, 0.989307863807291, 0.03582485579236748, 0.9640143013218886, 0.917747014061563, 0.9884100574198044, 0.9979329366715218, 0.9888436717548712, 0.009742302184777056, 0.9387038113503695, 0.060189739609096, 0.9392984800235811, 0.04526739662764246, 0.9861462606440252, 0.02548863532791027, 0.9600719306846202, 0.9973787929007605, 0.9113826773612534, 0.9309870156093341, 0.9876982666232974, 0.9949832287774724, 0.9698745835044662, 0.9879506883344606, 0.9636734977600707, 0.9920971549815001, 0.9940520707435158, 0.9696217587284112, 0.980100076847493, 0.990350967979115, 0.9177161653951391, 0.9880007419402113, 0.8355320015702768, 0.16387506108146316, 0.9344270695578116, 0.9814093564604536, 0.9445938086646266, 0.986368631292356, 0.9625481818820782, 0.9058841988701308, 0.9953323310195805, 0.9752690370416451, 0.9399288717668931, 0.978640560987089, 0.9778294484546133, 0.9742491099100271, 0.9820675503990789, 0.034963626091668455, 0.9635975350863827, 0.913942839419095, 0.9772291550433735, 0.9956144599554326, 0.9861380019294659, 0.9706098902425004, 0.9924500772283615, 0.9938072742446891, 0.9687041917711838, 0.9879303872735686, 0.042219231535161154, 0.9564279759311508, 0.9953726419262213, 0.9973799037037548, 0.9707925197210875, 0.9665357100301498, 0.9965015085794244, 0.9848210247241617, 0.9975936780522843, 0.9715608346010944, 0.9896187054902327, 0.98952415272797, 0.9975542222452078, 0.9135584110777618, 0.0840053711335873, 0.9980439759354429, 0.10830640045278139, 0.032743795485724606, 0.8563761896266435, 0.9958921814887463, 0.001595981060078119, 0.9961139613824362, 0.9909519803912811, 0.9872006870551799, 0.9659348450086642, 0.9972436344507052, 0.9909726367958748, 0.9926712206843574, 0.9968180007983514, 0.9984368901395492, 0.9942280501648769, 0.9965558200702903, 0.9866923907293306, 0.9821856645058431, 0.9835057605689375, 0.9976912756671907, 0.9354264294776288, 0.984064801911955, 0.939090610410672, 0.9782820295034862, 0.9871004943350954, 0.9981403284613833, 0.9762612489008, 0.9749349059145327, 0.9916720649382428, 0.007225297376599219, 0.970503647741761, 0.9966625694424538, 0.9908922099074331, 0.9536070042481798, 0.9899670280910811, 0.5566976336836235, 0.43926922657848416, 0.9731334667141132, 0.9152850657650878, 0.9936586520639789, 0.9945631195617625, 0.9247472304202647, 0.9836237335128041, 0.9948387617142325, 0.9713946260728323, 0.9288191215778661, 0.9783062666307463, 0.994851837936427, 0.9856171722871145, 0.9825672331023081, 0.9946705597331436, 0.9505757747935544, 0.9855286688472654, 0.9798200403909118, 0.9955046823752122, 0.960312777942365, 0.9435583300047928, 0.02152604555144014, 0.0023917828390489044, 0.03109317690763576, 0.9730692307194043, 0.9794348685954168, 0.9497798056922983, 0.9716269145591259, 0.9472009113036697, 0.9878008571484457, 0.9840108933052453, 0.9768533327863481, 0.9346955816954289, 0.9531636192799364, 0.9355522141974457, 0.06237014761316305, 0.9940078441120723, 0.9444224444422789, 0.9966737859287628, 0.9922751257880967, 0.964849578802383, 0.9930318472658063, 0.9915789428943247, 0.986345985075341, 0.9460460192549466, 0.9360498533401382, 0.9640565073589696, 0.9817397129481618, 0.01675323742232358, 0.9956088262471846, 0.9614819815199066, 0.990926525566454, 0.9371251800229004, 0.9938840306125216, 0.9833086639280557, 0.9943215662713394, 0.9742893346729703, 0.996607977373288, 0.9929339514852303, 0.9579345795765966, 0.9968753304471488, 0.9855105670956003, 0.047798614542118534, 0.9464125679339469, 0.985501581963718, 0.9648937673284681, 0.9888964636608336, 0.976196815146611, 0.9693919720737223, 0.9479947087748267, 0.9397347557022924, 0.9975791567519827, 0.9766727054434311, 0.9797873058099493, 0.9977423208668038, 0.9446299509797413, 0.05541125410775019, 0.9361687882174023, 0.9933810867489316, 0.9496826243282922, 0.9459148814538084, 0.9884055638525975, 0.9204430298678109, 0.983153877823109, 0.9815784948641774, 0.9606214153514617, 0.9802020913114735, 0.9930127696119547, 0.9542620119661914, 0.9843942281861129, 0.9731160115207877, 0.9790650015147568, 0.9847405098214393, 0.9658206593614882, 0.9895538783710286, 0.9571199258263844, 0.9660161171837737, 0.9449143139736673, 0.940932977106732, 0.9986614440547587, 0.9215468699964483, 0.9880436367074801, 0.9792067697642185, 0.9961390785117163, 0.9863526935319218, 0.9645736544515161, 0.9839219750547548, 0.9987383159182621, 0.5970025818369147, 0.39347897439251195, 0.990296790479635, 0.9932179744896737, 0.9941923467480215, 0.9907806649319856, 0.9087932851380933, 0.986648714136883, 0.9772772816269085, 0.9975328933767249, 0.9735928078078985, 0.34988094529232505, 0.6490545072089509, 0.9946044738997568, 0.9975589799458928, 0.9874124158480992, 0.9965511745680519, 0.9792394541189525, 0.10990927786355642, 0.8875174187482181, 0.8621016648061333, 0.13691317887846097, 0.9357459184741047, 0.9919606404185793, 0.9964253660432206, 0.001869465977567018, 0.9529535337176865, 0.9956392202186327, 0.9342049070573907, 0.9933451362825605, 0.9637690379707483, 0.9518315893494106, 0.5382709854673109, 0.45852713576845006, 0.9915321321735147, 0.9814733111889375, 0.9996854192433057, 0.9743277504858207, 0.9679276639268833, 0.9635579888450136, 0.9991903576344634, 0.9864010317319298, 0.9725482393468692, 0.9878856534609785, 0.14643976444303558, 0.8527962752859132, 0.9935443883352848, 0.9879460324997983, 0.539514034440438, 0.4046355258303285, 0.05459368205647289, 0.749800799303204, 0.24776026411758043, 0.9994483406686895, 0.9860131392094172, 0.9834450869463066, 0.9985464122517355, 0.9839617171176724, 0.9993841207236912, 0.9472551086440465], \"Term\": [\"absolute\", \"ac\", \"active\", \"activity\", \"addition\", \"advice\", \"advise\", \"advocate\", \"affect\", \"ago\", \"ago\", \"alcohol\", \"answer\", \"apart\", \"apply\", \"appointment\", \"appreciate\", \"area\", \"arthritis\", \"article\", \"ask\", \"average\", \"avoid\", \"away\", \"baby\", \"bad\", \"barely\", \"base\", \"battle\", \"bean\", \"bed\", \"bet\", \"bg\", \"big\", \"birth\", \"bit\", \"blame\", \"block\", \"blood\", \"blood\", \"body\", \"book\", \"breakfast\", \"brown\", \"calorie\", \"cancer\", \"carb\", \"carb\", \"carbohydrate\", \"carry\", \"case\", \"cause\", \"cause\", \"cell\", \"cell\", \"center\", \"challenge\", \"change\", \"check\", \"cholesterol\", \"clear\", \"clinic\", \"coffee\", \"common\", \"community\", \"company\", \"compare\", \"complete\", \"complication\", \"concern\", \"condition\", \"consider\", \"constantly\", \"continue\", \"control\", \"cook\", \"cost\", \"couple\", \"course\", \"curative\", \"cut\", \"dad\", \"daily\", \"dairy\", \"day\", \"day\", \"dead\", \"deal\", \"decade\", \"develop\", \"develop\", \"development\", \"diabete\", \"diabetes\", \"diabetic\", \"diabetic\", \"diabetic\", \"diagnose\", \"diagnose\", \"diagnosis\", \"diet\", \"diet\", \"dietary\", \"dietician\", \"difference\", \"directly\", \"disease\", \"disease\", \"dm\", \"doctor\", \"doctor\", \"dose\", \"drink\", \"drink\", \"drive\", \"drop\", \"drug\", \"dry\", \"eat\", \"eat\", \"eat\", \"eating\", \"education\", \"effect\", \"effect\", \"effect\", \"encounter\", \"endocrinologist\", \"enjoy\", \"entirely\", \"especially\", \"event\", \"evidence\", \"exactly\", \"excess\", \"exercise\", \"expect\", \"explain\", \"explanation\", \"extreme\", \"eye\", \"factor\", \"fairly\", \"family\", \"fast\", \"fat\", \"fatigue\", \"feel\", \"figure\", \"find\", \"find\", \"find\", \"fine\", \"finger\", \"fluid\", \"focus\", \"folk\", \"follow\", \"food\", \"foot\", \"forum\", \"free\", \"fruit\", \"future\", \"gd\", \"genetic\", \"gi\", \"glad\", \"glass\", \"glucose\", \"glucose\", \"good\", \"good\", \"gp\", \"group\", \"gym\", \"habit\", \"hard\", \"hbac\", \"head\", \"health\", \"health\", \"healthcare\", \"hear\", \"heart\", \"help\", \"help\", \"high\", \"high\", \"history\", \"history\", \"home\", \"hope\", \"hope\", \"hour\", \"house\", \"hrs\", \"huge\", \"husband\", \"hypo\", \"hypoglycemia\", \"illness\", \"improve\", \"increase\", \"individual\", \"infection\", \"information\", \"initially\", \"instead\", \"insulin\", \"insulin\", \"insurance\", \"intake\", \"interest\", \"interesting\", \"introduce\", \"iron\", \"issue\", \"job\", \"joint\", \"juice\", \"ketone\", \"kid\", \"kind\", \"know\", \"know\", \"l\", \"late\", \"later\", \"lbs\", \"lchf\", \"lead\", \"learn\", \"leg\", \"let\", \"level\", \"level\", \"life\", \"lifestyle\", \"lifetime\", \"light\", \"like\", \"line\", \"link\", \"list\", \"little\", \"local\", \"long\", \"look\", \"look\", \"lose\", \"lot\", \"lot\", \"lot\", \"low\", \"low\", \"lower\", \"m\", \"maintain\", \"majority\", \"manage\", \"maybe\", \"meal\", \"mean\", \"med\", \"medical\", \"medication\", \"member\", \"metabolic\", \"meter\", \"metformin\", \"milk\", \"mom\", \"moment\", \"money\", \"monitor\", \"month\", \"myth\", \"nation\", \"need\", \"need\", \"neuropathy\", \"new\", \"nhs\", \"nice\", \"night\", \"normal\", \"normal\", \"notice\", \"numb\", \"number\", \"nurse\", \"ob\", \"obese\", \"obesity\", \"offer\", \"oil\", \"ok\", \"old\", \"opinion\", \"option\", \"overweight\", \"painful\", \"paper\", \"parent\", \"patient\", \"pay\", \"people\", \"people\", \"people\", \"people\", \"percent\", \"personally\", \"pharmaceutical\", \"physical\", \"piece\", \"place\", \"plan\", \"play\", \"possibility\", \"possibly\", \"post\", \"post\", \"pre\", \"predisposition\", \"pregnancy\", \"pregnant\", \"present\", \"pressure\", \"pretty\", \"prevent\", \"prevention\", \"primary\", \"prior\", \"problem\", \"problem\", \"process\", \"proper\", \"protein\", \"public\", \"question\", \"quit\", \"range\", \"reaction\", \"read\", \"real\", \"receive\", \"recently\", \"recommend\", \"reduce\", \"reduce\", \"regard\", \"register\", \"relate\", \"relationship\", \"relatively\", \"repeat\", \"replace\", \"resistance\", \"resource\", \"rest\", \"reverse\", \"risk\", \"risk\", \"role\", \"run\", \"save\", \"sedentary\", \"self\", \"sensation\", \"sensitivity\", \"shake\", \"share\", \"short\", \"site\", \"slim\", \"small\", \"smoking\", \"snack\", \"soda\", \"solution\", \"sorry\", \"sort\", \"sound\", \"speak\", \"starch\", \"start\", \"stimulate\", \"strip\", \"struggle\", \"study\", \"stuff\", \"sudden\", \"suffer\", \"sugar\", \"suggest\", \"suggest\", \"support\", \"suppose\", \"sure\", \"surgery\", \"suspect\", \"sweet\", \"system\", \"t\", \"tablet\", \"tell\", \"tell\", \"term\", \"test\", \"testing\", \"thank\", \"thin\", \"thing\", \"thing\", \"think\", \"think\", \"thirsty\", \"thread\", \"time\", \"time\", \"tip\", \"today\", \"toe\", \"total\", \"totally\", \"trial\", \"try\", \"try\", \"turn\", \"twice\", \"type\", \"typical\", \"understanding\", \"urine\", \"use\", \"wait\", \"wake\", \"walk\", \"want\", \"want\", \"watch\", \"water\", \"way\", \"way\", \"way\", \"week\", \"week\", \"weight\", \"welcome\", \"white\", \"work\", \"worry\", \"year\", \"zinc\"]}, \"R\": 30, \"lambda.step\": 0.01, \"plot.opts\": {\"xlab\": \"PC1\", \"ylab\": \"PC2\"}, \"topic.order\": [6, 8, 3, 11, 9, 10, 7, 12, 1, 2, 4, 5]};\n",
       "\n",
       "function LDAvis_load_lib(url, callback){\n",
       "  var s = document.createElement('script');\n",
       "  s.src = url;\n",
       "  s.async = true;\n",
       "  s.onreadystatechange = s.onload = callback;\n",
       "  s.onerror = function(){console.warn(\"failed to load library \" + url);};\n",
       "  document.getElementsByTagName(\"head\")[0].appendChild(s);\n",
       "}\n",
       "\n",
       "if(typeof(LDAvis) !== \"undefined\"){\n",
       "   // already loaded: just create the visualization\n",
       "   !function(LDAvis){\n",
       "       new LDAvis(\"#\" + \"ldavis_el285615510042197605876860373\", ldavis_el285615510042197605876860373_data);\n",
       "   }(LDAvis);\n",
       "}else if(typeof define === \"function\" && define.amd){\n",
       "   // require.js is available: use it to load d3/LDAvis\n",
       "   require.config({paths: {d3: \"https://d3js.org/d3.v5\"}});\n",
       "   require([\"d3\"], function(d3){\n",
       "      window.d3 = d3;\n",
       "      LDAvis_load_lib(\"https://cdn.jsdelivr.net/gh/bmabey/pyLDAvis@3.3.1/pyLDAvis/js/ldavis.v3.0.0.js\", function(){\n",
       "        new LDAvis(\"#\" + \"ldavis_el285615510042197605876860373\", ldavis_el285615510042197605876860373_data);\n",
       "      });\n",
       "    });\n",
       "}else{\n",
       "    // require.js not available: dynamically load d3 & LDAvis\n",
       "    LDAvis_load_lib(\"https://d3js.org/d3.v5.js\", function(){\n",
       "         LDAvis_load_lib(\"https://cdn.jsdelivr.net/gh/bmabey/pyLDAvis@3.3.1/pyLDAvis/js/ldavis.v3.0.0.js\", function(){\n",
       "                 new LDAvis(\"#\" + \"ldavis_el285615510042197605876860373\", ldavis_el285615510042197605876860373_data);\n",
       "            })\n",
       "         });\n",
       "}\n",
       "</script>"
      ],
      "text/plain": [
       "PreparedData(topic_coordinates=              x         y  topics  cluster       Freq\n",
       "topic                                                \n",
       "5      0.309977 -0.048595       1        1  42.119774\n",
       "7      0.231544  0.253404       2        1  15.571263\n",
       "2      0.163380 -0.364410       3        1  12.319733\n",
       "10     0.156365  0.094030       4        1   9.431618\n",
       "8      0.019928  0.064917       5        1   7.379696\n",
       "9     -0.093804  0.014176       6        1   2.776549\n",
       "6     -0.108308  0.002026       7        1   2.681822\n",
       "11    -0.115394 -0.027853       8        1   2.150926\n",
       "0     -0.140405  0.002791       9        1   1.604043\n",
       "1     -0.137016  0.003262      10        1   1.431858\n",
       "3     -0.140344  0.002820      11        1   1.427748\n",
       "4     -0.145923  0.003431      12        1   1.104971, topic_info=           Term         Freq        Total Category  logprob  loglift\n",
       "4      diabetes  5142.000000  5142.000000  Default  30.0000  30.0000\n",
       "13         type  4095.000000  4095.000000  Default  29.0000  29.0000\n",
       "1         blood  1039.000000  1039.000000  Default  28.0000  28.0000\n",
       "44        sugar   922.000000   922.000000  Default  27.0000  27.0000\n",
       "197         eat  1038.000000  1038.000000  Default  26.0000  26.0000\n",
       "...         ...          ...          ...      ...      ...      ...\n",
       "5015         ob     9.908025    10.813766  Topic12  -4.7342   4.4179\n",
       "321     company     9.737864    10.643614  Topic12  -4.7515   4.4164\n",
       "1901  encounter     9.274319    10.180114  Topic12  -4.8003   4.4122\n",
       "1224      apart     8.690430     9.596164  Topic12  -4.8653   4.4062\n",
       "522       block     8.192778     9.098505  Topic12  -4.9243   4.4005\n",
       "\n",
       "[441 rows x 6 columns], token_table=      Topic      Freq      Term\n",
       "term                           \n",
       "1836      9  0.975094  absolute\n",
       "1173      4  0.993877        ac\n",
       "781       7  0.979992    active\n",
       "832       8  0.975236  activity\n",
       "2350      6  0.977034  addition\n",
       "...     ...       ...       ...\n",
       "1151     11  0.983445     white\n",
       "271       1  0.998546      work\n",
       "585      12  0.983962     worry\n",
       "93        1  0.999384      year\n",
       "5668      8  0.947255      zinc\n",
       "\n",
       "[455 rows x 3 columns], R=30, lambda_step=0.01, plot_opts={'xlab': 'PC1', 'ylab': 'PC2'}, topic_order=[6, 8, 3, 11, 9, 10, 7, 12, 1, 2, 4, 5])"
      ]
     },
     "execution_count": 9,
     "metadata": {},
     "output_type": "execute_result"
    }
   ],
   "source": [
    "pyLDAvis.enable_notebook()\n",
    "lda_viz = gensimvis.prepare(lda_model, corpus, id2word)\n",
    "lda_viz"
   ]
  },
  {
   "cell_type": "markdown",
   "metadata": {},
   "source": [
    "### Finding optimal number of topics"
   ]
  },
  {
   "cell_type": "code",
   "execution_count": 11,
   "metadata": {},
   "outputs": [
    {
     "name": "stderr",
     "output_type": "stream",
     "text": [
      "D:\\Program Files\\Anaconda\\lib\\site-packages\\ipykernel\\ipkernel.py:287: DeprecationWarning: `should_run_async` will not call `transform_cell` automatically in the future. Please pass the result to `transformed_cell` argument and any exception that happen during thetransform in `preprocessing_exc_tuple` in IPython 7.17 and above.\n",
      "  and should_run_async(code)\n"
     ]
    }
   ],
   "source": [
    "def compute_coherence_values(dictionary, corpus, texts, limit, start=2, step=3):\n",
    "    \"\"\"\n",
    "    Compute c_v coherence for various number of topics\n",
    "\n",
    "    Parameters:\n",
    "    ----------\n",
    "    dictionary : Gensim dictionary\n",
    "    corpus : Gensim corpus\n",
    "    texts : List of input texts\n",
    "    limit : Max num of topics\n",
    "\n",
    "    Returns:\n",
    "    -------\n",
    "    model_list : List of LDA topic models\n",
    "    coherence_values : Coherence values corresponding to the LDA model with respective number of topics\n",
    "    \"\"\"\n",
    "    coherence_values = []\n",
    "    model_list = []\n",
    "    for num_topics in range(start, limit, step):\n",
    "        model = gensim.models.ldamodel.LdaModel(\n",
    "            corpus=corpus,\n",
    "            id2word=id2word,\n",
    "            num_topics=num_topics, \n",
    "            random_state=100,\n",
    "            update_every=1,\n",
    "            chunksize=100,\n",
    "            passes=10,\n",
    "            alpha='auto',\n",
    "            per_word_topics=True\n",
    "        )\n",
    "        model_list.append(model)\n",
    "        coherencemodel = CoherenceModel(model=model, texts=texts, dictionary=dictionary, coherence='c_v')\n",
    "        coherence_values.append(coherencemodel.get_coherence())\n",
    "\n",
    "    return model_list, coherence_values"
   ]
  },
  {
   "cell_type": "code",
   "execution_count": 12,
   "metadata": {},
   "outputs": [
    {
     "name": "stderr",
     "output_type": "stream",
     "text": [
      "D:\\Program Files\\Anaconda\\lib\\site-packages\\ipykernel\\ipkernel.py:287: DeprecationWarning: `should_run_async` will not call `transform_cell` automatically in the future. Please pass the result to `transformed_cell` argument and any exception that happen during thetransform in `preprocessing_exc_tuple` in IPython 7.17 and above.\n",
      "  and should_run_async(code)\n"
     ]
    }
   ],
   "source": [
    "# Can take a long time to run.\n",
    "model_list, coherence_values = compute_coherence_values(dictionary=id2word, corpus=corpus, texts=X, start=2, limit=15, step=1)"
   ]
  },
  {
   "cell_type": "code",
   "execution_count": 13,
   "metadata": {},
   "outputs": [
    {
     "name": "stderr",
     "output_type": "stream",
     "text": [
      "D:\\Program Files\\Anaconda\\lib\\site-packages\\ipykernel\\ipkernel.py:287: DeprecationWarning: `should_run_async` will not call `transform_cell` automatically in the future. Please pass the result to `transformed_cell` argument and any exception that happen during thetransform in `preprocessing_exc_tuple` in IPython 7.17 and above.\n",
      "  and should_run_async(code)\n"
     ]
    },
    {
     "data": {
      "image/png": "[encoded data removed]",
      "text/plain": [
       "<Figure size 432x288 with 1 Axes>"
      ]
     },
     "metadata": {
      "needs_background": "light"
     },
     "output_type": "display_data"
    }
   ],
   "source": [
    "# Show graph\n",
    "limit=15\n",
    "start=2\n",
    "step=1\n",
    "x = range(start, limit, step)\n",
    "plt.plot(x, coherence_values)\n",
    "plt.xlabel(\"Num Topics\")\n",
    "plt.ylabel(\"Coherence score\")\n",
    "plt.legend((\"coherence_values\"), loc='best')\n",
    "plt.show()"
   ]
  },
  {
   "cell_type": "markdown",
   "metadata": {},
   "source": [
    "from the graph above we can see that 12 (or 4) topics seem to have the highest coherence "
   ]
  }
 ],
 "metadata": {
  "interpreter": {
   "hash": "68427c26fce60f0abcad7d141e2fa62abfa6d5f31305d5bf20c70b37ca48f744"
  },
  "kernelspec": {
   "display_name": "Python 3.8.8 ('base')",
   "language": "python",
   "name": "python3"
  },
  "language_info": {
   "codemirror_mode": {
    "name": "ipython",
    "version": 3
   },
   "file_extension": ".py",
   "mimetype": "text/x-python",
   "name": "python",
   "nbconvert_exporter": "python",
   "pygments_lexer": "ipython3",
   "version": "3.8.8"
  },
  "orig_nbformat": 4
 },
 "nbformat": 4,
 "nbformat_minor": 2
}
