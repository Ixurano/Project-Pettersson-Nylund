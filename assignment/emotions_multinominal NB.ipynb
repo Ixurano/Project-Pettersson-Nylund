{
 "cells": [
  {
   "cell_type": "markdown",
   "metadata": {},
   "source": [
    "#### imports for the project"
   ]
  },
  {
   "cell_type": "code",
   "execution_count": 1,
   "metadata": {},
   "outputs": [
    {
     "name": "stderr",
     "output_type": "stream",
     "text": [
      "[nltk_data] Downloading package punkt to\n",
      "[nltk_data]     C:\\Users\\tommy\\AppData\\Roaming\\nltk_data...\n",
      "[nltk_data]   Package punkt is already up-to-date!\n",
      "[nltk_data] Downloading package stopwords to\n",
      "[nltk_data]     C:\\Users\\tommy\\AppData\\Roaming\\nltk_data...\n",
      "[nltk_data]   Package stopwords is already up-to-date!\n"
     ]
    },
    {
     "data": {
      "text/plain": [
       "True"
      ]
     },
     "execution_count": 1,
     "metadata": {},
     "output_type": "execute_result"
    }
   ],
   "source": [
    "import nltk\n",
    "import random\n",
    "from prettytable import PrettyTable\n",
    "import textwrap \n",
    "import numpy as np\n",
    "import string\n",
    "from nltk.corpus import stopwords\n",
    "\n",
    "from nltk.classify import NaiveBayesClassifier\n",
    "from nltk.classify.scikitlearn import SklearnClassifier\n",
    "\n",
    "nltk.download(\"punkt\")\n",
    "nltk.download('stopwords')"
   ]
  },
  {
   "cell_type": "markdown",
   "metadata": {},
   "source": [
    "#### Import excel with pandas Emotions"
   ]
  },
  {
   "cell_type": "code",
   "execution_count": 2,
   "metadata": {},
   "outputs": [],
   "source": [
    "import pandas as pd\n",
    "df_emotions = pd.read_excel('Diabetes-classification.xlsx', sheet_name ='Emotions')\n",
    "\n",
    "# Preparing dataset\n",
    "x_emotion = df_emotions.loc[:,'discussion_text']\n",
    "y_emotion = df_emotions.loc[:,'Label']\n",
    "\n",
    "# removes all duplicates from list \n",
    "Labels_emotion = list(dict.fromkeys(y_emotion))\n",
    "\n",
    "#Remove stopwords\n",
    "lim_punc = [char for char in string.punctuation if char in \"&#^_\"]\n",
    "nopunc = [char for char in x_emotion if char not in lim_punc]\n",
    "nopunc = ''.join(nopunc)\n",
    "\n",
    "other_stop=['•','...in','...the','...you\\'ve','–','—','-','⋆','...','....','..','C.','c','|','...The','...The','...When','...A','C','+','1','2','3','4','5','6','7','8','9','10', '2016',  'speak','also', 'seen','[5].',  'using', 'get',  'instead',  \"that's\",  '......','may', 'e', '...it', 'puts', '...over', '[✯]','happens', \"they're\",'hwo',  '...a', 'called',  '50s','c;', '20',  'per', 'however,','it,', 'yet', 'one', 'bs,', 'ms,', 'sr.',  '...taking',  'may', '...of', 'course,', 'get', 'likely', 'no,']\n",
    "\n",
    "ext_stopwords=stopwords.words('english')+other_stop\n",
    "clean_words = [word for word in nopunc.split() if word.lower() not in ext_stopwords]\n",
    "# puts discussion_text to a str and tokenize it\n",
    "raw_text_emotion = df_emotions['discussion_text'].str.cat()\n",
    "\n",
    "tokens_emotion = nltk.word_tokenize(raw_text_emotion)\n",
    "tokens_emotion_filtered = [clean_words for clean_words in tokens_emotion if clean_words]\n",
    "text_emotion = nltk.Text(tokens_emotion_filtered)"
   ]
  },
  {
   "cell_type": "markdown",
   "metadata": {},
   "source": [
    "#### Multinominal NB classifer for Emotions"
   ]
  },
  {
   "cell_type": "code",
   "execution_count": 3,
   "metadata": {},
   "outputs": [
    {
     "name": "stdout",
     "output_type": "stream",
     "text": [
      "Anticipation\n",
      "Surprise\n",
      "+------------------------------------------+--------------+\n",
      "|             Discussion text              |   Emotion    |\n",
      "+------------------------------------------+--------------+\n",
      "| ,@GuidoGuy202,Cutting,back,on,carbs,shou | Anticipation |\n",
      "| ld,help,you,manage,your,diabetes,better, |              |\n",
      "| but,as,a,t1,on,insulin,you,have,to,be,ca |              |\n",
      "| reful,to,do,this,gradually,reducing,your |              |\n",
      "| ,insulin,as,you,go,along,otherwise,you,r |              |\n",
      "| un,the,risk,of,hypoglycaemic,attacks..,T |              |\n",
      "|       here,are,a,number,of,t1's,on       |              |\n",
      "|                                          |              |\n",
      "|                                          |              |\n",
      "| Hi,there,,I,have,had,type,2,diabetes,for |   Surprise   |\n",
      "| ,about,20,years..,Not,always,in,control, |              |\n",
      "|    ..,but,doing,better,with,insulin.     |              |\n",
      "|                                          |              |\n",
      "|                                          |              |\n",
      "+------------------------------------------+--------------+\n"
     ]
    }
   ],
   "source": [
    "# the reviews will be stored as document pairs of words and category\n",
    "X_list_of_words = [sentence.split(\" \") for sentence in x_emotion]\n",
    "documents = list(zip(X_list_of_words, y_emotion))\n",
    "\n",
    "#give random order to the documents\n",
    "random.Random(5).shuffle(documents)\n",
    "\n",
    "tab = PrettyTable(['Discussion text', 'Emotion'])\n",
    "tab.horizontal_char = '-'\n",
    "\n",
    "for (doc, cat) in documents[0:2]:\n",
    "    feats = textwrap.fill(','.join(doc[:50]), width=40)\n",
    "    tab.add_row([ feats, cat])\n",
    "    tab.add_row([ '\\n', '\\n'])\n",
    "    print(cat)\n",
    "\n",
    "print(tab)\n"
   ]
  },
  {
   "cell_type": "code",
   "execution_count": 4,
   "metadata": {},
   "outputs": [
    {
     "name": "stdout",
     "output_type": "stream",
     "text": [
      "total words from emotion corpus:  276377\n",
      "most freq words:  [('think', 398), ('other', 398), ('does', 393), ('many', 389), ('only', 387), ('day', 385), ('time', 383), ('much', 380), ('help', 379), ('risk', 376)]\n",
      "word_features[:25]:  ['i', '..', 'and', 'the', 'to', 'a', 'of', 'diabetes', '2', 'type', 'is', 'my', 'that', 'have', 'in', 'it', 'with', 'for', 'you', 'was', 'on', 'as', 'not', 'but', ')']\n"
     ]
    }
   ],
   "source": [
    "print('total words from emotion corpus: ', len(text_emotion))\n",
    "\n",
    "# load all the words in freq distribution\n",
    "all_words = nltk.FreqDist(w.lower() for w in text_emotion)\n",
    "\n",
    "#construct a list of the 2000 most frequent words in the overall corpus (you can try with other numbers as well)\n",
    "most_freq_words = all_words.most_common(6000)\n",
    "print('most freq words: ', most_freq_words[100:110])\n",
    "\n",
    "word_features = [word for (word, count) in most_freq_words]\n",
    "print('word_features[:25]: ', word_features[:25])\n"
   ]
  },
  {
   "cell_type": "code",
   "execution_count": 5,
   "metadata": {},
   "outputs": [
    {
     "name": "stdout",
     "output_type": "stream",
     "text": [
      "transformed document features, printing the first 25 features \n",
      "\n",
      " {'contains(i)': True, 'contains(..)': True, 'contains(and)': True, 'contains(the)': True, 'contains(to)': True, 'contains(a)': True, 'contains(of)': True, 'contains(diabetes)': True, 'contains(2)': True, 'contains(type)': True, 'contains(is)': True, 'contains(my)': True, 'contains(that)': True, 'contains(have)': True, 'contains(in)': True, 'contains(it)': True, 'contains(with)': True, 'contains(for)': True, 'contains(you)': True, 'contains(was)': True, 'contains(on)': True, 'contains(as)': True, 'contains(not)': True, 'contains(but)': True, 'contains())': True}\n"
     ]
    }
   ],
   "source": [
    "def get_document_features(document, doc_features):\n",
    "    \"\"\"\n",
    "        This function will convert given document into a feature set.\n",
    "        Note that we need to add the feature set that is relevant to the document we are inputting\n",
    "        \n",
    "    \"\"\"\n",
    "    #checking whether a word occurs in a set is much faster than checking whether it occurs in a list \n",
    "    document_words = set(document)\n",
    "    features = {}\n",
    "    \n",
    "    #the feaures dict will consist of words as keys and boolean value of whether they exist in the document\n",
    "    for word in doc_features:\n",
    "        features['contains({})'.format(word)] = (word in document_words)\n",
    "    return features\n",
    "\n",
    "\n",
    "# test code for the above function\n",
    "words_doc = text_emotion\n",
    "\n",
    "feat_dict = get_document_features(words_doc, word_features)\n",
    "\n",
    "feat_dict_25 = {k: feat_dict[k] for k in list(feat_dict.keys())[:25]}\n",
    "print('transformed document features, printing the first 25 features \\n\\n', feat_dict_25)\n",
    "\n"
   ]
  },
  {
   "cell_type": "code",
   "execution_count": 6,
   "metadata": {},
   "outputs": [
    {
     "name": "stdout",
     "output_type": "stream",
     "text": [
      "0.32\n",
      "Most Informative Features\n",
      "          contains(half) = True            Anger : Trust  =     22.2 : 1.0\n",
      "         contains(bacon) = True            Anger : Antici =     16.3 : 1.0\n",
      "      contains(glycemic) = True            Anger : Antici =     16.3 : 1.0\n",
      "     contains(increases) = True            Anger : Antici =     16.3 : 1.0\n",
      "        contains(joined) = True            Anger : Antici =     16.3 : 1.0\n",
      "        contains(pretty) = True            Anger : Trust  =     13.3 : 1.0\n",
      "      contains(response) = True            Anger : Trust  =     13.3 : 1.0\n",
      "         contains(stone) = True            Anger : Trust  =     13.3 : 1.0\n",
      "        contains(type-2) = True            Anger : Trust  =     13.3 : 1.0\n",
      "            contains(34) = True            Anger : Trust  =     13.3 : 1.0\n",
      "            contains(44) = True            Anger : Trust  =     13.3 : 1.0\n",
      "            contains(48) = True            Anger : Trust  =     13.3 : 1.0\n",
      "        contains(agency) = True            Anger : Trust  =     13.3 : 1.0\n",
      "        contains(annoys) = True            Anger : Trust  =     13.3 : 1.0\n",
      "         contains(apnea) = True            Anger : Trust  =     13.3 : 1.0\n",
      "      contains(articles) = True            Anger : Trust  =     13.3 : 1.0\n",
      "        contains(awhile) = True            Anger : Trust  =     13.3 : 1.0\n",
      "         contains(bring) = True            Anger : Trust  =     13.3 : 1.0\n",
      "       contains(classed) = True            Anger : Trust  =     13.3 : 1.0\n",
      "     contains(companies) = True            Anger : Trust  =     13.3 : 1.0\n"
     ]
    }
   ],
   "source": [
    "#obtain feature set\n",
    "featuresets = [(get_document_features(d,word_features), c) for (d,c) in documents]\n",
    "\n",
    "#split into train and test set (you can experiment with distribution here) 100 - 100 og\n",
    "train_set, test_set = featuresets[100:1000], featuresets[:100]\n",
    "\n",
    "#instantiate classifier\n",
    "classifier = nltk.NaiveBayesClassifier.train(train_set)\n",
    "\n",
    "#print accuracy and most informative features\n",
    "print(nltk.classify.accuracy(classifier, test_set)) \n",
    "\n",
    "classifier.show_most_informative_features(20)\n"
   ]
  },
  {
   "cell_type": "code",
   "execution_count": 7,
   "metadata": {},
   "outputs": [
    {
     "name": "stdout",
     "output_type": "stream",
     "text": [
      "             |     A                   |\n",
      "             |     n                   |\n",
      "             |     t                   |\n",
      "             |     i                   |\n",
      "             |     c              S    |\n",
      "             |     i  D        S  u    |\n",
      "             |     p  i        a  r    |\n",
      "             |  A  a  s        d  p  T |\n",
      "             |  n  t  g  F     n  r  r |\n",
      "             |  g  i  u  e  J  e  i  u |\n",
      "             |  e  o  s  a  o  s  s  s |\n",
      "             |  r  n  t  r  y  s  e  t |\n",
      "-------------+-------------------------+\n",
      "       Anger | <.> .  .  .  .  .  .  1 |\n",
      "Anticipation |  . <6> .  1  1  2  . 19 |\n",
      "     Disgust |  .  3 <.> .  .  .  .  4 |\n",
      "        Fear |  .  .  . <.> .  .  .  3 |\n",
      "         Joy |  .  1  .  . <.> .  .  5 |\n",
      "     Sadness |  1  1  .  .  . <.> .  6 |\n",
      "    Surprise |  .  .  .  .  1  . <.> 5 |\n",
      "       Trust |  .  8  .  1  2  2  1<26>|\n",
      "-------------+-------------------------+\n",
      "(row = reference; col = test)\n",
      "\n"
     ]
    }
   ],
   "source": [
    "from collections import defaultdict\n",
    "refsets = defaultdict(set)\n",
    "testsets = defaultdict(set)\n",
    "labels = []\n",
    "tests = []\n",
    "for i, (feats, label) in enumerate(test_set):\n",
    "    refsets[label].add(i)\n",
    "    observed = classifier.classify(feats)\n",
    "    testsets[observed].add(i)\n",
    "    labels.append(label)\n",
    "    tests.append(observed)\n",
    "\n",
    "print(nltk.ConfusionMatrix(labels, tests))"
   ]
  },
  {
   "cell_type": "code",
   "execution_count": 8,
   "metadata": {},
   "outputs": [
    {
     "name": "stdout",
     "output_type": "stream",
     "text": [
      "result of sample review:  Sadness\n"
     ]
    }
   ],
   "source": [
    "\n",
    "sample_review = \"My sickness got worse, and the doctors won't do anything\"\n",
    "\n",
    "#get features specific to the input text\n",
    "sample_features = {word:True for word in sample_review.split()}\n",
    "\n",
    "sample_review_doc_feats = get_document_features(sample_review.split(),sample_features)\n",
    "\n",
    "\n",
    "print('result of sample review: ', classifier.classify(sample_review_doc_feats))"
   ]
  }
 ],
 "metadata": {
  "interpreter": {
   "hash": "a8f61be024eba58adef938c9aa1e29e02cb3dece83a5348b1a2dafd16a070453"
  },
  "kernelspec": {
   "display_name": "Python 3",
   "language": "python",
   "name": "python3"
  },
  "language_info": {
   "codemirror_mode": {
    "name": "ipython",
    "version": 3
   },
   "file_extension": ".py",
   "mimetype": "text/x-python",
   "name": "python",
   "nbconvert_exporter": "python",
   "pygments_lexer": "ipython3",
   "version": "3.8.8"
  }
 },
 "nbformat": 4,
 "nbformat_minor": 2
}
