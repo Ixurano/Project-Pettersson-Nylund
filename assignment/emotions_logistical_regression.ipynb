{
 "cells": [
  {
   "cell_type": "markdown",
   "metadata": {},
   "source": [
    "# Emotions Logistical Regression"
   ]
  },
  {
   "cell_type": "markdown",
   "metadata": {},
   "source": [
    "### Imports\n"
   ]
  },
  {
   "cell_type": "code",
   "execution_count": 2,
   "metadata": {},
   "outputs": [],
   "source": [
    "import pandas as pd\n",
    "import string\n",
    "import re\n",
    "\n",
    "#spacy \n",
    "import spacy\n",
    "from spacy.lang.en.stop_words import STOP_WORDS\n",
    "\n",
    "#sklearn \n",
    "from sklearn.linear_model import LogisticRegression\n",
    "from sklearn.model_selection import train_test_split\n",
    "from sklearn.feature_extraction.text import CountVectorizer, TfidfVectorizer\n",
    "from sklearn.base import TransformerMixin\n",
    "from sklearn.pipeline import Pipeline\n",
    "\n",
    "# Graphs\n",
    "from sklearn import metrics\n",
    "from IPython.display import display\n",
    "import matplotlib.pyplot as plt\n",
    "from sklearn.metrics import plot_confusion_matrix"
   ]
  },
  {
   "cell_type": "markdown",
   "metadata": {},
   "source": [
    "### Dataset "
   ]
  },
  {
   "cell_type": "code",
   "execution_count": 4,
   "metadata": {},
   "outputs": [
    {
     "name": "stdout",
     "output_type": "stream",
     "text": [
      "['Trust', 'Disgust', 'Anticipation', 'Sadness', 'Anger', 'Fear', 'Joy', 'Surprise']\n"
     ]
    }
   ],
   "source": [
    "# read dataset \n",
    "df = pd.read_excel('Diabetes-classification.xlsx', sheet_name ='Emotions')\n",
    "\n",
    "# the features we want to analyze\n",
    "X = df.loc[:,'discussion_text']\n",
    "\n",
    "# the labels, or answers, we want to test against\n",
    "ylabels = df.loc[:,'Label']\n",
    "\n",
    "# removes all duplicates from list \n",
    "Labels = list(dict.fromkeys(ylabels)) \n",
    "print(Labels)\n",
    "\n",
    "X_train, X_test, y_train, y_test = train_test_split(X, ylabels, test_size=0.3, random_state=42)\n",
    "\n",
    "X_train_test, y_train_test = train_test_split((X, ylabels), test_size=0.3, random_state=42)"
   ]
  },
  {
   "cell_type": "markdown",
   "metadata": {},
   "source": [
    "### Preprocessing\n"
   ]
  },
  {
   "cell_type": "code",
   "execution_count": 5,
   "metadata": {},
   "outputs": [],
   "source": [
    "# Create our list of punctuation marks\n",
    "punctuations = string.punctuation\n",
    "punctuations += \"....\"\n",
    "\n",
    "# Create our list of stopwords\n",
    "stop_words = STOP_WORDS \n",
    "\n",
    "# Load English tokenizer, tagger, parser, NER and word vectors\n",
    "parser = spacy.load('en_core_web_sm')\n",
    "\n",
    "# Creating our tokenizer function\n",
    "def spacy_tokenizer(sentence):\n",
    "    # Creating our token object, which is used to create documents with linguistic annotations.\n",
    "    mytokens = parser(sentence)\n",
    "\n",
    "    # Lemmatizing each token and converting each token into lowercase\n",
    "    mytokens = [ word.lemma_.lower().strip() if word.lemma_ != \"-PRON-\" else word.lower_ for word in mytokens ]\n",
    "\n",
    "    # Removing stop words\n",
    "    mytokens = [ word for word in mytokens if word not in stop_words and word not in punctuations ]\n",
    "\n",
    "    # return preprocessed list of tokens\n",
    "    return mytokens"
   ]
  },
  {
   "cell_type": "code",
   "execution_count": 6,
   "metadata": {},
   "outputs": [],
   "source": [
    "# Custom transformer using spaCy\n",
    "class predictors(TransformerMixin):\n",
    "    def transform(self, X, **transform_params):\n",
    "        # Cleaning Text\n",
    "        return [clean_text(text) for text in X]\n",
    "\n",
    "    def fit(self, X, y=None, **fit_params):\n",
    "        return self\n",
    "\n",
    "    def get_params(self, deep=True):\n",
    "        return {}\n",
    "\n",
    "# Basic function to clean the text\n",
    "def clean_text(text):\n",
    " \n",
    "    # remove numbers \n",
    "    text = re.sub(r'\\d+', '', text)\n",
    "\n",
    "    # remove all links\n",
    "    text = re.sub(\n",
    "        r\"(?i)\\b((?:https?:(?:/{1,3}|[a-z0-9%])|[a-z0-9.\\-]+[.](?:com|net|org|edu|gov|mil|aero|asia|biz|cat|coop|info|int|jobs|mobi|museum|name|post|pro|tel|travel|xxx|ac|ad|ae|af|ag|ai|al|am|an|ao|aq|ar|as|at|au|aw|ax|az|ba|bb|bd|be|bf|bg|bh|bi|bj|bm|bn|bo|br|bs|bt|bv|bw|by|bz|ca|cc|cd|cf|cg|ch|ci|ck|cl|cm|cn|co|cr|cs|cu|cv|cx|cy|cz|dd|de|dj|dk|dm|do|dz|ec|ee|eg|eh|er|es|et|eu|fi|fj|fk|fm|fo|fr|ga|gb|gd|ge|gf|gg|gh|gi|gl|gm|gn|gp|gq|gr|gs|gt|gu|gw|gy|hk|hm|hn|hr|ht|hu|id|ie|il|im|in|io|iq|ir|is|it|je|jm|jo|jp|ke|kg|kh|ki|km|kn|kp|kr|kw|ky|kz|la|lb|lc|li|lk|lr|ls|lt|lu|lv|ly|ma|mc|md|me|mg|mh|mk|ml|mm|mn|mo|mp|mq|mr|ms|mt|mu|mv|mw|mx|my|mz|na|nc|ne|nf|ng|ni|nl|no|np|nr|nu|nz|om|pa|pe|pf|pg|ph|pk|pl|pm|pn|pr|ps|pt|pw|py|qa|re|ro|rs|ru|rw|sa|sb|sc|sd|se|sg|sh|si|sj|Ja|sk|sl|sm|sn|so|sr|ss|st|su|sv|sx|sy|sz|tc|td|tf|tg|th|tj|tk|tl|tm|tn|to|tp|tr|tt|tv|tw|tz|ua|ug|uk|us|uy|uz|va|vc|ve|vg|vi|vn|vu|wf|ws|ye|yt|yu|za|zm|zw)/)(?:[^\\s()<>{}\\[\\]]+|\\([^\\s()]*?\\([^\\s()]+\\)[^\\s()]*?\\)|\\([^\\s]+?\\))+(?:\\([^\\s()]*?\\([^\\s()]+\\)[^\\s()]*?\\)|\\([^\\s]+?\\)|[^\\s`!()\\[\\]{};:\\'\\\".,<>?«»“”‘’])|(?:(?<!@)[a-z0-9]+(?:[.\\-][a-z0-9]+)*[.](?:com|net|org|edu|gov|mil|aero|asia|biz|cat|coop|info|int|jobs|mobi|museum|name|post|pro|tel|travel|xxx|ac|ad|ae|af|ag|ai|al|am|an|ao|aq|ar|as|at|au|aw|ax|az|ba|bb|bd|be|bf|bg|bh|bi|bj|bm|bn|bo|br|bs|bt|bv|bw|by|bz|ca|cc|cd|cf|cg|ch|ci|ck|cl|cm|cn|co|cr|cs|cu|cv|cx|cy|cz|dd|de|dj|dk|dm|do|dz|ec|ee|eg|eh|er|es|et|eu|fi|fj|fk|fm|fo|fr|ga|gb|gd|ge|gf|gg|gh|gi|gl|gm|gn|gp|gq|gr|gs|gt|gu|gw|gy|hk|hm|hn|hr|ht|hu|id|ie|il|im|in|io|iq|ir|is|it|je|jm|jo|jp|ke|kg|kh|ki|km|kn|kp|kr|kw|ky|kz|la|lb|lc|li|lk|lr|ls|lt|lu|lv|ly|ma|mc|md|me|mg|mh|mk|ml|mm|mn|mo|mp|mq|mr|ms|mt|mu|mv|mw|mx|my|mz|na|nc|ne|nf|ng|ni|nl|no|np|nr|nu|nz|om|pa|pe|pf|pg|ph|pk|pl|pm|pn|pr|ps|pt|pw|py|qa|re|ro|rs|ru|rw|sa|sb|sc|sd|se|sg|sh|si|sj|Ja|sk|sl|sm|sn|so|sr|ss|st|su|sv|sx|sy|sz|tc|td|tf|tg|th|tj|tk|tl|tm|tn|to|tp|tr|tt|tv|tw|tz|ua|ug|uk|us|uy|uz|va|vc|ve|vg|vi|vn|vu|wf|ws|ye|yt|yu|za|zm|zw)\\b/?(?!@)))\", \n",
    "        'link_to_website', \n",
    "        text\n",
    "    )\n",
    "\n",
    "    # Removing spaces and converting text into lowercase\n",
    "    return text.strip().lower()\n",
    "\n",
    "def preprocess_text(text):\n",
    "\n",
    "    return text\n",
    "\n",
    "# Only one of the following vectorizers is used at a time \n",
    "\n",
    "bow_vector = CountVectorizer(tokenizer=spacy_tokenizer, ngram_range=(1,1)) # vocabulary=opinion_dictionary # accuracy: 0.335626783017284779325\n",
    "\n",
    "bigram_vector = CountVectorizer(tokenizer=spacy_tokenizer, ngram_range=(2, 2))\n",
    "\n",
    "tfidf_vector = TfidfVectorizer(tokenizer=spacy_tokenizer) # accuracy: 0.15846456692913385"
   ]
  },
  {
   "cell_type": "markdown",
   "metadata": {},
   "source": [
    "### Logistic Regression"
   ]
  },
  {
   "cell_type": "code",
   "execution_count": 8,
   "metadata": {},
   "outputs": [
    {
     "name": "stdout",
     "output_type": "stream",
     "text": [
      "Logistic Regression Accuracy: 0.3454724409448819\n"
     ]
    },
    {
     "data": {
      "image/png": "[encoded data removed]",
      "text/plain": [
       "<Figure size 432x288 with 2 Axes>"
      ]
     },
     "metadata": {
      "needs_background": "light"
     },
     "output_type": "display_data"
    },
    {
     "name": "stderr",
     "output_type": "stream",
     "text": [
      "D:\\Program Files\\Anaconda\\lib\\site-packages\\sklearn\\metrics\\_classification.py:1245: UndefinedMetricWarning: Precision and F-score are ill-defined and being set to 0.0 in labels with no predicted samples. Use `zero_division` parameter to control this behavior.\n",
      "  _warn_prf(average, modifier, msg_start, len(result))\n",
      "D:\\Program Files\\Anaconda\\lib\\site-packages\\sklearn\\metrics\\_classification.py:1245: UndefinedMetricWarning: Precision and F-score are ill-defined and being set to 0.0 in labels with no predicted samples. Use `zero_division` parameter to control this behavior.\n",
      "  _warn_prf(average, modifier, msg_start, len(result))\n",
      "D:\\Program Files\\Anaconda\\lib\\site-packages\\sklearn\\metrics\\_classification.py:1245: UndefinedMetricWarning: Precision and F-score are ill-defined and being set to 0.0 in labels with no predicted samples. Use `zero_division` parameter to control this behavior.\n",
      "  _warn_prf(average, modifier, msg_start, len(result))\n"
     ]
    },
    {
     "data": {
      "text/html": [
       "<div>\n",
       "<style scoped>\n",
       "    .dataframe tbody tr th:only-of-type {\n",
       "        vertical-align: middle;\n",
       "    }\n",
       "\n",
       "    .dataframe tbody tr th {\n",
       "        vertical-align: top;\n",
       "    }\n",
       "\n",
       "    .dataframe thead th {\n",
       "        text-align: right;\n",
       "    }\n",
       "</style>\n",
       "<table border=\"1\" class=\"dataframe\">\n",
       "  <thead>\n",
       "    <tr style=\"text-align: right;\">\n",
       "      <th></th>\n",
       "      <th>precision</th>\n",
       "      <th>recall</th>\n",
       "      <th>f1-score</th>\n",
       "      <th>support</th>\n",
       "    </tr>\n",
       "  </thead>\n",
       "  <tbody>\n",
       "    <tr>\n",
       "      <th>Trust</th>\n",
       "      <td>0.0</td>\n",
       "      <td>0.0</td>\n",
       "      <td>0.0</td>\n",
       "      <td>26.0</td>\n",
       "    </tr>\n",
       "    <tr>\n",
       "      <th>Disgust</th>\n",
       "      <td>0.0</td>\n",
       "      <td>0.0</td>\n",
       "      <td>0.0</td>\n",
       "      <td>278.0</td>\n",
       "    </tr>\n",
       "    <tr>\n",
       "      <th>Anticipation</th>\n",
       "      <td>0.0</td>\n",
       "      <td>0.0</td>\n",
       "      <td>0.0</td>\n",
       "      <td>87.0</td>\n",
       "    </tr>\n",
       "    <tr>\n",
       "      <th>Sadness</th>\n",
       "      <td>0.0</td>\n",
       "      <td>0.0</td>\n",
       "      <td>0.0</td>\n",
       "      <td>40.0</td>\n",
       "    </tr>\n",
       "    <tr>\n",
       "      <th>Anger</th>\n",
       "      <td>0.0</td>\n",
       "      <td>0.0</td>\n",
       "      <td>0.0</td>\n",
       "      <td>84.0</td>\n",
       "    </tr>\n",
       "    <tr>\n",
       "      <th>Fear</th>\n",
       "      <td>0.0</td>\n",
       "      <td>0.0</td>\n",
       "      <td>0.0</td>\n",
       "      <td>94.0</td>\n",
       "    </tr>\n",
       "    <tr>\n",
       "      <th>Joy</th>\n",
       "      <td>0.0</td>\n",
       "      <td>0.0</td>\n",
       "      <td>0.0</td>\n",
       "      <td>53.0</td>\n",
       "    </tr>\n",
       "    <tr>\n",
       "      <th>Surprise</th>\n",
       "      <td>0.3465</td>\n",
       "      <td>0.9915</td>\n",
       "      <td>0.5135</td>\n",
       "      <td>354.0</td>\n",
       "    </tr>\n",
       "    <tr>\n",
       "      <th>accuracy</th>\n",
       "      <td>0.3455</td>\n",
       "      <td>0.3455</td>\n",
       "      <td>0.3455</td>\n",
       "      <td>0.3455</td>\n",
       "    </tr>\n",
       "    <tr>\n",
       "      <th>macro avg</th>\n",
       "      <td>0.0433</td>\n",
       "      <td>0.1239</td>\n",
       "      <td>0.0642</td>\n",
       "      <td>1016.0</td>\n",
       "    </tr>\n",
       "    <tr>\n",
       "      <th>weighted avg</th>\n",
       "      <td>0.1207</td>\n",
       "      <td>0.3455</td>\n",
       "      <td>0.1789</td>\n",
       "      <td>1016.0</td>\n",
       "    </tr>\n",
       "  </tbody>\n",
       "</table>\n",
       "</div>"
      ],
      "text/plain": [
       "             precision  recall f1-score support\n",
       "Trust              0.0     0.0      0.0    26.0\n",
       "Disgust            0.0     0.0      0.0   278.0\n",
       "Anticipation       0.0     0.0      0.0    87.0\n",
       "Sadness            0.0     0.0      0.0    40.0\n",
       "Anger              0.0     0.0      0.0    84.0\n",
       "Fear               0.0     0.0      0.0    94.0\n",
       "Joy                0.0     0.0      0.0    53.0\n",
       "Surprise        0.3465  0.9915   0.5135   354.0\n",
       "accuracy        0.3455  0.3455   0.3455  0.3455\n",
       "macro avg       0.0433  0.1239   0.0642  1016.0\n",
       "weighted avg    0.1207  0.3455   0.1789  1016.0"
      ]
     },
     "metadata": {},
     "output_type": "display_data"
    }
   ],
   "source": [
    "# Emotion datset \n",
    "classifier = LogisticRegression( \n",
    "  C=0.0005180859503235987, \n",
    "  penalty='l2', \n",
    "  solver='lbfgs', \n",
    "  dual=False, \n",
    "  multi_class='multinomial', \n",
    "  tol=1e-3, \n",
    "  max_iter=1000\n",
    ")\n",
    "\n",
    "# Create pipeline using Bag of Words\n",
    "pipe = Pipeline([\n",
    "  ('cleaner', predictors()),\n",
    "  ('vectorizer', bow_vector), # bow_vector, bigram_vector, tfidf_vector\n",
    "  ('classifier', classifier)\n",
    "])\n",
    "\n",
    "# model generation\n",
    "pipe.fit(X_train,y_train)\n",
    "\n",
    "# Predicting with a test dataset\n",
    "predicted = pipe.predict(X_test)\n",
    "\n",
    "# Model Accuracy\n",
    "print(\"Logistic Regression Accuracy:\", metrics.accuracy_score(y_test, predicted))\n",
    "#print(\"Logistic Regression Precision:\",metrics.precision_score(y_test, predicted))\n",
    "#print(\"Logistic Regression Recall:\",metrics.recall_score(y_test, predicted))\n",
    "\n",
    "plot_confusion_matrix(pipe, X_test, y_test)  \n",
    "plt.show()\n",
    "\n",
    "measures_info = metrics.classification_report(y_test, predicted, target_names=Labels, output_dict=True) #, labels=np.unique(predictions) \n",
    "info = pd.DataFrame(measures_info).transpose()\n",
    "info = info.round(decimals=4).astype(object)\n",
    "display(info)"
   ]
  },
  {
   "cell_type": "markdown",
   "metadata": {},
   "source": [
    "### Optimization"
   ]
  },
  {
   "cell_type": "markdown",
   "metadata": {},
   "source": [
    "Optimization based on:\n",
    "- [convergence warning problem info](https://stackoverflow.com/questions/52670012/convergencewarning-liblinear-failed-to-converge-increase-the-number-of-iterati)\n",
    "- [scikit documentation hyperparameter optimization](https://scikit-optimize.github.io/stable/auto_examples/hyperparameter-optimization.html)\n",
    "- [LogisticRegression optimization tutorial](https://coderzcolumn.com/tutorials/machine-learning/scikit-optimize-guide-to-hyperparameters-optimization#3.-Classification-using-Scikit-Learn-)"
   ]
  },
  {
   "cell_type": "code",
   "execution_count": null,
   "metadata": {},
   "outputs": [],
   "source": [
    "from skopt import gp_minimize\n",
    "from skopt import space\n",
    "\n",
    "# function to optimize\n",
    "def objective(args):\n",
    "  C=args[0]\n",
    "  fit_intercept = args[1]\n",
    "\n",
    "  classifier = LogisticRegression(\n",
    "    penalty=\"l2\",\n",
    "    solver=\"lbfgs\",\n",
    "    multi_class='multinomial',\n",
    "    dual=False,\n",
    "    tol=1e-3,\n",
    "    random_state=123,\n",
    "    C=C,\n",
    "    fit_intercept=fit_intercept,\n",
    "    n_jobs=-1,\n",
    "  )\n",
    "\n",
    "\n",
    "  # Create pipeline using Bag of Words\n",
    "  pipe = Pipeline([\n",
    "    (\"cleaner\", predictors()),\n",
    "    ('vectorizer', bow_vector),\n",
    "    ('classifier', classifier)\n",
    "  ])\n",
    "\n",
    "  # model generation\n",
    "  pipe.fit(X_train,y_train)\n",
    "\n",
    "  # Predicting with a test dataset\n",
    "  predicted = pipe.predict(X_test)\n",
    "\n",
    "  return 1 / metrics.accuracy_score(y_test, predicted)\n",
    "\n",
    "\n",
    "# Define the parameter space to optimize in\n",
    "search_space = space.Space([\n",
    "  space.Real(1e-5, 10000000, prior=\"log-uniform\", transform=\"identity\", name=\"C\"),\n",
    "  space.Categorical([True, False], name=\"fit_intercept\"),\n",
    "])\n",
    "\n",
    "# Run optimization\n",
    "res_gp = gp_minimize(objective, search_space, n_calls=50, random_state=42)\n",
    "\n",
    "\n",
    "# Display optimization results \n",
    "best_params = dict(list(zip([\"C\", \"fit_intercept\"], res_gp.x)))\n",
    "print(\"Best Parameters : {}\".format(best_params))\n",
    "print(\"Best Accuracy : {}\".format(1 / res_gp.fun))\n",
    "\"Best score=%.4f\" % (1 / res_gp.fun)"
   ]
  }
 ],
 "metadata": {
  "interpreter": {
   "hash": "68427c26fce60f0abcad7d141e2fa62abfa6d5f31305d5bf20c70b37ca48f744"
  },
  "kernelspec": {
   "display_name": "Python 3.8.8 ('base')",
   "language": "python",
   "name": "python3"
  },
  "language_info": {
   "codemirror_mode": {
    "name": "ipython",
    "version": 3
   },
   "file_extension": ".py",
   "mimetype": "text/x-python",
   "name": "python",
   "nbconvert_exporter": "python",
   "pygments_lexer": "ipython3",
   "version": "3.8.8"
  },
  "orig_nbformat": 4
 },
 "nbformat": 4,
 "nbformat_minor": 2
}
