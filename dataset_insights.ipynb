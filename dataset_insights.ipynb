{
 "cells": [
  {
   "cell_type": "code",
   "execution_count": 2,
   "metadata": {},
   "outputs": [],
   "source": [
    "from IPython.display import display\n",
    "from sklearn.model_selection import train_test_split\n",
    "import pandas as pd\n",
    "import numpy as np"
   ]
  },
  {
   "cell_type": "code",
   "execution_count": 3,
   "metadata": {},
   "outputs": [
    {
     "name": "stdout",
     "output_type": "stream",
     "text": [
      "['Living with diabetes - Nutrition', 'Undiagnosed', 'Clinical Treatment', 'Relatives of diabetes patients', 'Living with diabetes - Lifestyle; Social and Psychological', 'Living with diabetes - Exercise', 'Alternative Treatment', 'Diagnosis ']\n"
     ]
    }
   ],
   "source": [
    "# read dataset \n",
    "#df = pd.read_excel('Diabetes-classification.xlsx', sheet_name ='Emotions')\n",
    "df = pd.read_excel('Diabetes-classification.xlsx', sheet_name ='Patient-journey')\n",
    "# Preparing dataset\n",
    "X = df.loc[:,'discussion_text']# the features we want to analyze\n",
    "ylabels = df.loc[:,'Label']# the labels, or answers, we want to test against\n",
    "\n",
    "# removes all duplicates from list \n",
    "Labels = list(dict.fromkeys(ylabels)) \n",
    "print(Labels)\n",
    "\n",
    "X_train, X_test, y_train, y_test = train_test_split(X, ylabels, test_size=0.3)"
   ]
  },
  {
   "cell_type": "code",
   "execution_count": 4,
   "metadata": {},
   "outputs": [
    {
     "name": "stdout",
     "output_type": "stream",
     "text": [
      "train\n"
     ]
    },
    {
     "data": {
      "text/html": [
       "<div>\n",
       "<style scoped>\n",
       "    .dataframe tbody tr th:only-of-type {\n",
       "        vertical-align: middle;\n",
       "    }\n",
       "\n",
       "    .dataframe tbody tr th {\n",
       "        vertical-align: top;\n",
       "    }\n",
       "\n",
       "    .dataframe thead th {\n",
       "        text-align: right;\n",
       "    }\n",
       "</style>\n",
       "<table border=\"1\" class=\"dataframe\">\n",
       "  <thead>\n",
       "    <tr style=\"text-align: right;\">\n",
       "      <th></th>\n",
       "      <th>0</th>\n",
       "      <th>1</th>\n",
       "      <th>2</th>\n",
       "      <th>3</th>\n",
       "      <th>4</th>\n",
       "      <th>5</th>\n",
       "      <th>6</th>\n",
       "      <th>7</th>\n",
       "    </tr>\n",
       "  </thead>\n",
       "  <tbody>\n",
       "    <tr>\n",
       "      <th>0</th>\n",
       "      <td>Alternative Treatment</td>\n",
       "      <td>Clinical Treatment</td>\n",
       "      <td>Diagnosis</td>\n",
       "      <td>Living with diabetes - Exercise</td>\n",
       "      <td>Living with diabetes - Lifestyle; Social and P...</td>\n",
       "      <td>Living with diabetes - Nutrition</td>\n",
       "      <td>Relatives of diabetes patients</td>\n",
       "      <td>Undiagnosed</td>\n",
       "    </tr>\n",
       "    <tr>\n",
       "      <th>1</th>\n",
       "      <td>8</td>\n",
       "      <td>161</td>\n",
       "      <td>42</td>\n",
       "      <td>121</td>\n",
       "      <td>200</td>\n",
       "      <td>295</td>\n",
       "      <td>33</td>\n",
       "      <td>138</td>\n",
       "    </tr>\n",
       "  </tbody>\n",
       "</table>\n",
       "</div>"
      ],
      "text/plain": [
       "                       0                   1           2  \\\n",
       "0  Alternative Treatment  Clinical Treatment  Diagnosis    \n",
       "1                      8                 161          42   \n",
       "\n",
       "                                 3  \\\n",
       "0  Living with diabetes - Exercise   \n",
       "1                              121   \n",
       "\n",
       "                                                   4  \\\n",
       "0  Living with diabetes - Lifestyle; Social and P...   \n",
       "1                                                200   \n",
       "\n",
       "                                  5                               6  \\\n",
       "0  Living with diabetes - Nutrition  Relatives of diabetes patients   \n",
       "1                               295                              33   \n",
       "\n",
       "             7  \n",
       "0  Undiagnosed  \n",
       "1          138  "
      ]
     },
     "metadata": {},
     "output_type": "display_data"
    },
    {
     "name": "stdout",
     "output_type": "stream",
     "text": [
      "test\n"
     ]
    },
    {
     "data": {
      "text/html": [
       "<div>\n",
       "<style scoped>\n",
       "    .dataframe tbody tr th:only-of-type {\n",
       "        vertical-align: middle;\n",
       "    }\n",
       "\n",
       "    .dataframe tbody tr th {\n",
       "        vertical-align: top;\n",
       "    }\n",
       "\n",
       "    .dataframe thead th {\n",
       "        text-align: right;\n",
       "    }\n",
       "</style>\n",
       "<table border=\"1\" class=\"dataframe\">\n",
       "  <thead>\n",
       "    <tr style=\"text-align: right;\">\n",
       "      <th></th>\n",
       "      <th>0</th>\n",
       "      <th>1</th>\n",
       "      <th>2</th>\n",
       "      <th>3</th>\n",
       "      <th>4</th>\n",
       "      <th>5</th>\n",
       "      <th>6</th>\n",
       "      <th>7</th>\n",
       "    </tr>\n",
       "  </thead>\n",
       "  <tbody>\n",
       "    <tr>\n",
       "      <th>0</th>\n",
       "      <td>Alternative Treatment</td>\n",
       "      <td>Clinical Treatment</td>\n",
       "      <td>Diagnosis</td>\n",
       "      <td>Living with diabetes - Exercise</td>\n",
       "      <td>Living with diabetes - Lifestyle; Social and P...</td>\n",
       "      <td>Living with diabetes - Nutrition</td>\n",
       "      <td>Relatives of diabetes patients</td>\n",
       "      <td>Undiagnosed</td>\n",
       "    </tr>\n",
       "    <tr>\n",
       "      <th>1</th>\n",
       "      <td>6</td>\n",
       "      <td>61</td>\n",
       "      <td>17</td>\n",
       "      <td>64</td>\n",
       "      <td>89</td>\n",
       "      <td>124</td>\n",
       "      <td>18</td>\n",
       "      <td>49</td>\n",
       "    </tr>\n",
       "  </tbody>\n",
       "</table>\n",
       "</div>"
      ],
      "text/plain": [
       "                       0                   1           2  \\\n",
       "0  Alternative Treatment  Clinical Treatment  Diagnosis    \n",
       "1                      6                  61          17   \n",
       "\n",
       "                                 3  \\\n",
       "0  Living with diabetes - Exercise   \n",
       "1                               64   \n",
       "\n",
       "                                                   4  \\\n",
       "0  Living with diabetes - Lifestyle; Social and P...   \n",
       "1                                                 89   \n",
       "\n",
       "                                  5                               6  \\\n",
       "0  Living with diabetes - Nutrition  Relatives of diabetes patients   \n",
       "1                               124                              18   \n",
       "\n",
       "             7  \n",
       "0  Undiagnosed  \n",
       "1           49  "
      ]
     },
     "metadata": {},
     "output_type": "display_data"
    }
   ],
   "source": [
    "# Display info about dataset distribution of classes \n",
    "print(\"train\")\n",
    "arr = pd.DataFrame(np.unique(np.array(y_train), return_counts=True))\n",
    "display(arr)\n",
    "\n",
    "print(\"test\")\n",
    "arr2 = pd.DataFrame(np.unique(np.array(y_test), return_counts=True))\n",
    "display(arr2)"
   ]
  },
  {
   "cell_type": "code",
   "execution_count": null,
   "metadata": {},
   "outputs": [],
   "source": []
  }
 ],
 "metadata": {
  "interpreter": {
   "hash": "68427c26fce60f0abcad7d141e2fa62abfa6d5f31305d5bf20c70b37ca48f744"
  },
  "kernelspec": {
   "display_name": "Python 3.8.8 ('base')",
   "language": "python",
   "name": "python3"
  },
  "language_info": {
   "codemirror_mode": {
    "name": "ipython",
    "version": 3
   },
   "file_extension": ".py",
   "mimetype": "text/x-python",
   "name": "python",
   "nbconvert_exporter": "python",
   "pygments_lexer": "ipython3",
   "version": "3.8.8"
  },
  "orig_nbformat": 4
 },
 "nbformat": 4,
 "nbformat_minor": 2
}
